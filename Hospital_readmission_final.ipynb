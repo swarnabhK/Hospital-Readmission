{
 "cells": [
  {
   "cell_type": "markdown",
   "id": "16ad3167",
   "metadata": {},
   "source": [
    "## Hospital_Readmission( Final Submission)"
   ]
  },
  {
   "cell_type": "markdown",
   "id": "53e23cd1",
   "metadata": {},
   "source": [
    "### By Swarnabh Kashyap"
   ]
  },
  {
   "cell_type": "markdown",
   "id": "35e7fbf5",
   "metadata": {},
   "source": [
    "### Problem Statement:\n",
    "- To predict the early readmission of hospital patients following discharge from hospitals within a 30 day period."
   ]
  },
  {
   "cell_type": "markdown",
   "id": "39893d94",
   "metadata": {},
   "source": [
    "## Setting up the environment"
   ]
  },
  {
   "cell_type": "code",
   "execution_count": 2,
   "id": "f3162e4a",
   "metadata": {},
   "outputs": [],
   "source": [
    "import pandas as pd\n",
    "import numpy as np\n",
    "import matplotlib.pyplot as plt\n",
    "import seaborn as sns\n",
    "from IPython.core.interactiveshell import InteractiveShell\n",
    "InteractiveShell.ast_node_interactivity = \"all\"\n"
   ]
  },
  {
   "cell_type": "markdown",
   "id": "538c5d08",
   "metadata": {},
   "source": [
    "## Reading Data "
   ]
  },
  {
   "cell_type": "code",
   "execution_count": 3,
   "id": "e9af7a3f",
   "metadata": {},
   "outputs": [],
   "source": [
    "#Reading data into training and test dataset\n",
    "train=pd.read_csv(\"diabetic_data_train.csv\",header=0)\n",
    "test=pd.read_csv(\"diabetic_data_test.csv\",header=0)\n",
    "ID_mapping_date = pd.read_csv(\"IDs_mapping.csv\")\n"
   ]
  },
  {
   "cell_type": "markdown",
   "id": "3956c8d3",
   "metadata": {},
   "source": [
    "## Data Exploration\n",
    "##### Dataset Description\n",
    "\n",
    "- Encounter ID: Unique identifier of an encounter\n",
    "- Patient number: Unique identifier of a patient\n",
    "- Race Values: Caucasian, Asian, African American, Hispanic, and other\n",
    "- Gender Values: male, female, and unknown/invalid\n",
    "- Age: Grouped in 10-year intervals: 0, 10), 10, 20), …, 90, 100)\n",
    "- Weight: Weight in pounds\n",
    "- Admission type: Integer identifier corresponding to 9 distinct values, for example, emergency, urgent, elective, newborn, and not available\n",
    "- Discharge disposition: Integer identifier corresponding to 29 distinct values, for example, discharged to home, expired, and not available\n",
    "- Admission source: Integer identifier corresponding to 21 distinct values, for example, physician referral, emergency room, and transfer from a hospital\n",
    "- Time in hospital: Integer number of days between admission and discharge\n",
    "- Payer code : Integer identifier corresponding to 23 distinct values, for example, Blue Cross/Blue Shield, Medicare, and self-pay Medical\n",
    "- Medical specialty: Integer identifier of a specialty of the admitting physician, corresponding to 84 distinct values, for example, cardiology, internal medicine, family/general practice, and surgeon\n",
    "- Number of lab procedures: Number of lab tests performed during the encounter\n",
    "- Number of procedures: Numeric Number of procedures (other than lab tests) performed during the encounter\n",
    "- Number of medications: Number of distinct generic names administered during the encounter\n",
    "- Number of outpatient visits: Number of outpatient visits of the patient in the year preceding the encounter\n",
    "- Number of emergency visits: Number of emergency visits of the patient in the year preceding the encounter\n",
    "- Number of inpatient visits: Number of inpatient visits of the patient in the year preceding the encounter\n",
    "- Diagnosis 1: The primary diagnosis (coded as first three digits of ICD9); 848 distinct values\n",
    "- Diagnosis 2: Secondary diagnosis (coded as first three digits of ICD9); 923 distinct values\n",
    "- Diagnosis 3: Additional secondary diagnosis (coded as first three digits of ICD9); 954 distinct values\n",
    "- Number of diagnoses : Number of diagnoses entered to the system 0%\n",
    "- Glucose serum test : result Indicates the range of the result or if the test was not taken. Values: “>200,” “>300,” “normal,” and “none” if not measured\n",
    "- A1c test result : Indicates the range of the result or if the test was not taken. Values: “>8” if the result was greater than 8%, “>7” if the result was greater than 7% but less than 8%, “normal” if the result was less than 7%, and “none” if not measured.\n",
    "- Change of medications : Indicates if there was a change in diabetic medications (either dosage or generic name). Values: “change” and “no change”\n",
    "- Diabetes medications : Indicates if there was any diabetic medication prescribed. Values: “yes” and “no”. 24 features for medications. Names of medications: metformin, repaglinide, nateglinide, chlorpropamide, glimepiride, acetohexamide, glipizide, glyburide, tolbutamide, pioglitazone, rosiglitazone, acarbose, miglitol, troglitazone, tolazamide, examide, sitagliptin, insulin, glyburide-metformin, glipizide-metformin, glimepiride- pioglitazone, metformin-rosiglitazone, and metformin- pioglitazone, the feature indicates whether the drug was prescribed or there was a change in the dosage. Values: “up” if the dosage was increased during the encounter, “down” if the dosage was decreased, “steady” if the dosage did not change, and “no” if the drug was not prescribed\n",
    "- Readmitted: Days to inpatient readmission. Values: “<30” if the patient was readmitted in less than 30 days, “>30” if the patient was readmitted in more than 30 days, and “No” for no record of readmission"
   ]
  },
  {
   "cell_type": "code",
   "execution_count": 4,
   "id": "70097230",
   "metadata": {},
   "outputs": [
    {
     "data": {
      "text/html": [
       "<div>\n",
       "<style scoped>\n",
       "    .dataframe tbody tr th:only-of-type {\n",
       "        vertical-align: middle;\n",
       "    }\n",
       "\n",
       "    .dataframe tbody tr th {\n",
       "        vertical-align: top;\n",
       "    }\n",
       "\n",
       "    .dataframe thead th {\n",
       "        text-align: right;\n",
       "    }\n",
       "</style>\n",
       "<table border=\"1\" class=\"dataframe\">\n",
       "  <thead>\n",
       "    <tr style=\"text-align: right;\">\n",
       "      <th></th>\n",
       "      <th>Unnamed: 0</th>\n",
       "      <th>encounter_id</th>\n",
       "      <th>patient_nbr</th>\n",
       "      <th>race</th>\n",
       "      <th>gender</th>\n",
       "      <th>age</th>\n",
       "      <th>weight</th>\n",
       "      <th>admission_type_id</th>\n",
       "      <th>discharge_disposition_id</th>\n",
       "      <th>admission_source_id</th>\n",
       "      <th>...</th>\n",
       "      <th>citoglipton</th>\n",
       "      <th>insulin</th>\n",
       "      <th>glyburide-metformin</th>\n",
       "      <th>glipizide-metformin</th>\n",
       "      <th>glimepiride-pioglitazone</th>\n",
       "      <th>metformin-rosiglitazone</th>\n",
       "      <th>metformin-pioglitazone</th>\n",
       "      <th>change</th>\n",
       "      <th>diabetesMed</th>\n",
       "      <th>readmitted</th>\n",
       "    </tr>\n",
       "  </thead>\n",
       "  <tbody>\n",
       "    <tr>\n",
       "      <th>0</th>\n",
       "      <td>93634</td>\n",
       "      <td>338369606</td>\n",
       "      <td>159605546</td>\n",
       "      <td>AfricanAmerican</td>\n",
       "      <td>Male</td>\n",
       "      <td>[70-80)</td>\n",
       "      <td>?</td>\n",
       "      <td>1</td>\n",
       "      <td>23</td>\n",
       "      <td>7</td>\n",
       "      <td>...</td>\n",
       "      <td>No</td>\n",
       "      <td>No</td>\n",
       "      <td>No</td>\n",
       "      <td>No</td>\n",
       "      <td>No</td>\n",
       "      <td>No</td>\n",
       "      <td>No</td>\n",
       "      <td>No</td>\n",
       "      <td>No</td>\n",
       "      <td>NO</td>\n",
       "    </tr>\n",
       "    <tr>\n",
       "      <th>1</th>\n",
       "      <td>27698</td>\n",
       "      <td>90739116</td>\n",
       "      <td>83232054</td>\n",
       "      <td>Caucasian</td>\n",
       "      <td>Female</td>\n",
       "      <td>[70-80)</td>\n",
       "      <td>[75-100)</td>\n",
       "      <td>3</td>\n",
       "      <td>1</td>\n",
       "      <td>1</td>\n",
       "      <td>...</td>\n",
       "      <td>No</td>\n",
       "      <td>No</td>\n",
       "      <td>No</td>\n",
       "      <td>No</td>\n",
       "      <td>No</td>\n",
       "      <td>No</td>\n",
       "      <td>No</td>\n",
       "      <td>No</td>\n",
       "      <td>No</td>\n",
       "      <td>NO</td>\n",
       "    </tr>\n",
       "    <tr>\n",
       "      <th>2</th>\n",
       "      <td>17488</td>\n",
       "      <td>64286964</td>\n",
       "      <td>95117913</td>\n",
       "      <td>Caucasian</td>\n",
       "      <td>Male</td>\n",
       "      <td>[60-70)</td>\n",
       "      <td>?</td>\n",
       "      <td>3</td>\n",
       "      <td>1</td>\n",
       "      <td>1</td>\n",
       "      <td>...</td>\n",
       "      <td>No</td>\n",
       "      <td>No</td>\n",
       "      <td>No</td>\n",
       "      <td>No</td>\n",
       "      <td>No</td>\n",
       "      <td>No</td>\n",
       "      <td>No</td>\n",
       "      <td>Ch</td>\n",
       "      <td>Yes</td>\n",
       "      <td>&gt;30</td>\n",
       "    </tr>\n",
       "    <tr>\n",
       "      <th>3</th>\n",
       "      <td>96510</td>\n",
       "      <td>376610012</td>\n",
       "      <td>136697972</td>\n",
       "      <td>AfricanAmerican</td>\n",
       "      <td>Male</td>\n",
       "      <td>[40-50)</td>\n",
       "      <td>?</td>\n",
       "      <td>3</td>\n",
       "      <td>1</td>\n",
       "      <td>1</td>\n",
       "      <td>...</td>\n",
       "      <td>No</td>\n",
       "      <td>No</td>\n",
       "      <td>No</td>\n",
       "      <td>No</td>\n",
       "      <td>No</td>\n",
       "      <td>No</td>\n",
       "      <td>No</td>\n",
       "      <td>No</td>\n",
       "      <td>No</td>\n",
       "      <td>NO</td>\n",
       "    </tr>\n",
       "    <tr>\n",
       "      <th>4</th>\n",
       "      <td>35774</td>\n",
       "      <td>110557278</td>\n",
       "      <td>2851308</td>\n",
       "      <td>Caucasian</td>\n",
       "      <td>Male</td>\n",
       "      <td>[80-90)</td>\n",
       "      <td>?</td>\n",
       "      <td>1</td>\n",
       "      <td>1</td>\n",
       "      <td>6</td>\n",
       "      <td>...</td>\n",
       "      <td>No</td>\n",
       "      <td>No</td>\n",
       "      <td>No</td>\n",
       "      <td>No</td>\n",
       "      <td>No</td>\n",
       "      <td>No</td>\n",
       "      <td>No</td>\n",
       "      <td>No</td>\n",
       "      <td>No</td>\n",
       "      <td>NO</td>\n",
       "    </tr>\n",
       "  </tbody>\n",
       "</table>\n",
       "<p>5 rows × 51 columns</p>\n",
       "</div>"
      ],
      "text/plain": [
       "   Unnamed: 0  encounter_id  patient_nbr             race  gender      age  \\\n",
       "0       93634     338369606    159605546  AfricanAmerican    Male  [70-80)   \n",
       "1       27698      90739116     83232054        Caucasian  Female  [70-80)   \n",
       "2       17488      64286964     95117913        Caucasian    Male  [60-70)   \n",
       "3       96510     376610012    136697972  AfricanAmerican    Male  [40-50)   \n",
       "4       35774     110557278      2851308        Caucasian    Male  [80-90)   \n",
       "\n",
       "     weight  admission_type_id  discharge_disposition_id  admission_source_id  \\\n",
       "0         ?                  1                        23                    7   \n",
       "1  [75-100)                  3                         1                    1   \n",
       "2         ?                  3                         1                    1   \n",
       "3         ?                  3                         1                    1   \n",
       "4         ?                  1                         1                    6   \n",
       "\n",
       "   ...  citoglipton insulin glyburide-metformin  glipizide-metformin  \\\n",
       "0  ...           No      No                  No                   No   \n",
       "1  ...           No      No                  No                   No   \n",
       "2  ...           No      No                  No                   No   \n",
       "3  ...           No      No                  No                   No   \n",
       "4  ...           No      No                  No                   No   \n",
       "\n",
       "   glimepiride-pioglitazone  metformin-rosiglitazone  metformin-pioglitazone  \\\n",
       "0                        No                       No                      No   \n",
       "1                        No                       No                      No   \n",
       "2                        No                       No                      No   \n",
       "3                        No                       No                      No   \n",
       "4                        No                       No                      No   \n",
       "\n",
       "   change  diabetesMed readmitted  \n",
       "0      No           No         NO  \n",
       "1      No           No         NO  \n",
       "2      Ch          Yes        >30  \n",
       "3      No           No         NO  \n",
       "4      No           No         NO  \n",
       "\n",
       "[5 rows x 51 columns]"
      ]
     },
     "execution_count": 4,
     "metadata": {},
     "output_type": "execute_result"
    }
   ],
   "source": [
    "# first five sample of train data\n",
    "train.head()"
   ]
  },
  {
   "cell_type": "code",
   "execution_count": 5,
   "id": "58ec9985",
   "metadata": {},
   "outputs": [
    {
     "data": {
      "text/html": [
       "<div>\n",
       "<style scoped>\n",
       "    .dataframe tbody tr th:only-of-type {\n",
       "        vertical-align: middle;\n",
       "    }\n",
       "\n",
       "    .dataframe tbody tr th {\n",
       "        vertical-align: top;\n",
       "    }\n",
       "\n",
       "    .dataframe thead th {\n",
       "        text-align: right;\n",
       "    }\n",
       "</style>\n",
       "<table border=\"1\" class=\"dataframe\">\n",
       "  <thead>\n",
       "    <tr style=\"text-align: right;\">\n",
       "      <th></th>\n",
       "      <th>Unnamed: 0</th>\n",
       "      <th>encounter_id</th>\n",
       "      <th>patient_nbr</th>\n",
       "      <th>race</th>\n",
       "      <th>gender</th>\n",
       "      <th>age</th>\n",
       "      <th>weight</th>\n",
       "      <th>admission_type_id</th>\n",
       "      <th>discharge_disposition_id</th>\n",
       "      <th>admission_source_id</th>\n",
       "      <th>...</th>\n",
       "      <th>citoglipton</th>\n",
       "      <th>insulin</th>\n",
       "      <th>glyburide-metformin</th>\n",
       "      <th>glipizide-metformin</th>\n",
       "      <th>glimepiride-pioglitazone</th>\n",
       "      <th>metformin-rosiglitazone</th>\n",
       "      <th>metformin-pioglitazone</th>\n",
       "      <th>change</th>\n",
       "      <th>diabetesMed</th>\n",
       "      <th>readmitted</th>\n",
       "    </tr>\n",
       "  </thead>\n",
       "  <tbody>\n",
       "    <tr>\n",
       "      <th>0</th>\n",
       "      <td>77011</td>\n",
       "      <td>233192070</td>\n",
       "      <td>110179728</td>\n",
       "      <td>Caucasian</td>\n",
       "      <td>Female</td>\n",
       "      <td>[80-90)</td>\n",
       "      <td>?</td>\n",
       "      <td>1</td>\n",
       "      <td>3</td>\n",
       "      <td>7</td>\n",
       "      <td>...</td>\n",
       "      <td>No</td>\n",
       "      <td>No</td>\n",
       "      <td>No</td>\n",
       "      <td>No</td>\n",
       "      <td>No</td>\n",
       "      <td>No</td>\n",
       "      <td>No</td>\n",
       "      <td>Ch</td>\n",
       "      <td>Yes</td>\n",
       "      <td>&gt;30</td>\n",
       "    </tr>\n",
       "    <tr>\n",
       "      <th>1</th>\n",
       "      <td>95048</td>\n",
       "      <td>356145692</td>\n",
       "      <td>40743441</td>\n",
       "      <td>Caucasian</td>\n",
       "      <td>Female</td>\n",
       "      <td>[30-40)</td>\n",
       "      <td>?</td>\n",
       "      <td>1</td>\n",
       "      <td>1</td>\n",
       "      <td>7</td>\n",
       "      <td>...</td>\n",
       "      <td>No</td>\n",
       "      <td>Up</td>\n",
       "      <td>No</td>\n",
       "      <td>No</td>\n",
       "      <td>No</td>\n",
       "      <td>No</td>\n",
       "      <td>No</td>\n",
       "      <td>Ch</td>\n",
       "      <td>Yes</td>\n",
       "      <td>&gt;30</td>\n",
       "    </tr>\n",
       "    <tr>\n",
       "      <th>2</th>\n",
       "      <td>29619</td>\n",
       "      <td>96590916</td>\n",
       "      <td>235017</td>\n",
       "      <td>AfricanAmerican</td>\n",
       "      <td>Male</td>\n",
       "      <td>[70-80)</td>\n",
       "      <td>?</td>\n",
       "      <td>2</td>\n",
       "      <td>1</td>\n",
       "      <td>1</td>\n",
       "      <td>...</td>\n",
       "      <td>No</td>\n",
       "      <td>Steady</td>\n",
       "      <td>No</td>\n",
       "      <td>No</td>\n",
       "      <td>No</td>\n",
       "      <td>No</td>\n",
       "      <td>No</td>\n",
       "      <td>No</td>\n",
       "      <td>Yes</td>\n",
       "      <td>NO</td>\n",
       "    </tr>\n",
       "    <tr>\n",
       "      <th>3</th>\n",
       "      <td>85031</td>\n",
       "      <td>268888392</td>\n",
       "      <td>70368660</td>\n",
       "      <td>Caucasian</td>\n",
       "      <td>Male</td>\n",
       "      <td>[70-80)</td>\n",
       "      <td>?</td>\n",
       "      <td>3</td>\n",
       "      <td>6</td>\n",
       "      <td>1</td>\n",
       "      <td>...</td>\n",
       "      <td>No</td>\n",
       "      <td>No</td>\n",
       "      <td>No</td>\n",
       "      <td>No</td>\n",
       "      <td>No</td>\n",
       "      <td>No</td>\n",
       "      <td>No</td>\n",
       "      <td>No</td>\n",
       "      <td>No</td>\n",
       "      <td>NO</td>\n",
       "    </tr>\n",
       "    <tr>\n",
       "      <th>4</th>\n",
       "      <td>13003</td>\n",
       "      <td>52253142</td>\n",
       "      <td>19835496</td>\n",
       "      <td>AfricanAmerican</td>\n",
       "      <td>Female</td>\n",
       "      <td>[70-80)</td>\n",
       "      <td>?</td>\n",
       "      <td>3</td>\n",
       "      <td>18</td>\n",
       "      <td>1</td>\n",
       "      <td>...</td>\n",
       "      <td>No</td>\n",
       "      <td>No</td>\n",
       "      <td>No</td>\n",
       "      <td>No</td>\n",
       "      <td>No</td>\n",
       "      <td>No</td>\n",
       "      <td>No</td>\n",
       "      <td>Ch</td>\n",
       "      <td>Yes</td>\n",
       "      <td>NO</td>\n",
       "    </tr>\n",
       "  </tbody>\n",
       "</table>\n",
       "<p>5 rows × 51 columns</p>\n",
       "</div>"
      ],
      "text/plain": [
       "   Unnamed: 0  encounter_id  patient_nbr             race  gender      age  \\\n",
       "0       77011     233192070    110179728        Caucasian  Female  [80-90)   \n",
       "1       95048     356145692     40743441        Caucasian  Female  [30-40)   \n",
       "2       29619      96590916       235017  AfricanAmerican    Male  [70-80)   \n",
       "3       85031     268888392     70368660        Caucasian    Male  [70-80)   \n",
       "4       13003      52253142     19835496  AfricanAmerican  Female  [70-80)   \n",
       "\n",
       "  weight  admission_type_id  discharge_disposition_id  admission_source_id  \\\n",
       "0      ?                  1                         3                    7   \n",
       "1      ?                  1                         1                    7   \n",
       "2      ?                  2                         1                    1   \n",
       "3      ?                  3                         6                    1   \n",
       "4      ?                  3                        18                    1   \n",
       "\n",
       "   ...  citoglipton insulin glyburide-metformin  glipizide-metformin  \\\n",
       "0  ...           No      No                  No                   No   \n",
       "1  ...           No      Up                  No                   No   \n",
       "2  ...           No  Steady                  No                   No   \n",
       "3  ...           No      No                  No                   No   \n",
       "4  ...           No      No                  No                   No   \n",
       "\n",
       "   glimepiride-pioglitazone  metformin-rosiglitazone  metformin-pioglitazone  \\\n",
       "0                        No                       No                      No   \n",
       "1                        No                       No                      No   \n",
       "2                        No                       No                      No   \n",
       "3                        No                       No                      No   \n",
       "4                        No                       No                      No   \n",
       "\n",
       "   change  diabetesMed readmitted  \n",
       "0      Ch          Yes        >30  \n",
       "1      Ch          Yes        >30  \n",
       "2      No          Yes         NO  \n",
       "3      No           No         NO  \n",
       "4      Ch          Yes         NO  \n",
       "\n",
       "[5 rows x 51 columns]"
      ]
     },
     "execution_count": 5,
     "metadata": {},
     "output_type": "execute_result"
    }
   ],
   "source": [
    "# first five sample of test data\n",
    "test.head()"
   ]
  },
  {
   "cell_type": "code",
   "execution_count": 6,
   "id": "368dd667",
   "metadata": {},
   "outputs": [
    {
     "data": {
      "text/html": [
       "<div>\n",
       "<style scoped>\n",
       "    .dataframe tbody tr th:only-of-type {\n",
       "        vertical-align: middle;\n",
       "    }\n",
       "\n",
       "    .dataframe tbody tr th {\n",
       "        vertical-align: top;\n",
       "    }\n",
       "\n",
       "    .dataframe thead th {\n",
       "        text-align: right;\n",
       "    }\n",
       "</style>\n",
       "<table border=\"1\" class=\"dataframe\">\n",
       "  <thead>\n",
       "    <tr style=\"text-align: right;\">\n",
       "      <th></th>\n",
       "      <th>admission_type_id</th>\n",
       "      <th>description</th>\n",
       "    </tr>\n",
       "  </thead>\n",
       "  <tbody>\n",
       "    <tr>\n",
       "      <th>0</th>\n",
       "      <td>1</td>\n",
       "      <td>Emergency</td>\n",
       "    </tr>\n",
       "    <tr>\n",
       "      <th>1</th>\n",
       "      <td>2</td>\n",
       "      <td>Urgent</td>\n",
       "    </tr>\n",
       "    <tr>\n",
       "      <th>2</th>\n",
       "      <td>3</td>\n",
       "      <td>Elective</td>\n",
       "    </tr>\n",
       "    <tr>\n",
       "      <th>3</th>\n",
       "      <td>4</td>\n",
       "      <td>Newborn</td>\n",
       "    </tr>\n",
       "    <tr>\n",
       "      <th>4</th>\n",
       "      <td>5</td>\n",
       "      <td>Not Available</td>\n",
       "    </tr>\n",
       "  </tbody>\n",
       "</table>\n",
       "</div>"
      ],
      "text/plain": [
       "  admission_type_id    description\n",
       "0                 1      Emergency\n",
       "1                 2         Urgent\n",
       "2                 3       Elective\n",
       "3                 4        Newborn\n",
       "4                 5  Not Available"
      ]
     },
     "execution_count": 6,
     "metadata": {},
     "output_type": "execute_result"
    }
   ],
   "source": [
    "## first five sample of ID mapping data\n",
    "ID_mapping_date.head()"
   ]
  },
  {
   "cell_type": "code",
   "execution_count": 7,
   "id": "12e1f97f",
   "metadata": {},
   "outputs": [
    {
     "name": "stdout",
     "output_type": "stream",
     "text": [
      "<class 'pandas.core.frame.DataFrame'>\n",
      "RangeIndex: 76324 entries, 0 to 76323\n",
      "Data columns (total 51 columns):\n",
      " #   Column                    Non-Null Count  Dtype \n",
      "---  ------                    --------------  ----- \n",
      " 0   Unnamed: 0                76324 non-null  int64 \n",
      " 1   encounter_id              76324 non-null  int64 \n",
      " 2   patient_nbr               76324 non-null  int64 \n",
      " 3   race                      76324 non-null  object\n",
      " 4   gender                    76324 non-null  object\n",
      " 5   age                       76324 non-null  object\n",
      " 6   weight                    76324 non-null  object\n",
      " 7   admission_type_id         76324 non-null  int64 \n",
      " 8   discharge_disposition_id  76324 non-null  int64 \n",
      " 9   admission_source_id       76324 non-null  int64 \n",
      " 10  time_in_hospital          76324 non-null  int64 \n",
      " 11  payer_code                76324 non-null  object\n",
      " 12  medical_specialty         76324 non-null  object\n",
      " 13  num_lab_procedures        76324 non-null  int64 \n",
      " 14  num_procedures            76324 non-null  int64 \n",
      " 15  num_medications           76324 non-null  int64 \n",
      " 16  number_outpatient         76324 non-null  int64 \n",
      " 17  number_emergency          76324 non-null  int64 \n",
      " 18  number_inpatient          76324 non-null  int64 \n",
      " 19  diag_1                    76324 non-null  object\n",
      " 20  diag_2                    76324 non-null  object\n",
      " 21  diag_3                    76324 non-null  object\n",
      " 22  number_diagnoses          76324 non-null  int64 \n",
      " 23  max_glu_serum             76324 non-null  object\n",
      " 24  A1Cresult                 76324 non-null  object\n",
      " 25  metformin                 76324 non-null  object\n",
      " 26  repaglinide               76324 non-null  object\n",
      " 27  nateglinide               76324 non-null  object\n",
      " 28  chlorpropamide            76324 non-null  object\n",
      " 29  glimepiride               76324 non-null  object\n",
      " 30  acetohexamide             76324 non-null  object\n",
      " 31  glipizide                 76324 non-null  object\n",
      " 32  glyburide                 76324 non-null  object\n",
      " 33  tolbutamide               76324 non-null  object\n",
      " 34  pioglitazone              76324 non-null  object\n",
      " 35  rosiglitazone             76324 non-null  object\n",
      " 36  acarbose                  76324 non-null  object\n",
      " 37  miglitol                  76324 non-null  object\n",
      " 38  troglitazone              76324 non-null  object\n",
      " 39  tolazamide                76324 non-null  object\n",
      " 40  examide                   76324 non-null  object\n",
      " 41  citoglipton               76324 non-null  object\n",
      " 42  insulin                   76324 non-null  object\n",
      " 43  glyburide-metformin       76324 non-null  object\n",
      " 44  glipizide-metformin       76324 non-null  object\n",
      " 45  glimepiride-pioglitazone  76324 non-null  object\n",
      " 46  metformin-rosiglitazone   76324 non-null  object\n",
      " 47  metformin-pioglitazone    76324 non-null  object\n",
      " 48  change                    76324 non-null  object\n",
      " 49  diabetesMed               76324 non-null  object\n",
      " 50  readmitted                76324 non-null  object\n",
      "dtypes: int64(14), object(37)\n",
      "memory usage: 29.7+ MB\n"
     ]
    }
   ],
   "source": [
    "# general information of the data\n",
    "train.info()"
   ]
  },
  {
   "cell_type": "code",
   "execution_count": 8,
   "id": "668ac780",
   "metadata": {},
   "outputs": [
    {
     "data": {
      "text/html": [
       "<div>\n",
       "<style scoped>\n",
       "    .dataframe tbody tr th:only-of-type {\n",
       "        vertical-align: middle;\n",
       "    }\n",
       "\n",
       "    .dataframe tbody tr th {\n",
       "        vertical-align: top;\n",
       "    }\n",
       "\n",
       "    .dataframe thead th {\n",
       "        text-align: right;\n",
       "    }\n",
       "</style>\n",
       "<table border=\"1\" class=\"dataframe\">\n",
       "  <thead>\n",
       "    <tr style=\"text-align: right;\">\n",
       "      <th></th>\n",
       "      <th>Unnamed: 0</th>\n",
       "      <th>encounter_id</th>\n",
       "      <th>patient_nbr</th>\n",
       "      <th>admission_type_id</th>\n",
       "      <th>discharge_disposition_id</th>\n",
       "      <th>admission_source_id</th>\n",
       "      <th>time_in_hospital</th>\n",
       "      <th>num_lab_procedures</th>\n",
       "      <th>num_procedures</th>\n",
       "      <th>num_medications</th>\n",
       "      <th>number_outpatient</th>\n",
       "      <th>number_emergency</th>\n",
       "      <th>number_inpatient</th>\n",
       "      <th>number_diagnoses</th>\n",
       "    </tr>\n",
       "  </thead>\n",
       "  <tbody>\n",
       "    <tr>\n",
       "      <th>count</th>\n",
       "      <td>76324.000000</td>\n",
       "      <td>7.632400e+04</td>\n",
       "      <td>7.632400e+04</td>\n",
       "      <td>76324.000000</td>\n",
       "      <td>76324.000000</td>\n",
       "      <td>76324.000000</td>\n",
       "      <td>76324.000000</td>\n",
       "      <td>76324.000000</td>\n",
       "      <td>76324.000000</td>\n",
       "      <td>76324.000000</td>\n",
       "      <td>76324.000000</td>\n",
       "      <td>76324.000000</td>\n",
       "      <td>76324.000000</td>\n",
       "      <td>76324.000000</td>\n",
       "    </tr>\n",
       "    <tr>\n",
       "      <th>mean</th>\n",
       "      <td>51030.451431</td>\n",
       "      <td>1.657131e+08</td>\n",
       "      <td>5.440963e+07</td>\n",
       "      <td>2.020059</td>\n",
       "      <td>3.720992</td>\n",
       "      <td>5.751703</td>\n",
       "      <td>4.400084</td>\n",
       "      <td>43.136445</td>\n",
       "      <td>1.335163</td>\n",
       "      <td>16.025942</td>\n",
       "      <td>0.375046</td>\n",
       "      <td>0.200985</td>\n",
       "      <td>0.639432</td>\n",
       "      <td>7.423602</td>\n",
       "    </tr>\n",
       "    <tr>\n",
       "      <th>std</th>\n",
       "      <td>29364.017248</td>\n",
       "      <td>1.027571e+08</td>\n",
       "      <td>3.872523e+07</td>\n",
       "      <td>1.441786</td>\n",
       "      <td>5.289243</td>\n",
       "      <td>4.050886</td>\n",
       "      <td>2.985689</td>\n",
       "      <td>19.673383</td>\n",
       "      <td>1.701378</td>\n",
       "      <td>8.119375</td>\n",
       "      <td>1.291108</td>\n",
       "      <td>0.936242</td>\n",
       "      <td>1.273049</td>\n",
       "      <td>1.938609</td>\n",
       "    </tr>\n",
       "    <tr>\n",
       "      <th>min</th>\n",
       "      <td>0.000000</td>\n",
       "      <td>1.252200e+04</td>\n",
       "      <td>7.290000e+02</td>\n",
       "      <td>1.000000</td>\n",
       "      <td>1.000000</td>\n",
       "      <td>1.000000</td>\n",
       "      <td>1.000000</td>\n",
       "      <td>1.000000</td>\n",
       "      <td>0.000000</td>\n",
       "      <td>1.000000</td>\n",
       "      <td>0.000000</td>\n",
       "      <td>0.000000</td>\n",
       "      <td>0.000000</td>\n",
       "      <td>1.000000</td>\n",
       "    </tr>\n",
       "    <tr>\n",
       "      <th>25%</th>\n",
       "      <td>25657.750000</td>\n",
       "      <td>8.548698e+07</td>\n",
       "      <td>2.341891e+07</td>\n",
       "      <td>1.000000</td>\n",
       "      <td>1.000000</td>\n",
       "      <td>1.000000</td>\n",
       "      <td>2.000000</td>\n",
       "      <td>32.000000</td>\n",
       "      <td>0.000000</td>\n",
       "      <td>10.000000</td>\n",
       "      <td>0.000000</td>\n",
       "      <td>0.000000</td>\n",
       "      <td>0.000000</td>\n",
       "      <td>6.000000</td>\n",
       "    </tr>\n",
       "    <tr>\n",
       "      <th>50%</th>\n",
       "      <td>51050.500000</td>\n",
       "      <td>1.526763e+08</td>\n",
       "      <td>4.559911e+07</td>\n",
       "      <td>1.000000</td>\n",
       "      <td>1.000000</td>\n",
       "      <td>7.000000</td>\n",
       "      <td>4.000000</td>\n",
       "      <td>44.000000</td>\n",
       "      <td>1.000000</td>\n",
       "      <td>15.000000</td>\n",
       "      <td>0.000000</td>\n",
       "      <td>0.000000</td>\n",
       "      <td>0.000000</td>\n",
       "      <td>8.000000</td>\n",
       "    </tr>\n",
       "    <tr>\n",
       "      <th>75%</th>\n",
       "      <td>76428.250000</td>\n",
       "      <td>2.307394e+08</td>\n",
       "      <td>8.761871e+07</td>\n",
       "      <td>3.000000</td>\n",
       "      <td>4.000000</td>\n",
       "      <td>7.000000</td>\n",
       "      <td>6.000000</td>\n",
       "      <td>57.000000</td>\n",
       "      <td>2.000000</td>\n",
       "      <td>20.000000</td>\n",
       "      <td>0.000000</td>\n",
       "      <td>0.000000</td>\n",
       "      <td>1.000000</td>\n",
       "      <td>9.000000</td>\n",
       "    </tr>\n",
       "    <tr>\n",
       "      <th>max</th>\n",
       "      <td>101765.000000</td>\n",
       "      <td>4.438672e+08</td>\n",
       "      <td>1.895026e+08</td>\n",
       "      <td>8.000000</td>\n",
       "      <td>28.000000</td>\n",
       "      <td>25.000000</td>\n",
       "      <td>14.000000</td>\n",
       "      <td>132.000000</td>\n",
       "      <td>6.000000</td>\n",
       "      <td>81.000000</td>\n",
       "      <td>42.000000</td>\n",
       "      <td>76.000000</td>\n",
       "      <td>21.000000</td>\n",
       "      <td>16.000000</td>\n",
       "    </tr>\n",
       "  </tbody>\n",
       "</table>\n",
       "</div>"
      ],
      "text/plain": [
       "          Unnamed: 0  encounter_id   patient_nbr  admission_type_id  \\\n",
       "count   76324.000000  7.632400e+04  7.632400e+04       76324.000000   \n",
       "mean    51030.451431  1.657131e+08  5.440963e+07           2.020059   \n",
       "std     29364.017248  1.027571e+08  3.872523e+07           1.441786   \n",
       "min         0.000000  1.252200e+04  7.290000e+02           1.000000   \n",
       "25%     25657.750000  8.548698e+07  2.341891e+07           1.000000   \n",
       "50%     51050.500000  1.526763e+08  4.559911e+07           1.000000   \n",
       "75%     76428.250000  2.307394e+08  8.761871e+07           3.000000   \n",
       "max    101765.000000  4.438672e+08  1.895026e+08           8.000000   \n",
       "\n",
       "       discharge_disposition_id  admission_source_id  time_in_hospital  \\\n",
       "count              76324.000000         76324.000000      76324.000000   \n",
       "mean                   3.720992             5.751703          4.400084   \n",
       "std                    5.289243             4.050886          2.985689   \n",
       "min                    1.000000             1.000000          1.000000   \n",
       "25%                    1.000000             1.000000          2.000000   \n",
       "50%                    1.000000             7.000000          4.000000   \n",
       "75%                    4.000000             7.000000          6.000000   \n",
       "max                   28.000000            25.000000         14.000000   \n",
       "\n",
       "       num_lab_procedures  num_procedures  num_medications  number_outpatient  \\\n",
       "count        76324.000000    76324.000000     76324.000000       76324.000000   \n",
       "mean            43.136445        1.335163        16.025942           0.375046   \n",
       "std             19.673383        1.701378         8.119375           1.291108   \n",
       "min              1.000000        0.000000         1.000000           0.000000   \n",
       "25%             32.000000        0.000000        10.000000           0.000000   \n",
       "50%             44.000000        1.000000        15.000000           0.000000   \n",
       "75%             57.000000        2.000000        20.000000           0.000000   \n",
       "max            132.000000        6.000000        81.000000          42.000000   \n",
       "\n",
       "       number_emergency  number_inpatient  number_diagnoses  \n",
       "count      76324.000000      76324.000000      76324.000000  \n",
       "mean           0.200985          0.639432          7.423602  \n",
       "std            0.936242          1.273049          1.938609  \n",
       "min            0.000000          0.000000          1.000000  \n",
       "25%            0.000000          0.000000          6.000000  \n",
       "50%            0.000000          0.000000          8.000000  \n",
       "75%            0.000000          1.000000          9.000000  \n",
       "max           76.000000         21.000000         16.000000  "
      ]
     },
     "execution_count": 8,
     "metadata": {},
     "output_type": "execute_result"
    }
   ],
   "source": [
    "#summary statistics of the numeric data in train set\n",
    "train.describe()"
   ]
  },
  {
   "cell_type": "code",
   "execution_count": 9,
   "id": "c21c1bba",
   "metadata": {},
   "outputs": [
    {
     "data": {
      "text/plain": [
       "Unnamed: 0                   int64\n",
       "encounter_id                 int64\n",
       "patient_nbr                  int64\n",
       "race                        object\n",
       "gender                      object\n",
       "age                         object\n",
       "weight                      object\n",
       "admission_type_id            int64\n",
       "discharge_disposition_id     int64\n",
       "admission_source_id          int64\n",
       "time_in_hospital             int64\n",
       "payer_code                  object\n",
       "medical_specialty           object\n",
       "num_lab_procedures           int64\n",
       "num_procedures               int64\n",
       "num_medications              int64\n",
       "number_outpatient            int64\n",
       "number_emergency             int64\n",
       "number_inpatient             int64\n",
       "diag_1                      object\n",
       "diag_2                      object\n",
       "diag_3                      object\n",
       "number_diagnoses             int64\n",
       "max_glu_serum               object\n",
       "A1Cresult                   object\n",
       "metformin                   object\n",
       "repaglinide                 object\n",
       "nateglinide                 object\n",
       "chlorpropamide              object\n",
       "glimepiride                 object\n",
       "acetohexamide               object\n",
       "glipizide                   object\n",
       "glyburide                   object\n",
       "tolbutamide                 object\n",
       "pioglitazone                object\n",
       "rosiglitazone               object\n",
       "acarbose                    object\n",
       "miglitol                    object\n",
       "troglitazone                object\n",
       "tolazamide                  object\n",
       "examide                     object\n",
       "citoglipton                 object\n",
       "insulin                     object\n",
       "glyburide-metformin         object\n",
       "glipizide-metformin         object\n",
       "glimepiride-pioglitazone    object\n",
       "metformin-rosiglitazone     object\n",
       "metformin-pioglitazone      object\n",
       "change                      object\n",
       "diabetesMed                 object\n",
       "readmitted                  object\n",
       "dtype: object"
      ]
     },
     "execution_count": 9,
     "metadata": {},
     "output_type": "execute_result"
    }
   ],
   "source": [
    "# the datatypes of all the attributes for training data\n",
    "train.dtypes"
   ]
  },
  {
   "cell_type": "code",
   "execution_count": 10,
   "id": "a024bf7a",
   "metadata": {},
   "outputs": [
    {
     "data": {
      "text/plain": [
       "(76324, 51)"
      ]
     },
     "execution_count": 10,
     "metadata": {},
     "output_type": "execute_result"
    }
   ],
   "source": [
    "# rows, columns of the train data\n",
    "train.shape"
   ]
  },
  {
   "cell_type": "code",
   "execution_count": 11,
   "id": "7b4bfebf",
   "metadata": {},
   "outputs": [
    {
     "data": {
      "text/plain": [
       "(25442, 51)"
      ]
     },
     "execution_count": 11,
     "metadata": {},
     "output_type": "execute_result"
    }
   ],
   "source": [
    "# rows, columns of the test data\n",
    "test.shape"
   ]
  },
  {
   "cell_type": "markdown",
   "id": "2298cc16",
   "metadata": {},
   "source": [
    "#### Observations of the dataset\n",
    "\n",
    "- Data set has 101766 records and total 50 features(combination of both train and test dataset)\n",
    "- The target variable or label is readmitted. \n",
    "- 13 features are numerical features and 37 are categorical features."
   ]
  },
  {
   "cell_type": "markdown",
   "id": "cb9cb156",
   "metadata": {},
   "source": [
    "## Data Visualization"
   ]
  },
  {
   "cell_type": "markdown",
   "id": "0ed55bd9",
   "metadata": {},
   "source": [
    "### Visualizing the Gender,Age and Race attributes "
   ]
  },
  {
   "cell_type": "code",
   "execution_count": 12,
   "id": "a39b1128",
   "metadata": {},
   "outputs": [
    {
     "data": {
      "text/plain": [
       "<AxesSubplot:xlabel='race', ylabel='count'>"
      ]
     },
     "execution_count": 12,
     "metadata": {},
     "output_type": "execute_result"
    },
    {
     "data": {
      "text/plain": [
       "(array([0, 1, 2, 3, 4, 5]),\n",
       " [Text(0, 0, 'AfricanAmerican'),\n",
       "  Text(1, 0, 'Caucasian'),\n",
       "  Text(2, 0, 'Hispanic'),\n",
       "  Text(3, 0, 'Other'),\n",
       "  Text(4, 0, '?'),\n",
       "  Text(5, 0, 'Asian')])"
      ]
     },
     "execution_count": 12,
     "metadata": {},
     "output_type": "execute_result"
    },
    {
     "data": {
      "text/plain": [
       "Text(0.5, 1.0, 'Number of Race values')"
      ]
     },
     "execution_count": 12,
     "metadata": {},
     "output_type": "execute_result"
    },
    {
     "data": {
      "image/png": "[encoded data removed]",
      "text/plain": [
       "<Figure size 432x288 with 1 Axes>"
      ]
     },
     "metadata": {
      "needs_background": "light"
     },
     "output_type": "display_data"
    },
    {
     "name": "stdout",
     "output_type": "stream",
     "text": [
      "Proportion of Race\n",
      "Caucasian          74.600388\n",
      "AfricanAmerican    19.022850\n",
      "?                   2.237828\n",
      "Hispanic            1.988889\n",
      "Other               1.519836\n",
      "Asian               0.630208\n",
      "Name: race, dtype: float64\n"
     ]
    }
   ],
   "source": [
    "# Finding counts of the different races\n",
    "sns.countplot(x=train.race, data = train)\n",
    "plt.xticks(rotation=90)\n",
    "plt.title(\"Number of Race values\")\n",
    "plt.show()\n",
    "\n",
    "print(\"Proportion of Race\")\n",
    "print(train.race.value_counts(normalize = True)*100)"
   ]
  },
  {
   "cell_type": "markdown",
   "id": "ecef6247",
   "metadata": {},
   "source": [
    "#### Observation\n",
    "- Caucasian patients consitute 74 percent of the data.\n",
    "- Second largest group is African Americans who constitute 19 percent of the data.\n",
    "- And patients are divided into Hispanics, Asians and Others."
   ]
  },
  {
   "cell_type": "code",
   "execution_count": 13,
   "id": "59bd3a70",
   "metadata": {},
   "outputs": [
    {
     "data": {
      "text/plain": [
       "<AxesSubplot:xlabel='gender', ylabel='count'>"
      ]
     },
     "execution_count": 13,
     "metadata": {},
     "output_type": "execute_result"
    },
    {
     "data": {
      "text/plain": [
       "<AxesSubplot:xlabel='age', ylabel='count'>"
      ]
     },
     "execution_count": 13,
     "metadata": {},
     "output_type": "execute_result"
    },
    {
     "data": {
      "text/plain": [
       "<AxesSubplot:xlabel='race', ylabel='count'>"
      ]
     },
     "execution_count": 13,
     "metadata": {},
     "output_type": "execute_result"
    },
    {
     "data": {
      "image/png": "[encoded data removed]",
      "text/plain": [
       "<Figure size 1728x576 with 3 Axes>"
      ]
     },
     "metadata": {
      "needs_background": "light"
     },
     "output_type": "display_data"
    }
   ],
   "source": [
    "# I try to visualize the gender, age and race features wrt readmitted using a countplot\n",
    "visual_list = ['gender','age','race']\n",
    "fig, ax =plt.subplots(nrows=1,ncols=3,figsize=(24,8))\n",
    "count =0\n",
    "for i in visual_list:\n",
    "    sns.countplot(x=train[i], hue=train.readmitted, palette='YlOrBr', ax=ax[count]);\n",
    "    count = count+1"
   ]
  },
  {
   "cell_type": "markdown",
   "id": "ce4974f5",
   "metadata": {},
   "source": [
    "#### Observations\n",
    "- The probablity of a Caucasian being readmitted is higher followed by African Americans.\n",
    "- Almost equal proportion of females and males.\n",
    "- The chances of a female being readmitted is a little more than the males.\n",
    "- We see that the age of the patients is on the higher side.(Elderly population)."
   ]
  },
  {
   "cell_type": "code",
   "execution_count": 14,
   "id": "3b391b69",
   "metadata": {},
   "outputs": [
    {
     "data": {
      "text/plain": [
       "<AxesSubplot:xlabel='time_in_hospital', ylabel='count'>"
      ]
     },
     "execution_count": 14,
     "metadata": {},
     "output_type": "execute_result"
    },
    {
     "data": {
      "image/png": "[encoded data removed]",
      "text/plain": [
       "<Figure size 432x288 with 1 Axes>"
      ]
     },
     "metadata": {
      "needs_background": "light"
     },
     "output_type": "display_data"
    }
   ],
   "source": [
    "# visualizing the time in hospital feature\n",
    "sns.countplot(x=\"time_in_hospital\", data = train,\n",
    "              order = train.time_in_hospital.value_counts().index)\n",
    "plt.show()"
   ]
  },
  {
   "cell_type": "markdown",
   "id": "d197ea6d",
   "metadata": {},
   "source": [
    "#### Observation \n",
    "- Most of the patients stayed in the hospital for (1-4) days.\n",
    "- some other visualizations have been done below."
   ]
  },
  {
   "cell_type": "markdown",
   "id": "e20f669f",
   "metadata": {},
   "source": [
    "## Data Preprocessing"
   ]
  },
  {
   "cell_type": "markdown",
   "id": "cc375e6c",
   "metadata": {},
   "source": [
    "#### Missing values handling"
   ]
  },
  {
   "cell_type": "code",
   "execution_count": 15,
   "id": "14466b9a",
   "metadata": {},
   "outputs": [],
   "source": [
    "# ? mark denotes missing value so we will replace ? with nan. \n",
    "train.replace('?', np.nan , inplace=True)\n",
    "test.replace('?', np.nan , inplace=True)"
   ]
  },
  {
   "cell_type": "code",
   "execution_count": 16,
   "id": "f69c0208",
   "metadata": {},
   "outputs": [],
   "source": [
    "# we also replace the missing values in the race column with the mode of the column. \n",
    "train[\"race\"].fillna(train[\"race\"].mode()[0], inplace = True) \n",
    "test[\"race\"].fillna(test[\"race\"].mode()[0], inplace = True)"
   ]
  },
  {
   "cell_type": "code",
   "execution_count": 17,
   "id": "62bbdcff",
   "metadata": {},
   "outputs": [
    {
     "data": {
      "text/plain": [
       "Female    41008\n",
       "Male      35313\n",
       "Name: gender, dtype: int64"
      ]
     },
     "execution_count": 17,
     "metadata": {},
     "output_type": "execute_result"
    },
    {
     "data": {
      "text/plain": [
       "Female    13700\n",
       "Male      11742\n",
       "Name: gender, dtype: int64"
      ]
     },
     "execution_count": 17,
     "metadata": {},
     "output_type": "execute_result"
    }
   ],
   "source": [
    "# Drop the samples in the data set which have 'Unknown/Invalid' values. There are just three such samples.\n",
    "train.gender.replace('Unknown/Invalid', np.nan , inplace=True)\n",
    "train.dropna(subset=['gender'], how='all', inplace = True)\n",
    "test.gender.replace('Unknown/Invalid', np.nan , inplace=True)\n",
    "test.dropna(subset=['gender'], how='all', inplace = True)\n",
    "train.gender.value_counts()\n",
    "test.gender.value_counts()"
   ]
  },
  {
   "cell_type": "code",
   "execution_count": 18,
   "id": "0c667770",
   "metadata": {},
   "outputs": [
    {
     "data": {
      "text/plain": [
       "Unnamed: 0                      0\n",
       "encounter_id                    0\n",
       "patient_nbr                     0\n",
       "race                            0\n",
       "gender                          0\n",
       "age                             0\n",
       "weight                      73932\n",
       "admission_type_id               0\n",
       "discharge_disposition_id        0\n",
       "admission_source_id             0\n",
       "time_in_hospital                0\n",
       "payer_code                  30047\n",
       "medical_specialty           37480\n",
       "num_lab_procedures              0\n",
       "num_procedures                  0\n",
       "num_medications                 0\n",
       "number_outpatient               0\n",
       "number_emergency                0\n",
       "number_inpatient                0\n",
       "diag_1                         20\n",
       "diag_2                        276\n",
       "diag_3                       1081\n",
       "number_diagnoses                0\n",
       "max_glu_serum                   0\n",
       "A1Cresult                       0\n",
       "metformin                       0\n",
       "repaglinide                     0\n",
       "nateglinide                     0\n",
       "chlorpropamide                  0\n",
       "glimepiride                     0\n",
       "acetohexamide                   0\n",
       "glipizide                       0\n",
       "glyburide                       0\n",
       "tolbutamide                     0\n",
       "pioglitazone                    0\n",
       "rosiglitazone                   0\n",
       "acarbose                        0\n",
       "miglitol                        0\n",
       "troglitazone                    0\n",
       "tolazamide                      0\n",
       "examide                         0\n",
       "citoglipton                     0\n",
       "insulin                         0\n",
       "glyburide-metformin             0\n",
       "glipizide-metformin             0\n",
       "glimepiride-pioglitazone        0\n",
       "metformin-rosiglitazone         0\n",
       "metformin-pioglitazone          0\n",
       "change                          0\n",
       "diabetesMed                     0\n",
       "readmitted                      0\n",
       "dtype: int64"
      ]
     },
     "execution_count": 18,
     "metadata": {},
     "output_type": "execute_result"
    },
    {
     "data": {
      "text/plain": [
       "Unnamed: 0                      0\n",
       "encounter_id                    0\n",
       "patient_nbr                     0\n",
       "race                            0\n",
       "gender                          0\n",
       "age                             0\n",
       "weight                      24634\n",
       "admission_type_id               0\n",
       "discharge_disposition_id        0\n",
       "admission_source_id             0\n",
       "time_in_hospital                0\n",
       "payer_code                  10208\n",
       "medical_specialty           12467\n",
       "num_lab_procedures              0\n",
       "num_procedures                  0\n",
       "num_medications                 0\n",
       "number_outpatient               0\n",
       "number_emergency                0\n",
       "number_inpatient                0\n",
       "diag_1                          1\n",
       "diag_2                         82\n",
       "diag_3                        342\n",
       "number_diagnoses                0\n",
       "max_glu_serum                   0\n",
       "A1Cresult                       0\n",
       "metformin                       0\n",
       "repaglinide                     0\n",
       "nateglinide                     0\n",
       "chlorpropamide                  0\n",
       "glimepiride                     0\n",
       "acetohexamide                   0\n",
       "glipizide                       0\n",
       "glyburide                       0\n",
       "tolbutamide                     0\n",
       "pioglitazone                    0\n",
       "rosiglitazone                   0\n",
       "acarbose                        0\n",
       "miglitol                        0\n",
       "troglitazone                    0\n",
       "tolazamide                      0\n",
       "examide                         0\n",
       "citoglipton                     0\n",
       "insulin                         0\n",
       "glyburide-metformin             0\n",
       "glipizide-metformin             0\n",
       "glimepiride-pioglitazone        0\n",
       "metformin-rosiglitazone         0\n",
       "metformin-pioglitazone          0\n",
       "change                          0\n",
       "diabetesMed                     0\n",
       "readmitted                      0\n",
       "dtype: int64"
      ]
     },
     "execution_count": 18,
     "metadata": {},
     "output_type": "execute_result"
    }
   ],
   "source": [
    "# checking the presence of null values in train and test data set. We can see that there \n",
    "# are still null values for weight, payer_code,medical_specialty,diag_1,diag_2,diag_3\n",
    "# which will be handled subsequently.\n",
    "train.isnull().sum()\n",
    "test.isnull().sum()"
   ]
  },
  {
   "cell_type": "code",
   "execution_count": 19,
   "id": "210e7c1b",
   "metadata": {},
   "outputs": [
    {
     "data": {
      "text/plain": [
       "No    76321\n",
       "Name: citoglipton, dtype: int64"
      ]
     },
     "execution_count": 19,
     "metadata": {},
     "output_type": "execute_result"
    },
    {
     "data": {
      "text/plain": [
       "No    25442\n",
       "Name: citoglipton, dtype: int64"
      ]
     },
     "execution_count": 19,
     "metadata": {},
     "output_type": "execute_result"
    }
   ],
   "source": [
    "# The medicines citoglipton and examide have the same values for all encounters.\n",
    "# Therefore we remove the two attributes from our dataset.\n",
    "# Checking the fact that they have only one value for every encounter. \n",
    "\n",
    "train['citoglipton'].value_counts()\n",
    "test['citoglipton'].value_counts()"
   ]
  },
  {
   "cell_type": "code",
   "execution_count": 20,
   "id": "7b196593",
   "metadata": {},
   "outputs": [
    {
     "name": "stdout",
     "output_type": "stream",
     "text": [
      "<class 'pandas.core.frame.DataFrame'>\n",
      "Int64Index: 76321 entries, 0 to 76323\n",
      "Data columns (total 44 columns):\n",
      " #   Column                    Non-Null Count  Dtype \n",
      "---  ------                    --------------  ----- \n",
      " 0   patient_nbr               76321 non-null  int64 \n",
      " 1   race                      76321 non-null  object\n",
      " 2   gender                    76321 non-null  object\n",
      " 3   age                       76321 non-null  object\n",
      " 4   admission_type_id         76321 non-null  int64 \n",
      " 5   discharge_disposition_id  76321 non-null  int64 \n",
      " 6   admission_source_id       76321 non-null  int64 \n",
      " 7   time_in_hospital          76321 non-null  int64 \n",
      " 8   num_lab_procedures        76321 non-null  int64 \n",
      " 9   num_procedures            76321 non-null  int64 \n",
      " 10  num_medications           76321 non-null  int64 \n",
      " 11  number_outpatient         76321 non-null  int64 \n",
      " 12  number_emergency          76321 non-null  int64 \n",
      " 13  number_inpatient          76321 non-null  int64 \n",
      " 14  diag_1                    76301 non-null  object\n",
      " 15  diag_2                    76045 non-null  object\n",
      " 16  diag_3                    75240 non-null  object\n",
      " 17  number_diagnoses          76321 non-null  int64 \n",
      " 18  max_glu_serum             76321 non-null  object\n",
      " 19  A1Cresult                 76321 non-null  object\n",
      " 20  metformin                 76321 non-null  object\n",
      " 21  repaglinide               76321 non-null  object\n",
      " 22  nateglinide               76321 non-null  object\n",
      " 23  chlorpropamide            76321 non-null  object\n",
      " 24  glimepiride               76321 non-null  object\n",
      " 25  acetohexamide             76321 non-null  object\n",
      " 26  glipizide                 76321 non-null  object\n",
      " 27  glyburide                 76321 non-null  object\n",
      " 28  tolbutamide               76321 non-null  object\n",
      " 29  pioglitazone              76321 non-null  object\n",
      " 30  rosiglitazone             76321 non-null  object\n",
      " 31  acarbose                  76321 non-null  object\n",
      " 32  miglitol                  76321 non-null  object\n",
      " 33  troglitazone              76321 non-null  object\n",
      " 34  tolazamide                76321 non-null  object\n",
      " 35  insulin                   76321 non-null  object\n",
      " 36  glyburide-metformin       76321 non-null  object\n",
      " 37  glipizide-metformin       76321 non-null  object\n",
      " 38  glimepiride-pioglitazone  76321 non-null  object\n",
      " 39  metformin-rosiglitazone   76321 non-null  object\n",
      " 40  metformin-pioglitazone    76321 non-null  object\n",
      " 41  change                    76321 non-null  object\n",
      " 42  diabetesMed               76321 non-null  object\n",
      " 43  readmitted                76321 non-null  object\n",
      "dtypes: int64(12), object(32)\n",
      "memory usage: 26.2+ MB\n",
      "<class 'pandas.core.frame.DataFrame'>\n",
      "Int64Index: 25442 entries, 0 to 25441\n",
      "Data columns (total 44 columns):\n",
      " #   Column                    Non-Null Count  Dtype \n",
      "---  ------                    --------------  ----- \n",
      " 0   patient_nbr               25442 non-null  int64 \n",
      " 1   race                      25442 non-null  object\n",
      " 2   gender                    25442 non-null  object\n",
      " 3   age                       25442 non-null  object\n",
      " 4   admission_type_id         25442 non-null  int64 \n",
      " 5   discharge_disposition_id  25442 non-null  int64 \n",
      " 6   admission_source_id       25442 non-null  int64 \n",
      " 7   time_in_hospital          25442 non-null  int64 \n",
      " 8   num_lab_procedures        25442 non-null  int64 \n",
      " 9   num_procedures            25442 non-null  int64 \n",
      " 10  num_medications           25442 non-null  int64 \n",
      " 11  number_outpatient         25442 non-null  int64 \n",
      " 12  number_emergency          25442 non-null  int64 \n",
      " 13  number_inpatient          25442 non-null  int64 \n",
      " 14  diag_1                    25441 non-null  object\n",
      " 15  diag_2                    25360 non-null  object\n",
      " 16  diag_3                    25100 non-null  object\n",
      " 17  number_diagnoses          25442 non-null  int64 \n",
      " 18  max_glu_serum             25442 non-null  object\n",
      " 19  A1Cresult                 25442 non-null  object\n",
      " 20  metformin                 25442 non-null  object\n",
      " 21  repaglinide               25442 non-null  object\n",
      " 22  nateglinide               25442 non-null  object\n",
      " 23  chlorpropamide            25442 non-null  object\n",
      " 24  glimepiride               25442 non-null  object\n",
      " 25  acetohexamide             25442 non-null  object\n",
      " 26  glipizide                 25442 non-null  object\n",
      " 27  glyburide                 25442 non-null  object\n",
      " 28  tolbutamide               25442 non-null  object\n",
      " 29  pioglitazone              25442 non-null  object\n",
      " 30  rosiglitazone             25442 non-null  object\n",
      " 31  acarbose                  25442 non-null  object\n",
      " 32  miglitol                  25442 non-null  object\n",
      " 33  troglitazone              25442 non-null  object\n",
      " 34  tolazamide                25442 non-null  object\n",
      " 35  insulin                   25442 non-null  object\n",
      " 36  glyburide-metformin       25442 non-null  object\n",
      " 37  glipizide-metformin       25442 non-null  object\n",
      " 38  glimepiride-pioglitazone  25442 non-null  object\n",
      " 39  metformin-rosiglitazone   25442 non-null  object\n",
      " 40  metformin-pioglitazone    25442 non-null  object\n",
      " 41  change                    25442 non-null  object\n",
      " 42  diabetesMed               25442 non-null  object\n",
      " 43  readmitted                25442 non-null  object\n",
      "dtypes: int64(12), object(32)\n",
      "memory usage: 8.7+ MB\n"
     ]
    }
   ],
   "source": [
    "# removing the citoglipton and examide attributes\n",
    "# We also Remove the \"Encounter ID\" as it is just an ID.\n",
    "# Due to high percentage of missing values we drop payer_code,medical_specialty and weight\n",
    "\n",
    "train = train.drop(['Unnamed: 0','weight','payer_code','medical_specialty','encounter_id','citoglipton','examide'], axis = 1)\n",
    "test = test.drop(['Unnamed: 0','weight','payer_code','medical_specialty','encounter_id','citoglipton','examide'], axis = 1)\n",
    "train.info()\n",
    "test.info()\n",
    "\n",
    "\n"
   ]
  },
  {
   "cell_type": "code",
   "execution_count": 21,
   "id": "63c5ab22",
   "metadata": {},
   "outputs": [
    {
     "data": {
      "text/plain": [
       "readmitted\n",
       "<30     8518\n",
       ">30    26658\n",
       "NO     41145\n",
       "dtype: int64"
      ]
     },
     "execution_count": 21,
     "metadata": {},
     "output_type": "execute_result"
    }
   ],
   "source": [
    "# We check the value counts of the readmitted attribute\n",
    "# which tells us if a patient was hospitalized within 30 days, greater than 30 days or not readmitted.\n",
    "train.groupby('readmitted').size()"
   ]
  },
  {
   "cell_type": "code",
   "execution_count": 22,
   "id": "e1ac9b35",
   "metadata": {},
   "outputs": [],
   "source": [
    "# readmitted attribute has three values >30 and <30 and NO. So to convert into a binary classification problem\n",
    "# we transform the values into 0 and 1. We consider the <30 values to be 1 and >30 and NO values to be 0. \n",
    "train.readmitted = [1 if each=='<30' else 0 for each in train.readmitted]\n",
    "test.readmitted = [1 if each=='<30' else 0 for each in test.readmitted]"
   ]
  },
  {
   "cell_type": "code",
   "execution_count": 23,
   "id": "1742c3e2",
   "metadata": {},
   "outputs": [
    {
     "data": {
      "text/plain": [
       "<AxesSubplot:xlabel='readmitted', ylabel='count'>"
      ]
     },
     "execution_count": 23,
     "metadata": {},
     "output_type": "execute_result"
    },
    {
     "data": {
      "text/plain": [
       "<AxesSubplot:ylabel='readmitted'>"
      ]
     },
     "execution_count": 23,
     "metadata": {},
     "output_type": "execute_result"
    },
    {
     "data": {
      "image/png": "[encoded data removed]",
      "text/plain": [
       "<Figure size 864x360 with 2 Axes>"
      ]
     },
     "metadata": {
      "needs_background": "light"
     },
     "output_type": "display_data"
    }
   ],
   "source": [
    "# Plotting the countplot of the readmitted attribute and the pie chart to show the percentage \n",
    "# of the readmitted paitients. From the pie chart plot we can see that 88.84 percent of the patients were not readmitted after \n",
    "# discharge.\n",
    "\n",
    "fig, ax =plt.subplots(nrows=1,ncols=2, figsize=(12,5))\n",
    "labels=['0','1']\n",
    "sns.countplot(x=train.readmitted, data=train, palette=\"pastel\",ax=ax[0], edgecolor=\".3\")\n",
    "train.readmitted.value_counts().plot.pie(autopct=\"%1.2f%%\", ax=ax[1], colors=['#66a3ff','#facc99'], \n",
    "                                        labels=labels, explode = (0, 0.05), startangle=120,\n",
    "                                        textprops={'fontsize': 12, 'color':'#0a0a00'})\n",
    "plt.show()"
   ]
  },
  {
   "cell_type": "markdown",
   "id": "3d51ecb8",
   "metadata": {},
   "source": [
    "#### Observations\n",
    "- 88.4 percent of the patients were either readmitted after 30 days or never readmitted\n",
    "- Only 11.16 percent of the patients were readmitted within 30 days."
   ]
  },
  {
   "cell_type": "markdown",
   "id": "16a18ebe",
   "metadata": {},
   "source": [
    "#### Grouping admission_type_id, admission_source_id, discharge_disposition_id and diag_1,diag_2,diag_3\n",
    "- values into fewer categories\n",
    "\n",
    "- Admission_type_id (from 8 to 4) {Critical, Others, Newborn, Elective}\n",
    "- Admission_source_id ( from 26 to 3) {Emergency Room, Referral, Others}\n",
    "- Discharge_disposition_id (from 29 to 2) {Home,Others}\n",
    "- diag_1,diag_2,diag_3 values are ICD9 codes which refer to a particular category of diagnosis, so transformed these values to the category they belong to(Circulatory,Other,Respiratory,Digestive,Injury,Genitourinary,Musculoskeletal,Neoplasms,Diabetes)."
   ]
  },
  {
   "cell_type": "code",
   "execution_count": 24,
   "id": "3792bcda",
   "metadata": {},
   "outputs": [
    {
     "data": {
      "text/plain": [
       "Critical    54427\n",
       "Elective    14155\n",
       "Others       7731\n",
       "Newborn         8\n",
       "Name: admission_type_id, dtype: int64"
      ]
     },
     "execution_count": 24,
     "metadata": {},
     "output_type": "execute_result"
    }
   ],
   "source": [
    "# grouping admission_type_id values into fewer categories\n",
    "# grouping done based on data present in ID_mappins.csv file\n",
    "# The groups are the admission_type_id ((1,2,7),(5,6,8),3,4)\n",
    "\n",
    "train['admission_type_id'] = train['admission_type_id'].replace(2,1)\n",
    "train['admission_type_id'] = train['admission_type_id'].replace(7,1)\n",
    "train['admission_type_id'] = train['admission_type_id'].replace(6,5)\n",
    "train['admission_type_id'] = train['admission_type_id'].replace(8,5)\n",
    "train[\"admission_type_id\"].replace({1:'Critical'}, inplace = True)\n",
    "train[\"admission_type_id\"].replace({3:'Elective'}, inplace = True)\n",
    "train[\"admission_type_id\"].replace({4:'Newborn'}, inplace = True)\n",
    "train[\"admission_type_id\"].replace({5:'Others'}, inplace = True)\n",
    "\n",
    "test['admission_type_id'] = test['admission_type_id'].replace(2,1)\n",
    "test['admission_type_id'] = test['admission_type_id'].replace(7,1)\n",
    "test['admission_type_id'] = test['admission_type_id'].replace(6,5)\n",
    "test['admission_type_id'] = test['admission_type_id'].replace(8,5)\n",
    "\n",
    "# Grouping done in the following format(1,2,7:'Critical',5,6,8:'Others',3:'Elective',4:'Newborn')\n",
    "test[\"admission_type_id\"].replace({1:'Critical'}, inplace = True)\n",
    "test[\"admission_type_id\"].replace({3:'Elective'}, inplace = True)\n",
    "test[\"admission_type_id\"].replace({4:'Newborn'}, inplace = True)\n",
    "test[\"admission_type_id\"].replace({5:'Others'}, inplace = True)\n",
    "train['admission_type_id'].value_counts()"
   ]
  },
  {
   "cell_type": "code",
   "execution_count": 25,
   "id": "e3f33c5d",
   "metadata": {},
   "outputs": [
    {
     "data": {
      "text/plain": [
       "<AxesSubplot:xlabel='admission_type_id', ylabel='count'>"
      ]
     },
     "execution_count": 25,
     "metadata": {},
     "output_type": "execute_result"
    },
    {
     "data": {
      "text/plain": [
       "Text(0.5, 1.0, '-Distribution of Admission IDs-')"
      ]
     },
     "execution_count": 25,
     "metadata": {},
     "output_type": "execute_result"
    },
    {
     "data": {
      "image/png": "[encoded data removed]",
      "text/plain": [
       "<Figure size 432x288 with 1 Axes>"
      ]
     },
     "metadata": {
      "needs_background": "light"
     },
     "output_type": "display_data"
    }
   ],
   "source": [
    "# visualizing the various admission_type_ids\n",
    "\n",
    "sns.countplot(x = \"admission_type_id\", data = train)\n",
    "plt.title(\"-Distribution of Admission IDs-\")\n",
    "plt.show()\n",
    "\n",
    "# we see that most of the patients belong to the critical category."
   ]
  },
  {
   "cell_type": "code",
   "execution_count": 26,
   "id": "3015d036",
   "metadata": {},
   "outputs": [],
   "source": [
    "# grouping admission_source_id values into fewer categories\n",
    "# grouping done based on data present in ID_mappins.csv file\n",
    "# The groups are the admission_source_id ((1,2,3),(4,5,6,8,9,10,11,12,13,14,15,17,18,19,20,21,22,23,24,25,26),7)\n",
    "\n",
    "\n",
    "train['admission_source_id'] = train['admission_source_id'].replace(2,1)\n",
    "train['admission_source_id'] = train['admission_source_id'].replace(3,1)\n",
    "train['admission_source_id'] = train['admission_source_id'].replace(5,4)\n",
    "train['admission_source_id'] = train['admission_source_id'].replace(6,4)\n",
    "train['admission_source_id'] = train['admission_source_id'].replace(8,4)\n",
    "train['admission_source_id'] = train['admission_source_id'].replace(9,4)\n",
    "train['admission_source_id'] = train['admission_source_id'].replace(10,4)\n",
    "train['admission_source_id'] = train['admission_source_id'].replace(11,4)\n",
    "train['admission_source_id'] = train['admission_source_id'].replace(12,4)\n",
    "train['admission_source_id'] = train['admission_source_id'].replace(13,4)\n",
    "train['admission_source_id'] = train['admission_source_id'].replace(14,4)\n",
    "train['admission_source_id'] = train['admission_source_id'].replace(15,4)\n",
    "train['admission_source_id'] = train['admission_source_id'].replace(17,4)\n",
    "train['admission_source_id'] = train['admission_source_id'].replace(18,4)\n",
    "train['admission_source_id'] = train['admission_source_id'].replace(19,4)\n",
    "train['admission_source_id'] = train['admission_source_id'].replace(20,4)\n",
    "train['admission_source_id'] = train['admission_source_id'].replace(21,4)\n",
    "train['admission_source_id'] = train['admission_source_id'].replace(22,4)\n",
    "train['admission_source_id'] = train['admission_source_id'].replace(23,4)\n",
    "train['admission_source_id'] = train['admission_source_id'].replace(24,4)\n",
    "train['admission_source_id'] = train['admission_source_id'].replace(25,4)\n",
    "train['admission_source_id'] = train['admission_source_id'].replace(26,4)\n",
    "\n",
    "test['admission_source_id'] = test['admission_source_id'].replace(2,1)\n",
    "test['admission_source_id'] = test['admission_source_id'].replace(3,1)\n",
    "test['admission_source_id'] = test['admission_source_id'].replace(5,4)\n",
    "test['admission_source_id'] = test['admission_source_id'].replace(6,4)\n",
    "test['admission_source_id'] = test['admission_source_id'].replace(8,4)\n",
    "test['admission_source_id'] = test['admission_source_id'].replace(9,4)\n",
    "test['admission_source_id'] = test['admission_source_id'].replace(10,4)\n",
    "test['admission_source_id'] = test['admission_source_id'].replace(11,4)\n",
    "test['admission_source_id'] = test['admission_source_id'].replace(12,4)\n",
    "test['admission_source_id'] = test['admission_source_id'].replace(13,4)\n",
    "test['admission_source_id'] = test['admission_source_id'].replace(14,4)\n",
    "test['admission_source_id'] = test['admission_source_id'].replace(15,4)\n",
    "test['admission_source_id'] = test['admission_source_id'].replace(17,4)\n",
    "test['admission_source_id'] = test['admission_source_id'].replace(18,4)\n",
    "test['admission_source_id'] = test['admission_source_id'].replace(19,4)\n",
    "test['admission_source_id'] = test['admission_source_id'].replace(20,4)\n",
    "test['admission_source_id'] = test['admission_source_id'].replace(21,4)\n",
    "test['admission_source_id'] = test['admission_source_id'].replace(22,4)\n",
    "test['admission_source_id'] = test['admission_source_id'].replace(23,4)\n",
    "test['admission_source_id'] = test['admission_source_id'].replace(24,4)\n",
    "test['admission_source_id'] = test['admission_source_id'].replace(25,4)\n",
    "test['admission_source_id'] = test['admission_source_id'].replace(26,4)\n",
    "\n"
   ]
  },
  {
   "cell_type": "code",
   "execution_count": 27,
   "id": "c838fed8",
   "metadata": {},
   "outputs": [
    {
     "data": {
      "text/plain": [
       "Emergency Room    43205\n",
       "Referral          23096\n",
       "Others            10020\n",
       "Name: admission_source_id, dtype: int64"
      ]
     },
     "execution_count": 27,
     "metadata": {},
     "output_type": "execute_result"
    }
   ],
   "source": [
    "# Grouping done in the following format((1,2,3):'Referral',(4,5,6,8,9,10,11,12,13,14,15,17,18,19,20,21,22,23,24,25,26):'Others',7:'Emergency Room')\n",
    "train[\"admission_source_id\"].replace({1:'Referral'}, inplace = True)\n",
    "train[\"admission_source_id\"].replace({4:'Others'}, inplace = True)\n",
    "train[\"admission_source_id\"].replace({7:'Emergency Room'}, inplace = True)\n",
    "test[\"admission_source_id\"].replace({1:'Referral'}, inplace = True)\n",
    "test[\"admission_source_id\"].replace({4:'Others'}, inplace = True)\n",
    "test[\"admission_source_id\"].replace({7:'Emergency Room'}, inplace = True)\n",
    "train['admission_source_id'].value_counts()"
   ]
  },
  {
   "cell_type": "code",
   "execution_count": 28,
   "id": "64947fd1",
   "metadata": {},
   "outputs": [
    {
     "data": {
      "text/plain": [
       "<AxesSubplot:xlabel='admission_source_id', ylabel='count'>"
      ]
     },
     "execution_count": 28,
     "metadata": {},
     "output_type": "execute_result"
    },
    {
     "data": {
      "image/png": "[encoded data removed]",
      "text/plain": [
       "<Figure size 432x288 with 1 Axes>"
      ]
     },
     "metadata": {
      "needs_background": "light"
     },
     "output_type": "display_data"
    }
   ],
   "source": [
    "# visualizing the various source id's\n",
    "sns.countplot(x =\"admission_source_id\", data = train)\n",
    "plt.show()\n"
   ]
  },
  {
   "cell_type": "markdown",
   "id": "e6aa86a3",
   "metadata": {},
   "source": [
    "#### Observation\n",
    "- Most of the values belong to the Emergency Room category."
   ]
  },
  {
   "cell_type": "code",
   "execution_count": 29,
   "id": "3a70970e",
   "metadata": {},
   "outputs": [],
   "source": [
    "# From the IDs_mapping.csv provided, we can see that 11,13,14,19,20,21 are related to death or hospice.\n",
    "# We remove these samples from the predictive model since these patients cannot be readmitted.\n",
    "\n",
    "train = train.loc[~train.discharge_disposition_id.isin([11,13,14,19,20,21])]\n",
    "test = test.loc[~test.discharge_disposition_id.isin([11,13,14,19,20,21])]"
   ]
  },
  {
   "cell_type": "code",
   "execution_count": 30,
   "id": "a29e7be0",
   "metadata": {},
   "outputs": [
    {
     "data": {
      "text/plain": [
       "1    54953\n",
       "2    19588\n",
       "Name: discharge_disposition_id, dtype: int64"
      ]
     },
     "execution_count": 30,
     "metadata": {},
     "output_type": "execute_result"
    }
   ],
   "source": [
    "# grouping discharge_disposition_id values into fewer categories\n",
    "# grouping done based on data present in ID_mappins.csv file\n",
    "# The groups are the admission_source_id ((1,6,8),(3,18,2,22,5,25,4,7,23,28,,15,24,9,16,17,10,27,12))\n",
    "\n",
    "\n",
    "train['discharge_disposition_id'] = train['discharge_disposition_id'].replace(6,1)\n",
    "train['discharge_disposition_id'] = train['discharge_disposition_id'].replace(8,1)\n",
    "train['discharge_disposition_id'] = train['discharge_disposition_id'].replace(3,2)\n",
    "train['discharge_disposition_id'] = train['discharge_disposition_id'].replace(18,2)\n",
    "train['discharge_disposition_id'] = train['discharge_disposition_id'].replace(22,2)\n",
    "train['discharge_disposition_id'] = train['discharge_disposition_id'].replace(5,2)\n",
    "train['discharge_disposition_id'] = train['discharge_disposition_id'].replace(25,2)\n",
    "train['discharge_disposition_id'] = train['discharge_disposition_id'].replace(4,2)\n",
    "train['discharge_disposition_id'] = train['discharge_disposition_id'].replace(7,2)\n",
    "train['discharge_disposition_id'] = train['discharge_disposition_id'].replace(23,2)\n",
    "train['discharge_disposition_id'] = train['discharge_disposition_id'].replace(28,2)\n",
    "train['discharge_disposition_id'] = train['discharge_disposition_id'].replace(15,2)\n",
    "train['discharge_disposition_id'] = train['discharge_disposition_id'].replace(24,2)\n",
    "train['discharge_disposition_id'] = train['discharge_disposition_id'].replace(9,2)\n",
    "train['discharge_disposition_id'] = train['discharge_disposition_id'].replace(16,2)\n",
    "train['discharge_disposition_id'] = train['discharge_disposition_id'].replace(17,2)\n",
    "train['discharge_disposition_id'] = train['discharge_disposition_id'].replace(10,2)\n",
    "train['discharge_disposition_id'] = train['discharge_disposition_id'].replace(27,2)\n",
    "train['discharge_disposition_id'] = train['discharge_disposition_id'].replace(12,2)\n",
    "train['discharge_disposition_id'].value_counts()\n"
   ]
  },
  {
   "cell_type": "code",
   "execution_count": 31,
   "id": "4dbd3602",
   "metadata": {},
   "outputs": [
    {
     "data": {
      "text/plain": [
       "1    18289\n",
       "2     6510\n",
       "Name: discharge_disposition_id, dtype: int64"
      ]
     },
     "execution_count": 31,
     "metadata": {},
     "output_type": "execute_result"
    }
   ],
   "source": [
    "test['discharge_disposition_id'] = test['discharge_disposition_id'].replace(6,1)\n",
    "test['discharge_disposition_id'] = test['discharge_disposition_id'].replace(8,1)\n",
    "test['discharge_disposition_id'] = test['discharge_disposition_id'].replace(3,2)\n",
    "test['discharge_disposition_id'] = test['discharge_disposition_id'].replace(18,2)\n",
    "test['discharge_disposition_id'] = test['discharge_disposition_id'].replace(22,2)\n",
    "test['discharge_disposition_id'] = test['discharge_disposition_id'].replace(5,2)\n",
    "test['discharge_disposition_id'] = test['discharge_disposition_id'].replace(25,2)\n",
    "test['discharge_disposition_id'] = test['discharge_disposition_id'].replace(4,2)\n",
    "test['discharge_disposition_id'] = test['discharge_disposition_id'].replace(7,2)\n",
    "test['discharge_disposition_id'] = test['discharge_disposition_id'].replace(23,2)\n",
    "test['discharge_disposition_id'] = test['discharge_disposition_id'].replace(28,2)\n",
    "test['discharge_disposition_id'] = test['discharge_disposition_id'].replace(15,2)\n",
    "test['discharge_disposition_id'] = test['discharge_disposition_id'].replace(24,2)\n",
    "test['discharge_disposition_id'] = test['discharge_disposition_id'].replace(9,2)\n",
    "test['discharge_disposition_id'] = test['discharge_disposition_id'].replace(16,2)\n",
    "test['discharge_disposition_id'] = test['discharge_disposition_id'].replace(17,2)\n",
    "test['discharge_disposition_id'] = test['discharge_disposition_id'].replace(10,2)\n",
    "test['discharge_disposition_id'] = test['discharge_disposition_id'].replace(27,2)\n",
    "test['discharge_disposition_id'] = test['discharge_disposition_id'].replace(12,2)\n",
    "\n",
    "# making sure that the values have been grouped properly\n",
    "test['discharge_disposition_id'].value_counts()\n"
   ]
  },
  {
   "cell_type": "code",
   "execution_count": 32,
   "id": "13820c16",
   "metadata": {},
   "outputs": [
    {
     "data": {
      "text/plain": [
       "Home     18289\n",
       "Other     6510\n",
       "Name: discharge_disposition_id, dtype: int64"
      ]
     },
     "execution_count": 32,
     "metadata": {},
     "output_type": "execute_result"
    }
   ],
   "source": [
    "# Grouping done in the following format((1,6,8):'Home',(3,18,2,22,5,25,4,7,23,28,,15,24,9,16,17,10,27,12):'Other')\n",
    "train[\"discharge_disposition_id\"].replace({1:'Home'}, inplace = True)\n",
    "train[\"discharge_disposition_id\"].replace({2:'Other'}, inplace = True)\n",
    "\n",
    "test[\"discharge_disposition_id\"].replace({1:'Home'}, inplace = True)\n",
    "test[\"discharge_disposition_id\"].replace({2:'Other'}, inplace = True)\n",
    "\n",
    "# making sure that the values have been grouped properly in test dataset\n",
    "test['discharge_disposition_id'].value_counts()"
   ]
  },
  {
   "cell_type": "code",
   "execution_count": 33,
   "id": "93a7568c",
   "metadata": {},
   "outputs": [
    {
     "data": {
      "text/plain": [
       "Home     54953\n",
       "Other    19588\n",
       "Name: discharge_disposition_id, dtype: int64"
      ]
     },
     "execution_count": 33,
     "metadata": {},
     "output_type": "execute_result"
    }
   ],
   "source": [
    "# making sure that the values have been grouped properly in train dataset\n",
    "train['discharge_disposition_id'].value_counts()"
   ]
  },
  {
   "cell_type": "code",
   "execution_count": 34,
   "id": "df168014",
   "metadata": {},
   "outputs": [
    {
     "data": {
      "text/plain": [
       "<AxesSubplot:xlabel='discharge_disposition_id', ylabel='count'>"
      ]
     },
     "execution_count": 34,
     "metadata": {},
     "output_type": "execute_result"
    },
    {
     "data": {
      "image/png": "[encoded data removed]",
      "text/plain": [
       "<Figure size 432x288 with 1 Axes>"
      ]
     },
     "metadata": {
      "needs_background": "light"
     },
     "output_type": "display_data"
    }
   ],
   "source": [
    "# visualizing the various discharge_disposition_ids\n",
    "sns.countplot(x =\"discharge_disposition_id\", data = train)\n",
    "plt.show()"
   ]
  },
  {
   "cell_type": "code",
   "execution_count": 35,
   "id": "1fb63131",
   "metadata": {},
   "outputs": [],
   "source": [
    "# Transforming the diag_1,diag_2,diag_3 features.\n",
    "diag_list = ['diag_1','diag_2','diag_3']\n",
    "\n",
    "for col in diag_list:\n",
    "    train[col].fillna('NaN', inplace=True)  # filling all the missing values in the column with NaN, train\n",
    "    test[col].fillna('NaN', inplace=True)  # filling all the missing values in the column with NaN, test"
   ]
  },
  {
   "cell_type": "code",
   "execution_count": 36,
   "id": "c1d09a6c",
   "metadata": {},
   "outputs": [],
   "source": [
    "import re\n",
    "\n",
    "# grouping diag_1,diag_2,diag_3 values into 9 categories. \n",
    "\n",
    "def transformFunc(value):\n",
    "    #function to do regex matching on the value,\n",
    "    value = re.sub(\"V[0-9]*\", \"0\", value)  # for ICD codes containing with V, compute regex matching\n",
    "    value = re.sub(\"E[0-9]*\", \"0\", value)  # for ICD codes beginning with E, compute regex matching\n",
    "    value = re.sub('NaN', \"-1\", value)  # for ICD codes containing NaN, compute regex matching\n",
    "    return value\n",
    "\n",
    "def transformCategory(value):\n",
    "    #Return the category associated with value.\n",
    "    if value>=390 and value<=459 or value==785:\n",
    "        category = 'Circulatory'    # if value is between 390 and 459 or 785 category is Circulatory.\n",
    "    elif value>=460 and value<=519 or value==786:\n",
    "        category = 'Respiratory'\n",
    "    elif value>=520 and value<=579 or value==787:\n",
    "        category = 'Digestive'\n",
    "    elif value==250:\n",
    "        category = 'Diabetes'\n",
    "    elif value>=800 and value<=999:\n",
    "        category = 'Injury'          \n",
    "    elif value>=710 and value<=739:\n",
    "        category = 'Musculoskeletal'   \n",
    "    elif value>=580 and value<=629 or value==788:\n",
    "        category = 'Genitourinary'\n",
    "    elif value>=140 and value<=239 :\n",
    "        category = 'Neoplasms'\n",
    "    else :\n",
    "        category = 'Other'\n",
    "\n",
    "    return category  # return the associated category value."
   ]
  },
  {
   "cell_type": "code",
   "execution_count": 37,
   "id": "b2fcfdda",
   "metadata": {},
   "outputs": [],
   "source": [
    "# for each column in diag_list (diag_1,diag_2,diag_3)\n",
    "for col in diag_list:\n",
    "    train[col] = train[col].apply(transformFunc) #apply transform func to the column in train data\n",
    "    train[col] = train[col].astype(float)   # convert the datatype of the column values into float\n",
    "    test[col] = test[col].apply(transformFunc) #apply transform func to the column in test data\n",
    "    test[col] = test[col].astype(float)   # convert the datatype of the column values into float"
   ]
  },
  {
   "cell_type": "code",
   "execution_count": 38,
   "id": "409be600",
   "metadata": {},
   "outputs": [],
   "source": [
    "# for each column in diag_list (diag_1,diag_2,diag_3)\n",
    "for col in diag_list:\n",
    "    train[col] = train[col].apply(transformCategory) #apply transformCategory method to the column in train data\n",
    "    test[col] = test[col].apply(transformCategory) #apply transformCategory method to the column in test data"
   ]
  },
  {
   "cell_type": "code",
   "execution_count": 39,
   "id": "86c8db18",
   "metadata": {},
   "outputs": [
    {
     "data": {
      "text/plain": [
       "Circulatory        22160\n",
       "Other              19722\n",
       "Respiratory        10498\n",
       "Digestive           7010\n",
       "Injury              5185\n",
       "Genitourinary       3736\n",
       "Musculoskeletal     3697\n",
       "Neoplasms           2353\n",
       "Diabetes             180\n",
       "Name: diag_1, dtype: int64"
      ]
     },
     "execution_count": 39,
     "metadata": {},
     "output_type": "execute_result"
    }
   ],
   "source": [
    "# Checking the value counts of the diag_1 feature to make sure the diag_1 feature has been grouped properly.\n",
    "train['diag_1'].value_counts()"
   ]
  },
  {
   "cell_type": "code",
   "execution_count": 40,
   "id": "472145b4",
   "metadata": {},
   "outputs": [
    {
     "data": {
      "image/png": "[encoded data removed]",
      "text/plain": [
       "<Figure size 432x288 with 1 Axes>"
      ]
     },
     "metadata": {
      "needs_background": "light"
     },
     "output_type": "display_data"
    },
    {
     "data": {
      "image/png": "[encoded data removed]",
      "text/plain": [
       "<Figure size 432x288 with 1 Axes>"
      ]
     },
     "metadata": {
      "needs_background": "light"
     },
     "output_type": "display_data"
    },
    {
     "data": {
      "image/png": "[encoded data removed]",
      "text/plain": [
       "<Figure size 432x288 with 1 Axes>"
      ]
     },
     "metadata": {
      "needs_background": "light"
     },
     "output_type": "display_data"
    }
   ],
   "source": [
    "# visualizing the different category values of diag_1,diag_2,doag_3\n",
    "\n",
    "def plotting_diag(c,data):\n",
    "    sns.countplot(x = c, data = data,\n",
    "            order = data[f\"{c}\"].value_counts().index)\n",
    "    plt.title(c)\n",
    "    plt.show()\n",
    "\n",
    "diag_list = [\"diag_1\",\"diag_2\",\"diag_3\"]\n",
    "\n",
    "for diag in diag_list:\n",
    "    plotting_diag(diag,train)"
   ]
  },
  {
   "cell_type": "code",
   "execution_count": 41,
   "id": "df952c8f",
   "metadata": {},
   "outputs": [],
   "source": [
    "# Also converted the age feature values into midpoint of the category the particular value belongs to.\n",
    "train.age = train.age.replace({\"[70-80)\":75,  #midpoint of 70-80 is 75 , so replacing the catgeory with the midpoint value.\n",
    "                         \"[60-70)\":65,\n",
    "                         \"[50-60)\":55,\n",
    "                         \"[80-90)\":85,\n",
    "                         \"[40-50)\":45,\n",
    "                         \"[30-40)\":35,\n",
    "                         \"[90-100)\":95,\n",
    "                         \"[20-30)\":25,\n",
    "                         \"[10-20)\":15,\n",
    "                         \"[0-10)\":5})\n",
    "\n",
    "# doing the same conversion in test data too.\n",
    "test.age = test.age.replace({\"[70-80)\":75,\n",
    "                         \"[60-70)\":65,\n",
    "                         \"[50-60)\":55,\n",
    "                         \"[80-90)\":85,\n",
    "                         \"[40-50)\":45,\n",
    "                         \"[30-40)\":35,\n",
    "                         \"[90-100)\":95,\n",
    "                         \"[20-30)\":25,\n",
    "                         \"[10-20)\":15,\n",
    "                         \"[0-10)\":5})"
   ]
  },
  {
   "cell_type": "code",
   "execution_count": 42,
   "id": "422c7e3c",
   "metadata": {},
   "outputs": [
    {
     "data": {
      "text/plain": [
       "(55949, 44)"
      ]
     },
     "execution_count": 42,
     "metadata": {},
     "output_type": "execute_result"
    },
    {
     "data": {
      "text/plain": [
       "(24799, 44)"
      ]
     },
     "execution_count": 42,
     "metadata": {},
     "output_type": "execute_result"
    }
   ],
   "source": [
    "# dropping duplicate encounters for patients from train set.\n",
    "train = train.drop_duplicates(subset=['patient_nbr'])\n",
    "\n",
    "# checking the shapes of the two datasets after removing the duplicates\n",
    "train.shape\n",
    "test.shape"
   ]
  },
  {
   "cell_type": "code",
   "execution_count": 43,
   "id": "7b481c84",
   "metadata": {},
   "outputs": [
    {
     "name": "stdout",
     "output_type": "stream",
     "text": [
      "<class 'pandas.core.frame.DataFrame'>\n",
      "Int64Index: 55949 entries, 0 to 76323\n",
      "Data columns (total 43 columns):\n",
      " #   Column                    Non-Null Count  Dtype \n",
      "---  ------                    --------------  ----- \n",
      " 0   race                      55949 non-null  object\n",
      " 1   gender                    55949 non-null  object\n",
      " 2   age                       55949 non-null  int64 \n",
      " 3   admission_type_id         55949 non-null  object\n",
      " 4   discharge_disposition_id  55949 non-null  object\n",
      " 5   admission_source_id       55949 non-null  object\n",
      " 6   time_in_hospital          55949 non-null  int64 \n",
      " 7   num_lab_procedures        55949 non-null  int64 \n",
      " 8   num_procedures            55949 non-null  int64 \n",
      " 9   num_medications           55949 non-null  int64 \n",
      " 10  number_outpatient         55949 non-null  int64 \n",
      " 11  number_emergency          55949 non-null  int64 \n",
      " 12  number_inpatient          55949 non-null  int64 \n",
      " 13  diag_1                    55949 non-null  object\n",
      " 14  diag_2                    55949 non-null  object\n",
      " 15  diag_3                    55949 non-null  object\n",
      " 16  number_diagnoses          55949 non-null  int64 \n",
      " 17  max_glu_serum             55949 non-null  object\n",
      " 18  A1Cresult                 55949 non-null  object\n",
      " 19  metformin                 55949 non-null  object\n",
      " 20  repaglinide               55949 non-null  object\n",
      " 21  nateglinide               55949 non-null  object\n",
      " 22  chlorpropamide            55949 non-null  object\n",
      " 23  glimepiride               55949 non-null  object\n",
      " 24  acetohexamide             55949 non-null  object\n",
      " 25  glipizide                 55949 non-null  object\n",
      " 26  glyburide                 55949 non-null  object\n",
      " 27  tolbutamide               55949 non-null  object\n",
      " 28  pioglitazone              55949 non-null  object\n",
      " 29  rosiglitazone             55949 non-null  object\n",
      " 30  acarbose                  55949 non-null  object\n",
      " 31  miglitol                  55949 non-null  object\n",
      " 32  troglitazone              55949 non-null  object\n",
      " 33  tolazamide                55949 non-null  object\n",
      " 34  insulin                   55949 non-null  object\n",
      " 35  glyburide-metformin       55949 non-null  object\n",
      " 36  glipizide-metformin       55949 non-null  object\n",
      " 37  glimepiride-pioglitazone  55949 non-null  object\n",
      " 38  metformin-rosiglitazone   55949 non-null  object\n",
      " 39  metformin-pioglitazone    55949 non-null  object\n",
      " 40  change                    55949 non-null  object\n",
      " 41  diabetesMed               55949 non-null  object\n",
      " 42  readmitted                55949 non-null  int64 \n",
      "dtypes: int64(10), object(33)\n",
      "memory usage: 18.8+ MB\n",
      "<class 'pandas.core.frame.DataFrame'>\n",
      "Int64Index: 24799 entries, 0 to 25441\n",
      "Data columns (total 43 columns):\n",
      " #   Column                    Non-Null Count  Dtype \n",
      "---  ------                    --------------  ----- \n",
      " 0   race                      24799 non-null  object\n",
      " 1   gender                    24799 non-null  object\n",
      " 2   age                       24799 non-null  int64 \n",
      " 3   admission_type_id         24799 non-null  object\n",
      " 4   discharge_disposition_id  24799 non-null  object\n",
      " 5   admission_source_id       24799 non-null  object\n",
      " 6   time_in_hospital          24799 non-null  int64 \n",
      " 7   num_lab_procedures        24799 non-null  int64 \n",
      " 8   num_procedures            24799 non-null  int64 \n",
      " 9   num_medications           24799 non-null  int64 \n",
      " 10  number_outpatient         24799 non-null  int64 \n",
      " 11  number_emergency          24799 non-null  int64 \n",
      " 12  number_inpatient          24799 non-null  int64 \n",
      " 13  diag_1                    24799 non-null  object\n",
      " 14  diag_2                    24799 non-null  object\n",
      " 15  diag_3                    24799 non-null  object\n",
      " 16  number_diagnoses          24799 non-null  int64 \n",
      " 17  max_glu_serum             24799 non-null  object\n",
      " 18  A1Cresult                 24799 non-null  object\n",
      " 19  metformin                 24799 non-null  object\n",
      " 20  repaglinide               24799 non-null  object\n",
      " 21  nateglinide               24799 non-null  object\n",
      " 22  chlorpropamide            24799 non-null  object\n",
      " 23  glimepiride               24799 non-null  object\n",
      " 24  acetohexamide             24799 non-null  object\n",
      " 25  glipizide                 24799 non-null  object\n",
      " 26  glyburide                 24799 non-null  object\n",
      " 27  tolbutamide               24799 non-null  object\n",
      " 28  pioglitazone              24799 non-null  object\n",
      " 29  rosiglitazone             24799 non-null  object\n",
      " 30  acarbose                  24799 non-null  object\n",
      " 31  miglitol                  24799 non-null  object\n",
      " 32  troglitazone              24799 non-null  object\n",
      " 33  tolazamide                24799 non-null  object\n",
      " 34  insulin                   24799 non-null  object\n",
      " 35  glyburide-metformin       24799 non-null  object\n",
      " 36  glipizide-metformin       24799 non-null  object\n",
      " 37  glimepiride-pioglitazone  24799 non-null  object\n",
      " 38  metformin-rosiglitazone   24799 non-null  object\n",
      " 39  metformin-pioglitazone    24799 non-null  object\n",
      " 40  change                    24799 non-null  object\n",
      " 41  diabetesMed               24799 non-null  object\n",
      " 42  readmitted                24799 non-null  int64 \n",
      "dtypes: int64(10), object(33)\n",
      "memory usage: 8.3+ MB\n"
     ]
    }
   ],
   "source": [
    "# Dropping the patient_nbr feature because it is just an ID and including it might\n",
    "# give some weird results during prediction.\n",
    "train = train.drop(['patient_nbr'], axis = 1)\n",
    "test = test.drop(['patient_nbr'], axis = 1)\n",
    "train.info()\n",
    "test.info()\n"
   ]
  },
  {
   "cell_type": "markdown",
   "id": "5bc4b062",
   "metadata": {},
   "source": [
    "#### Encoding Categorical variables"
   ]
  },
  {
   "cell_type": "markdown",
   "id": "ccfaef1d",
   "metadata": {},
   "source": [
    "##### Note\n",
    "- Here I am encoding the categorical features of both the train and test dataset.\n",
    "- Used three approaches(Manual encoding for some features, Encoding using LabelEncoder for a few features and OneHotEncoding\n",
    "for the remaining categorical features. \n",
    "- Tried out different approaches."
   ]
  },
  {
   "cell_type": "code",
   "execution_count": 44,
   "id": "04447d19",
   "metadata": {},
   "outputs": [],
   "source": [
    "# Approach 1) Manual encoding for some features\n",
    "# Manually Encoding the values in the features which refer to various medications used by the the patients.\n",
    "medicines = ['repaglinide', 'nateglinide','acetohexamide','chlorpropamide', 'glimepiride', 'glipizide', 'glyburide', 'pioglitazone',\n",
    "        'rosiglitazone', 'acarbose','metformin', 'miglitol', 'insulin', 'glyburide-metformin', 'tolazamide', 'metformin-pioglitazone',\n",
    "        'metformin-rosiglitazone', 'glimepiride-pioglitazone', 'glipizide-metformin', 'troglitazone', 'tolbutamide']\n",
    "\n",
    "# representing the values in the format('No':0,'Steady':1,'Up':1,'Down':1)\n",
    "for c in medicines:\n",
    "    train[c] = train[c].replace(['No','Steady','Up','Down'],[0,1,1,1])\n",
    "    train[c] = train[c].astype(int)\n",
    "    test[c] = test[c].replace(['No','Steady','Up','Down'],[0,1,1,1])\n",
    "    test[c] = test[c].astype(int)"
   ]
  },
  {
   "cell_type": "code",
   "execution_count": 45,
   "id": "437ac382",
   "metadata": {},
   "outputs": [],
   "source": [
    "#Encoding the values in the AICresult feature \n",
    "#representing the values in the format('>7':1,'>8':1,'Norm':0,'None':-15)\n",
    "train['A1Cresult'] = train['A1Cresult'].replace(['>7','>8','Norm','None'],[1,1,0,-15])\n",
    "test['A1Cresult'] = test['A1Cresult'].replace(['>7','>8','Norm','None'],[1,1,0,-15])\n",
    "\n",
    "#Encoding the values in the max_glu_serum feature \n",
    "#representing the values in the format('>200':1,'>300':1,'Norm':0,'None':-15)\n",
    "train['max_glu_serum'] = train['max_glu_serum'].replace(['>200','>300','Norm','None'],[1,1,0,-15])\n",
    "test['max_glu_serum'] = test['max_glu_serum'].replace(['>200','>300','Norm','None'],[1,1,0,-15])\n",
    "\n",
    "#Encoding the values in the change feature \n",
    "#representing the values in the format('Ch':1,'No':0)\n",
    "train['change'] = train['change'].replace(['Ch','No'],[1,0])\n",
    "test['change'] = test['change'].replace(['Ch','No'],[1,0])\n",
    "\n",
    "#Encoding the values in the diabetesMed feature \n",
    "#representing the values in the format('No':0,'Yes':1)\n",
    "train['diabetesMed'] = train['diabetesMed'].replace(['No','Yes'],[0,1])\n",
    "test['diabetesMed'] = test['diabetesMed'].replace(['No','Yes'],[0,1])"
   ]
  },
  {
   "cell_type": "code",
   "execution_count": 46,
   "id": "1caf265c",
   "metadata": {},
   "outputs": [
    {
     "data": {
      "text/plain": [
       "-15    53235\n",
       " 0      1365\n",
       " 1      1349\n",
       "Name: max_glu_serum, dtype: int64"
      ]
     },
     "execution_count": 46,
     "metadata": {},
     "output_type": "execute_result"
    }
   ],
   "source": [
    "# Checking the counts of different values in the max_glu_serum feature to make sure our manual encoding worked.\n",
    "train['max_glu_serum'].value_counts()"
   ]
  },
  {
   "cell_type": "code",
   "execution_count": 47,
   "id": "d31d99cb",
   "metadata": {},
   "outputs": [],
   "source": [
    "# Encoding the features('diag_1','diag_2','diag_3') using LabelEncoder method\n",
    "from sklearn.preprocessing import LabelEncoder\n",
    "label_enc = LabelEncoder()\n",
    "#encoding each column in the list diag_list\n",
    "for c in diag_list:\n",
    "    train[c] = label_enc.fit_transform(train[c])\n",
    "    test[c] = label_enc.fit_transform(test[c])"
   ]
  },
  {
   "cell_type": "code",
   "execution_count": 48,
   "id": "d6ae64df",
   "metadata": {},
   "outputs": [],
   "source": [
    "# remaining categorical columns in the dataset\n",
    "cat_cols = ['race','gender','admission_type_id','discharge_disposition_id','admission_source_id']"
   ]
  },
  {
   "cell_type": "code",
   "execution_count": 49,
   "id": "cf2f0b18",
   "metadata": {},
   "outputs": [
    {
     "data": {
      "text/html": [
       "<div>\n",
       "<style scoped>\n",
       "    .dataframe tbody tr th:only-of-type {\n",
       "        vertical-align: middle;\n",
       "    }\n",
       "\n",
       "    .dataframe tbody tr th {\n",
       "        vertical-align: top;\n",
       "    }\n",
       "\n",
       "    .dataframe thead th {\n",
       "        text-align: right;\n",
       "    }\n",
       "</style>\n",
       "<table border=\"1\" class=\"dataframe\">\n",
       "  <thead>\n",
       "    <tr style=\"text-align: right;\">\n",
       "      <th></th>\n",
       "      <th>race</th>\n",
       "      <th>gender</th>\n",
       "      <th>age</th>\n",
       "      <th>admission_type_id</th>\n",
       "      <th>discharge_disposition_id</th>\n",
       "      <th>admission_source_id</th>\n",
       "      <th>time_in_hospital</th>\n",
       "      <th>num_lab_procedures</th>\n",
       "      <th>num_procedures</th>\n",
       "      <th>num_medications</th>\n",
       "      <th>...</th>\n",
       "      <th>insulin</th>\n",
       "      <th>glyburide-metformin</th>\n",
       "      <th>glipizide-metformin</th>\n",
       "      <th>glimepiride-pioglitazone</th>\n",
       "      <th>metformin-rosiglitazone</th>\n",
       "      <th>metformin-pioglitazone</th>\n",
       "      <th>change</th>\n",
       "      <th>diabetesMed</th>\n",
       "      <th>readmitted</th>\n",
       "      <th>train_yes</th>\n",
       "    </tr>\n",
       "  </thead>\n",
       "  <tbody>\n",
       "    <tr>\n",
       "      <th>0</th>\n",
       "      <td>AfricanAmerican</td>\n",
       "      <td>Male</td>\n",
       "      <td>75</td>\n",
       "      <td>Critical</td>\n",
       "      <td>Other</td>\n",
       "      <td>Emergency Room</td>\n",
       "      <td>3</td>\n",
       "      <td>63</td>\n",
       "      <td>0</td>\n",
       "      <td>7</td>\n",
       "      <td>...</td>\n",
       "      <td>0</td>\n",
       "      <td>0</td>\n",
       "      <td>0</td>\n",
       "      <td>0</td>\n",
       "      <td>0</td>\n",
       "      <td>0</td>\n",
       "      <td>0</td>\n",
       "      <td>0</td>\n",
       "      <td>0</td>\n",
       "      <td>1</td>\n",
       "    </tr>\n",
       "    <tr>\n",
       "      <th>1</th>\n",
       "      <td>Caucasian</td>\n",
       "      <td>Female</td>\n",
       "      <td>75</td>\n",
       "      <td>Elective</td>\n",
       "      <td>Home</td>\n",
       "      <td>Referral</td>\n",
       "      <td>1</td>\n",
       "      <td>54</td>\n",
       "      <td>6</td>\n",
       "      <td>8</td>\n",
       "      <td>...</td>\n",
       "      <td>0</td>\n",
       "      <td>0</td>\n",
       "      <td>0</td>\n",
       "      <td>0</td>\n",
       "      <td>0</td>\n",
       "      <td>0</td>\n",
       "      <td>0</td>\n",
       "      <td>0</td>\n",
       "      <td>0</td>\n",
       "      <td>1</td>\n",
       "    </tr>\n",
       "    <tr>\n",
       "      <th>2</th>\n",
       "      <td>Caucasian</td>\n",
       "      <td>Male</td>\n",
       "      <td>65</td>\n",
       "      <td>Elective</td>\n",
       "      <td>Home</td>\n",
       "      <td>Referral</td>\n",
       "      <td>4</td>\n",
       "      <td>51</td>\n",
       "      <td>1</td>\n",
       "      <td>19</td>\n",
       "      <td>...</td>\n",
       "      <td>0</td>\n",
       "      <td>0</td>\n",
       "      <td>0</td>\n",
       "      <td>0</td>\n",
       "      <td>0</td>\n",
       "      <td>0</td>\n",
       "      <td>1</td>\n",
       "      <td>1</td>\n",
       "      <td>0</td>\n",
       "      <td>1</td>\n",
       "    </tr>\n",
       "    <tr>\n",
       "      <th>3</th>\n",
       "      <td>AfricanAmerican</td>\n",
       "      <td>Male</td>\n",
       "      <td>45</td>\n",
       "      <td>Elective</td>\n",
       "      <td>Home</td>\n",
       "      <td>Referral</td>\n",
       "      <td>2</td>\n",
       "      <td>16</td>\n",
       "      <td>0</td>\n",
       "      <td>7</td>\n",
       "      <td>...</td>\n",
       "      <td>0</td>\n",
       "      <td>0</td>\n",
       "      <td>0</td>\n",
       "      <td>0</td>\n",
       "      <td>0</td>\n",
       "      <td>0</td>\n",
       "      <td>0</td>\n",
       "      <td>0</td>\n",
       "      <td>0</td>\n",
       "      <td>1</td>\n",
       "    </tr>\n",
       "    <tr>\n",
       "      <th>4</th>\n",
       "      <td>Caucasian</td>\n",
       "      <td>Male</td>\n",
       "      <td>85</td>\n",
       "      <td>Critical</td>\n",
       "      <td>Home</td>\n",
       "      <td>Others</td>\n",
       "      <td>1</td>\n",
       "      <td>64</td>\n",
       "      <td>0</td>\n",
       "      <td>3</td>\n",
       "      <td>...</td>\n",
       "      <td>0</td>\n",
       "      <td>0</td>\n",
       "      <td>0</td>\n",
       "      <td>0</td>\n",
       "      <td>0</td>\n",
       "      <td>0</td>\n",
       "      <td>0</td>\n",
       "      <td>0</td>\n",
       "      <td>0</td>\n",
       "      <td>1</td>\n",
       "    </tr>\n",
       "    <tr>\n",
       "      <th>...</th>\n",
       "      <td>...</td>\n",
       "      <td>...</td>\n",
       "      <td>...</td>\n",
       "      <td>...</td>\n",
       "      <td>...</td>\n",
       "      <td>...</td>\n",
       "      <td>...</td>\n",
       "      <td>...</td>\n",
       "      <td>...</td>\n",
       "      <td>...</td>\n",
       "      <td>...</td>\n",
       "      <td>...</td>\n",
       "      <td>...</td>\n",
       "      <td>...</td>\n",
       "      <td>...</td>\n",
       "      <td>...</td>\n",
       "      <td>...</td>\n",
       "      <td>...</td>\n",
       "      <td>...</td>\n",
       "      <td>...</td>\n",
       "      <td>...</td>\n",
       "    </tr>\n",
       "    <tr>\n",
       "      <th>25437</th>\n",
       "      <td>Caucasian</td>\n",
       "      <td>Male</td>\n",
       "      <td>55</td>\n",
       "      <td>Critical</td>\n",
       "      <td>Other</td>\n",
       "      <td>Emergency Room</td>\n",
       "      <td>6</td>\n",
       "      <td>48</td>\n",
       "      <td>2</td>\n",
       "      <td>12</td>\n",
       "      <td>...</td>\n",
       "      <td>0</td>\n",
       "      <td>0</td>\n",
       "      <td>0</td>\n",
       "      <td>0</td>\n",
       "      <td>0</td>\n",
       "      <td>0</td>\n",
       "      <td>1</td>\n",
       "      <td>1</td>\n",
       "      <td>0</td>\n",
       "      <td>0</td>\n",
       "    </tr>\n",
       "    <tr>\n",
       "      <th>25438</th>\n",
       "      <td>Caucasian</td>\n",
       "      <td>Male</td>\n",
       "      <td>55</td>\n",
       "      <td>Elective</td>\n",
       "      <td>Home</td>\n",
       "      <td>Emergency Room</td>\n",
       "      <td>5</td>\n",
       "      <td>43</td>\n",
       "      <td>0</td>\n",
       "      <td>18</td>\n",
       "      <td>...</td>\n",
       "      <td>1</td>\n",
       "      <td>0</td>\n",
       "      <td>0</td>\n",
       "      <td>0</td>\n",
       "      <td>0</td>\n",
       "      <td>0</td>\n",
       "      <td>1</td>\n",
       "      <td>1</td>\n",
       "      <td>0</td>\n",
       "      <td>0</td>\n",
       "    </tr>\n",
       "    <tr>\n",
       "      <th>25439</th>\n",
       "      <td>Caucasian</td>\n",
       "      <td>Male</td>\n",
       "      <td>85</td>\n",
       "      <td>Critical</td>\n",
       "      <td>Other</td>\n",
       "      <td>Emergency Room</td>\n",
       "      <td>6</td>\n",
       "      <td>18</td>\n",
       "      <td>2</td>\n",
       "      <td>16</td>\n",
       "      <td>...</td>\n",
       "      <td>0</td>\n",
       "      <td>0</td>\n",
       "      <td>0</td>\n",
       "      <td>0</td>\n",
       "      <td>0</td>\n",
       "      <td>0</td>\n",
       "      <td>0</td>\n",
       "      <td>1</td>\n",
       "      <td>0</td>\n",
       "      <td>0</td>\n",
       "    </tr>\n",
       "    <tr>\n",
       "      <th>25440</th>\n",
       "      <td>Caucasian</td>\n",
       "      <td>Male</td>\n",
       "      <td>75</td>\n",
       "      <td>Critical</td>\n",
       "      <td>Other</td>\n",
       "      <td>Emergency Room</td>\n",
       "      <td>8</td>\n",
       "      <td>51</td>\n",
       "      <td>0</td>\n",
       "      <td>16</td>\n",
       "      <td>...</td>\n",
       "      <td>1</td>\n",
       "      <td>0</td>\n",
       "      <td>0</td>\n",
       "      <td>0</td>\n",
       "      <td>0</td>\n",
       "      <td>0</td>\n",
       "      <td>1</td>\n",
       "      <td>1</td>\n",
       "      <td>0</td>\n",
       "      <td>0</td>\n",
       "    </tr>\n",
       "    <tr>\n",
       "      <th>25441</th>\n",
       "      <td>AfricanAmerican</td>\n",
       "      <td>Female</td>\n",
       "      <td>55</td>\n",
       "      <td>Critical</td>\n",
       "      <td>Home</td>\n",
       "      <td>Emergency Room</td>\n",
       "      <td>8</td>\n",
       "      <td>58</td>\n",
       "      <td>1</td>\n",
       "      <td>9</td>\n",
       "      <td>...</td>\n",
       "      <td>1</td>\n",
       "      <td>0</td>\n",
       "      <td>0</td>\n",
       "      <td>0</td>\n",
       "      <td>0</td>\n",
       "      <td>0</td>\n",
       "      <td>1</td>\n",
       "      <td>1</td>\n",
       "      <td>0</td>\n",
       "      <td>0</td>\n",
       "    </tr>\n",
       "  </tbody>\n",
       "</table>\n",
       "<p>80748 rows × 44 columns</p>\n",
       "</div>"
      ],
      "text/plain": [
       "                  race  gender  age admission_type_id  \\\n",
       "0      AfricanAmerican    Male   75          Critical   \n",
       "1            Caucasian  Female   75          Elective   \n",
       "2            Caucasian    Male   65          Elective   \n",
       "3      AfricanAmerican    Male   45          Elective   \n",
       "4            Caucasian    Male   85          Critical   \n",
       "...                ...     ...  ...               ...   \n",
       "25437        Caucasian    Male   55          Critical   \n",
       "25438        Caucasian    Male   55          Elective   \n",
       "25439        Caucasian    Male   85          Critical   \n",
       "25440        Caucasian    Male   75          Critical   \n",
       "25441  AfricanAmerican  Female   55          Critical   \n",
       "\n",
       "      discharge_disposition_id admission_source_id  time_in_hospital  \\\n",
       "0                        Other      Emergency Room                 3   \n",
       "1                         Home            Referral                 1   \n",
       "2                         Home            Referral                 4   \n",
       "3                         Home            Referral                 2   \n",
       "4                         Home              Others                 1   \n",
       "...                        ...                 ...               ...   \n",
       "25437                    Other      Emergency Room                 6   \n",
       "25438                     Home      Emergency Room                 5   \n",
       "25439                    Other      Emergency Room                 6   \n",
       "25440                    Other      Emergency Room                 8   \n",
       "25441                     Home      Emergency Room                 8   \n",
       "\n",
       "       num_lab_procedures  num_procedures  num_medications  ...  insulin  \\\n",
       "0                      63               0                7  ...        0   \n",
       "1                      54               6                8  ...        0   \n",
       "2                      51               1               19  ...        0   \n",
       "3                      16               0                7  ...        0   \n",
       "4                      64               0                3  ...        0   \n",
       "...                   ...             ...              ...  ...      ...   \n",
       "25437                  48               2               12  ...        0   \n",
       "25438                  43               0               18  ...        1   \n",
       "25439                  18               2               16  ...        0   \n",
       "25440                  51               0               16  ...        1   \n",
       "25441                  58               1                9  ...        1   \n",
       "\n",
       "       glyburide-metformin  glipizide-metformin  glimepiride-pioglitazone  \\\n",
       "0                        0                    0                         0   \n",
       "1                        0                    0                         0   \n",
       "2                        0                    0                         0   \n",
       "3                        0                    0                         0   \n",
       "4                        0                    0                         0   \n",
       "...                    ...                  ...                       ...   \n",
       "25437                    0                    0                         0   \n",
       "25438                    0                    0                         0   \n",
       "25439                    0                    0                         0   \n",
       "25440                    0                    0                         0   \n",
       "25441                    0                    0                         0   \n",
       "\n",
       "       metformin-rosiglitazone  metformin-pioglitazone  change  diabetesMed  \\\n",
       "0                            0                       0       0            0   \n",
       "1                            0                       0       0            0   \n",
       "2                            0                       0       1            1   \n",
       "3                            0                       0       0            0   \n",
       "4                            0                       0       0            0   \n",
       "...                        ...                     ...     ...          ...   \n",
       "25437                        0                       0       1            1   \n",
       "25438                        0                       0       1            1   \n",
       "25439                        0                       0       0            1   \n",
       "25440                        0                       0       1            1   \n",
       "25441                        0                       0       1            1   \n",
       "\n",
       "       readmitted  train_yes  \n",
       "0               0          1  \n",
       "1               0          1  \n",
       "2               0          1  \n",
       "3               0          1  \n",
       "4               0          1  \n",
       "...           ...        ...  \n",
       "25437           0          0  \n",
       "25438           0          0  \n",
       "25439           0          0  \n",
       "25440           0          0  \n",
       "25441           0          0  \n",
       "\n",
       "[80748 rows x 44 columns]"
      ]
     },
     "execution_count": 49,
     "metadata": {},
     "output_type": "execute_result"
    }
   ],
   "source": [
    "# Approach 3- Classifying remaining features using One hot encoding.\n",
    "# We add another column in the training dataset to keep track which rows belong to training dataset and which belong to test dataset.\n",
    "# if the value of 'train_yes' feature is 1, that row belongs to training dataset and if 0, the row belongs to test data.\n",
    "train['train_yes'] = 1     \n",
    "test['train_yes'] = 0\n",
    "# combining both the datasets to form a combined dataset. \n",
    "combined = pd.concat([train,test])\n",
    "combined"
   ]
  },
  {
   "cell_type": "code",
   "execution_count": 50,
   "id": "771570e2",
   "metadata": {},
   "outputs": [
    {
     "data": {
      "text/plain": [
       "1    55949\n",
       "0    24799\n",
       "Name: train_yes, dtype: int64"
      ]
     },
     "execution_count": 50,
     "metadata": {},
     "output_type": "execute_result"
    },
    {
     "data": {
      "text/html": [
       "<div>\n",
       "<style scoped>\n",
       "    .dataframe tbody tr th:only-of-type {\n",
       "        vertical-align: middle;\n",
       "    }\n",
       "\n",
       "    .dataframe tbody tr th {\n",
       "        vertical-align: top;\n",
       "    }\n",
       "\n",
       "    .dataframe thead th {\n",
       "        text-align: right;\n",
       "    }\n",
       "</style>\n",
       "<table border=\"1\" class=\"dataframe\">\n",
       "  <thead>\n",
       "    <tr style=\"text-align: right;\">\n",
       "      <th></th>\n",
       "      <th>race</th>\n",
       "      <th>gender</th>\n",
       "      <th>age</th>\n",
       "      <th>admission_type_id</th>\n",
       "      <th>discharge_disposition_id</th>\n",
       "      <th>admission_source_id</th>\n",
       "      <th>time_in_hospital</th>\n",
       "      <th>num_lab_procedures</th>\n",
       "      <th>num_procedures</th>\n",
       "      <th>num_medications</th>\n",
       "      <th>...</th>\n",
       "      <th>gender_Male</th>\n",
       "      <th>admission_type_id_Critical</th>\n",
       "      <th>admission_type_id_Elective</th>\n",
       "      <th>admission_type_id_Newborn</th>\n",
       "      <th>admission_type_id_Others</th>\n",
       "      <th>discharge_disposition_id_Home</th>\n",
       "      <th>discharge_disposition_id_Other</th>\n",
       "      <th>admission_source_id_Emergency Room</th>\n",
       "      <th>admission_source_id_Others</th>\n",
       "      <th>admission_source_id_Referral</th>\n",
       "    </tr>\n",
       "  </thead>\n",
       "  <tbody>\n",
       "    <tr>\n",
       "      <th>0</th>\n",
       "      <td>AfricanAmerican</td>\n",
       "      <td>Male</td>\n",
       "      <td>75</td>\n",
       "      <td>Critical</td>\n",
       "      <td>Other</td>\n",
       "      <td>Emergency Room</td>\n",
       "      <td>3</td>\n",
       "      <td>63</td>\n",
       "      <td>0</td>\n",
       "      <td>7</td>\n",
       "      <td>...</td>\n",
       "      <td>1</td>\n",
       "      <td>1</td>\n",
       "      <td>0</td>\n",
       "      <td>0</td>\n",
       "      <td>0</td>\n",
       "      <td>0</td>\n",
       "      <td>1</td>\n",
       "      <td>1</td>\n",
       "      <td>0</td>\n",
       "      <td>0</td>\n",
       "    </tr>\n",
       "    <tr>\n",
       "      <th>1</th>\n",
       "      <td>Caucasian</td>\n",
       "      <td>Female</td>\n",
       "      <td>75</td>\n",
       "      <td>Elective</td>\n",
       "      <td>Home</td>\n",
       "      <td>Referral</td>\n",
       "      <td>1</td>\n",
       "      <td>54</td>\n",
       "      <td>6</td>\n",
       "      <td>8</td>\n",
       "      <td>...</td>\n",
       "      <td>0</td>\n",
       "      <td>0</td>\n",
       "      <td>1</td>\n",
       "      <td>0</td>\n",
       "      <td>0</td>\n",
       "      <td>1</td>\n",
       "      <td>0</td>\n",
       "      <td>0</td>\n",
       "      <td>0</td>\n",
       "      <td>1</td>\n",
       "    </tr>\n",
       "    <tr>\n",
       "      <th>2</th>\n",
       "      <td>Caucasian</td>\n",
       "      <td>Male</td>\n",
       "      <td>65</td>\n",
       "      <td>Elective</td>\n",
       "      <td>Home</td>\n",
       "      <td>Referral</td>\n",
       "      <td>4</td>\n",
       "      <td>51</td>\n",
       "      <td>1</td>\n",
       "      <td>19</td>\n",
       "      <td>...</td>\n",
       "      <td>1</td>\n",
       "      <td>0</td>\n",
       "      <td>1</td>\n",
       "      <td>0</td>\n",
       "      <td>0</td>\n",
       "      <td>1</td>\n",
       "      <td>0</td>\n",
       "      <td>0</td>\n",
       "      <td>0</td>\n",
       "      <td>1</td>\n",
       "    </tr>\n",
       "    <tr>\n",
       "      <th>3</th>\n",
       "      <td>AfricanAmerican</td>\n",
       "      <td>Male</td>\n",
       "      <td>45</td>\n",
       "      <td>Elective</td>\n",
       "      <td>Home</td>\n",
       "      <td>Referral</td>\n",
       "      <td>2</td>\n",
       "      <td>16</td>\n",
       "      <td>0</td>\n",
       "      <td>7</td>\n",
       "      <td>...</td>\n",
       "      <td>1</td>\n",
       "      <td>0</td>\n",
       "      <td>1</td>\n",
       "      <td>0</td>\n",
       "      <td>0</td>\n",
       "      <td>1</td>\n",
       "      <td>0</td>\n",
       "      <td>0</td>\n",
       "      <td>0</td>\n",
       "      <td>1</td>\n",
       "    </tr>\n",
       "    <tr>\n",
       "      <th>4</th>\n",
       "      <td>Caucasian</td>\n",
       "      <td>Male</td>\n",
       "      <td>85</td>\n",
       "      <td>Critical</td>\n",
       "      <td>Home</td>\n",
       "      <td>Others</td>\n",
       "      <td>1</td>\n",
       "      <td>64</td>\n",
       "      <td>0</td>\n",
       "      <td>3</td>\n",
       "      <td>...</td>\n",
       "      <td>1</td>\n",
       "      <td>1</td>\n",
       "      <td>0</td>\n",
       "      <td>0</td>\n",
       "      <td>0</td>\n",
       "      <td>1</td>\n",
       "      <td>0</td>\n",
       "      <td>0</td>\n",
       "      <td>1</td>\n",
       "      <td>0</td>\n",
       "    </tr>\n",
       "    <tr>\n",
       "      <th>...</th>\n",
       "      <td>...</td>\n",
       "      <td>...</td>\n",
       "      <td>...</td>\n",
       "      <td>...</td>\n",
       "      <td>...</td>\n",
       "      <td>...</td>\n",
       "      <td>...</td>\n",
       "      <td>...</td>\n",
       "      <td>...</td>\n",
       "      <td>...</td>\n",
       "      <td>...</td>\n",
       "      <td>...</td>\n",
       "      <td>...</td>\n",
       "      <td>...</td>\n",
       "      <td>...</td>\n",
       "      <td>...</td>\n",
       "      <td>...</td>\n",
       "      <td>...</td>\n",
       "      <td>...</td>\n",
       "      <td>...</td>\n",
       "      <td>...</td>\n",
       "    </tr>\n",
       "    <tr>\n",
       "      <th>25437</th>\n",
       "      <td>Caucasian</td>\n",
       "      <td>Male</td>\n",
       "      <td>55</td>\n",
       "      <td>Critical</td>\n",
       "      <td>Other</td>\n",
       "      <td>Emergency Room</td>\n",
       "      <td>6</td>\n",
       "      <td>48</td>\n",
       "      <td>2</td>\n",
       "      <td>12</td>\n",
       "      <td>...</td>\n",
       "      <td>1</td>\n",
       "      <td>1</td>\n",
       "      <td>0</td>\n",
       "      <td>0</td>\n",
       "      <td>0</td>\n",
       "      <td>0</td>\n",
       "      <td>1</td>\n",
       "      <td>1</td>\n",
       "      <td>0</td>\n",
       "      <td>0</td>\n",
       "    </tr>\n",
       "    <tr>\n",
       "      <th>25438</th>\n",
       "      <td>Caucasian</td>\n",
       "      <td>Male</td>\n",
       "      <td>55</td>\n",
       "      <td>Elective</td>\n",
       "      <td>Home</td>\n",
       "      <td>Emergency Room</td>\n",
       "      <td>5</td>\n",
       "      <td>43</td>\n",
       "      <td>0</td>\n",
       "      <td>18</td>\n",
       "      <td>...</td>\n",
       "      <td>1</td>\n",
       "      <td>0</td>\n",
       "      <td>1</td>\n",
       "      <td>0</td>\n",
       "      <td>0</td>\n",
       "      <td>1</td>\n",
       "      <td>0</td>\n",
       "      <td>1</td>\n",
       "      <td>0</td>\n",
       "      <td>0</td>\n",
       "    </tr>\n",
       "    <tr>\n",
       "      <th>25439</th>\n",
       "      <td>Caucasian</td>\n",
       "      <td>Male</td>\n",
       "      <td>85</td>\n",
       "      <td>Critical</td>\n",
       "      <td>Other</td>\n",
       "      <td>Emergency Room</td>\n",
       "      <td>6</td>\n",
       "      <td>18</td>\n",
       "      <td>2</td>\n",
       "      <td>16</td>\n",
       "      <td>...</td>\n",
       "      <td>1</td>\n",
       "      <td>1</td>\n",
       "      <td>0</td>\n",
       "      <td>0</td>\n",
       "      <td>0</td>\n",
       "      <td>0</td>\n",
       "      <td>1</td>\n",
       "      <td>1</td>\n",
       "      <td>0</td>\n",
       "      <td>0</td>\n",
       "    </tr>\n",
       "    <tr>\n",
       "      <th>25440</th>\n",
       "      <td>Caucasian</td>\n",
       "      <td>Male</td>\n",
       "      <td>75</td>\n",
       "      <td>Critical</td>\n",
       "      <td>Other</td>\n",
       "      <td>Emergency Room</td>\n",
       "      <td>8</td>\n",
       "      <td>51</td>\n",
       "      <td>0</td>\n",
       "      <td>16</td>\n",
       "      <td>...</td>\n",
       "      <td>1</td>\n",
       "      <td>1</td>\n",
       "      <td>0</td>\n",
       "      <td>0</td>\n",
       "      <td>0</td>\n",
       "      <td>0</td>\n",
       "      <td>1</td>\n",
       "      <td>1</td>\n",
       "      <td>0</td>\n",
       "      <td>0</td>\n",
       "    </tr>\n",
       "    <tr>\n",
       "      <th>25441</th>\n",
       "      <td>AfricanAmerican</td>\n",
       "      <td>Female</td>\n",
       "      <td>55</td>\n",
       "      <td>Critical</td>\n",
       "      <td>Home</td>\n",
       "      <td>Emergency Room</td>\n",
       "      <td>8</td>\n",
       "      <td>58</td>\n",
       "      <td>1</td>\n",
       "      <td>9</td>\n",
       "      <td>...</td>\n",
       "      <td>0</td>\n",
       "      <td>1</td>\n",
       "      <td>0</td>\n",
       "      <td>0</td>\n",
       "      <td>0</td>\n",
       "      <td>1</td>\n",
       "      <td>0</td>\n",
       "      <td>1</td>\n",
       "      <td>0</td>\n",
       "      <td>0</td>\n",
       "    </tr>\n",
       "  </tbody>\n",
       "</table>\n",
       "<p>80748 rows × 60 columns</p>\n",
       "</div>"
      ],
      "text/plain": [
       "                  race  gender  age admission_type_id  \\\n",
       "0      AfricanAmerican    Male   75          Critical   \n",
       "1            Caucasian  Female   75          Elective   \n",
       "2            Caucasian    Male   65          Elective   \n",
       "3      AfricanAmerican    Male   45          Elective   \n",
       "4            Caucasian    Male   85          Critical   \n",
       "...                ...     ...  ...               ...   \n",
       "25437        Caucasian    Male   55          Critical   \n",
       "25438        Caucasian    Male   55          Elective   \n",
       "25439        Caucasian    Male   85          Critical   \n",
       "25440        Caucasian    Male   75          Critical   \n",
       "25441  AfricanAmerican  Female   55          Critical   \n",
       "\n",
       "      discharge_disposition_id admission_source_id  time_in_hospital  \\\n",
       "0                        Other      Emergency Room                 3   \n",
       "1                         Home            Referral                 1   \n",
       "2                         Home            Referral                 4   \n",
       "3                         Home            Referral                 2   \n",
       "4                         Home              Others                 1   \n",
       "...                        ...                 ...               ...   \n",
       "25437                    Other      Emergency Room                 6   \n",
       "25438                     Home      Emergency Room                 5   \n",
       "25439                    Other      Emergency Room                 6   \n",
       "25440                    Other      Emergency Room                 8   \n",
       "25441                     Home      Emergency Room                 8   \n",
       "\n",
       "       num_lab_procedures  num_procedures  num_medications  ...  gender_Male  \\\n",
       "0                      63               0                7  ...            1   \n",
       "1                      54               6                8  ...            0   \n",
       "2                      51               1               19  ...            1   \n",
       "3                      16               0                7  ...            1   \n",
       "4                      64               0                3  ...            1   \n",
       "...                   ...             ...              ...  ...          ...   \n",
       "25437                  48               2               12  ...            1   \n",
       "25438                  43               0               18  ...            1   \n",
       "25439                  18               2               16  ...            1   \n",
       "25440                  51               0               16  ...            1   \n",
       "25441                  58               1                9  ...            0   \n",
       "\n",
       "       admission_type_id_Critical  admission_type_id_Elective  \\\n",
       "0                               1                           0   \n",
       "1                               0                           1   \n",
       "2                               0                           1   \n",
       "3                               0                           1   \n",
       "4                               1                           0   \n",
       "...                           ...                         ...   \n",
       "25437                           1                           0   \n",
       "25438                           0                           1   \n",
       "25439                           1                           0   \n",
       "25440                           1                           0   \n",
       "25441                           1                           0   \n",
       "\n",
       "       admission_type_id_Newborn  admission_type_id_Others  \\\n",
       "0                              0                         0   \n",
       "1                              0                         0   \n",
       "2                              0                         0   \n",
       "3                              0                         0   \n",
       "4                              0                         0   \n",
       "...                          ...                       ...   \n",
       "25437                          0                         0   \n",
       "25438                          0                         0   \n",
       "25439                          0                         0   \n",
       "25440                          0                         0   \n",
       "25441                          0                         0   \n",
       "\n",
       "       discharge_disposition_id_Home  discharge_disposition_id_Other  \\\n",
       "0                                  0                               1   \n",
       "1                                  1                               0   \n",
       "2                                  1                               0   \n",
       "3                                  1                               0   \n",
       "4                                  1                               0   \n",
       "...                              ...                             ...   \n",
       "25437                              0                               1   \n",
       "25438                              1                               0   \n",
       "25439                              0                               1   \n",
       "25440                              0                               1   \n",
       "25441                              1                               0   \n",
       "\n",
       "       admission_source_id_Emergency Room  admission_source_id_Others  \\\n",
       "0                                       1                           0   \n",
       "1                                       0                           0   \n",
       "2                                       0                           0   \n",
       "3                                       0                           0   \n",
       "4                                       0                           1   \n",
       "...                                   ...                         ...   \n",
       "25437                                   1                           0   \n",
       "25438                                   1                           0   \n",
       "25439                                   1                           0   \n",
       "25440                                   1                           0   \n",
       "25441                                   1                           0   \n",
       "\n",
       "       admission_source_id_Referral  \n",
       "0                                 0  \n",
       "1                                 1  \n",
       "2                                 1  \n",
       "3                                 1  \n",
       "4                                 0  \n",
       "...                             ...  \n",
       "25437                             0  \n",
       "25438                             0  \n",
       "25439                             0  \n",
       "25440                             0  \n",
       "25441                             0  \n",
       "\n",
       "[80748 rows x 60 columns]"
      ]
     },
     "execution_count": 50,
     "metadata": {},
     "output_type": "execute_result"
    }
   ],
   "source": [
    "# encoding on the remaining categorical columns and saving it in a new dataset.\n",
    "df1 = pd.get_dummies(combined[cat_cols])\n",
    "\n",
    "#Concat the new dataset with the combined dataset.\n",
    "combined = pd.concat([combined,df1],axis=1)\n",
    "\n",
    "# Checking for the value counts of the train_yes feature in the combined dataset. \n",
    "# It is consistent with the no of training samples and test samples(55949,24799)\n",
    "combined['train_yes'].value_counts()\n",
    "combined"
   ]
  },
  {
   "cell_type": "code",
   "execution_count": 51,
   "id": "9865f41b",
   "metadata": {},
   "outputs": [
    {
     "name": "stderr",
     "output_type": "stream",
     "text": [
      "C:\\Users\\swarn\\anaconda3\\lib\\site-packages\\pandas\\core\\frame.py:4308: SettingWithCopyWarning: \n",
      "A value is trying to be set on a copy of a slice from a DataFrame\n",
      "\n",
      "See the caveats in the documentation: https://pandas.pydata.org/pandas-docs/stable/user_guide/indexing.html#returning-a-view-versus-a-copy\n",
      "  return super().drop(\n"
     ]
    }
   ],
   "source": [
    "# Seperating the two datasets from the combined dataset into train and test set.\n",
    "train_df = combined[combined['train_yes']==1]\n",
    "test_df = combined[combined['train_yes']==0]\n",
    "\n",
    "# dropping the identifier column because we won't need it anymore.\n",
    "train_df.drop('train_yes',axis=1,inplace=True)\n",
    "test_df.drop('train_yes',axis=1,inplace=True)"
   ]
  },
  {
   "cell_type": "code",
   "execution_count": 52,
   "id": "af2356e4",
   "metadata": {},
   "outputs": [
    {
     "data": {
      "text/html": [
       "<div>\n",
       "<style scoped>\n",
       "    .dataframe tbody tr th:only-of-type {\n",
       "        vertical-align: middle;\n",
       "    }\n",
       "\n",
       "    .dataframe tbody tr th {\n",
       "        vertical-align: top;\n",
       "    }\n",
       "\n",
       "    .dataframe thead th {\n",
       "        text-align: right;\n",
       "    }\n",
       "</style>\n",
       "<table border=\"1\" class=\"dataframe\">\n",
       "  <thead>\n",
       "    <tr style=\"text-align: right;\">\n",
       "      <th></th>\n",
       "      <th>age</th>\n",
       "      <th>time_in_hospital</th>\n",
       "      <th>num_lab_procedures</th>\n",
       "      <th>num_procedures</th>\n",
       "      <th>num_medications</th>\n",
       "      <th>number_outpatient</th>\n",
       "      <th>number_emergency</th>\n",
       "      <th>number_inpatient</th>\n",
       "      <th>diag_1</th>\n",
       "      <th>diag_2</th>\n",
       "      <th>...</th>\n",
       "      <th>gender_Male</th>\n",
       "      <th>admission_type_id_Critical</th>\n",
       "      <th>admission_type_id_Elective</th>\n",
       "      <th>admission_type_id_Newborn</th>\n",
       "      <th>admission_type_id_Others</th>\n",
       "      <th>discharge_disposition_id_Home</th>\n",
       "      <th>discharge_disposition_id_Other</th>\n",
       "      <th>admission_source_id_Emergency Room</th>\n",
       "      <th>admission_source_id_Others</th>\n",
       "      <th>admission_source_id_Referral</th>\n",
       "    </tr>\n",
       "  </thead>\n",
       "  <tbody>\n",
       "    <tr>\n",
       "      <th>0</th>\n",
       "      <td>75</td>\n",
       "      <td>3</td>\n",
       "      <td>63</td>\n",
       "      <td>0</td>\n",
       "      <td>7</td>\n",
       "      <td>0</td>\n",
       "      <td>0</td>\n",
       "      <td>0</td>\n",
       "      <td>7</td>\n",
       "      <td>7</td>\n",
       "      <td>...</td>\n",
       "      <td>1</td>\n",
       "      <td>1</td>\n",
       "      <td>0</td>\n",
       "      <td>0</td>\n",
       "      <td>0</td>\n",
       "      <td>0</td>\n",
       "      <td>1</td>\n",
       "      <td>1</td>\n",
       "      <td>0</td>\n",
       "      <td>0</td>\n",
       "    </tr>\n",
       "    <tr>\n",
       "      <th>1</th>\n",
       "      <td>75</td>\n",
       "      <td>1</td>\n",
       "      <td>54</td>\n",
       "      <td>6</td>\n",
       "      <td>8</td>\n",
       "      <td>0</td>\n",
       "      <td>0</td>\n",
       "      <td>0</td>\n",
       "      <td>0</td>\n",
       "      <td>0</td>\n",
       "      <td>...</td>\n",
       "      <td>0</td>\n",
       "      <td>0</td>\n",
       "      <td>1</td>\n",
       "      <td>0</td>\n",
       "      <td>0</td>\n",
       "      <td>1</td>\n",
       "      <td>0</td>\n",
       "      <td>0</td>\n",
       "      <td>0</td>\n",
       "      <td>1</td>\n",
       "    </tr>\n",
       "    <tr>\n",
       "      <th>2</th>\n",
       "      <td>65</td>\n",
       "      <td>4</td>\n",
       "      <td>51</td>\n",
       "      <td>1</td>\n",
       "      <td>19</td>\n",
       "      <td>0</td>\n",
       "      <td>0</td>\n",
       "      <td>0</td>\n",
       "      <td>8</td>\n",
       "      <td>1</td>\n",
       "      <td>...</td>\n",
       "      <td>1</td>\n",
       "      <td>0</td>\n",
       "      <td>1</td>\n",
       "      <td>0</td>\n",
       "      <td>0</td>\n",
       "      <td>1</td>\n",
       "      <td>0</td>\n",
       "      <td>0</td>\n",
       "      <td>0</td>\n",
       "      <td>1</td>\n",
       "    </tr>\n",
       "    <tr>\n",
       "      <th>3</th>\n",
       "      <td>45</td>\n",
       "      <td>2</td>\n",
       "      <td>16</td>\n",
       "      <td>0</td>\n",
       "      <td>7</td>\n",
       "      <td>0</td>\n",
       "      <td>0</td>\n",
       "      <td>0</td>\n",
       "      <td>2</td>\n",
       "      <td>5</td>\n",
       "      <td>...</td>\n",
       "      <td>1</td>\n",
       "      <td>0</td>\n",
       "      <td>1</td>\n",
       "      <td>0</td>\n",
       "      <td>0</td>\n",
       "      <td>1</td>\n",
       "      <td>0</td>\n",
       "      <td>0</td>\n",
       "      <td>0</td>\n",
       "      <td>1</td>\n",
       "    </tr>\n",
       "    <tr>\n",
       "      <th>4</th>\n",
       "      <td>85</td>\n",
       "      <td>1</td>\n",
       "      <td>64</td>\n",
       "      <td>0</td>\n",
       "      <td>3</td>\n",
       "      <td>0</td>\n",
       "      <td>0</td>\n",
       "      <td>0</td>\n",
       "      <td>7</td>\n",
       "      <td>1</td>\n",
       "      <td>...</td>\n",
       "      <td>1</td>\n",
       "      <td>1</td>\n",
       "      <td>0</td>\n",
       "      <td>0</td>\n",
       "      <td>0</td>\n",
       "      <td>1</td>\n",
       "      <td>0</td>\n",
       "      <td>0</td>\n",
       "      <td>1</td>\n",
       "      <td>0</td>\n",
       "    </tr>\n",
       "  </tbody>\n",
       "</table>\n",
       "<p>5 rows × 54 columns</p>\n",
       "</div>"
      ],
      "text/plain": [
       "   age  time_in_hospital  num_lab_procedures  num_procedures  num_medications  \\\n",
       "0   75                 3                  63               0                7   \n",
       "1   75                 1                  54               6                8   \n",
       "2   65                 4                  51               1               19   \n",
       "3   45                 2                  16               0                7   \n",
       "4   85                 1                  64               0                3   \n",
       "\n",
       "   number_outpatient  number_emergency  number_inpatient  diag_1  diag_2  ...  \\\n",
       "0                  0                 0                 0       7       7  ...   \n",
       "1                  0                 0                 0       0       0  ...   \n",
       "2                  0                 0                 0       8       1  ...   \n",
       "3                  0                 0                 0       2       5  ...   \n",
       "4                  0                 0                 0       7       1  ...   \n",
       "\n",
       "   gender_Male  admission_type_id_Critical  admission_type_id_Elective  \\\n",
       "0            1                           1                           0   \n",
       "1            0                           0                           1   \n",
       "2            1                           0                           1   \n",
       "3            1                           0                           1   \n",
       "4            1                           1                           0   \n",
       "\n",
       "   admission_type_id_Newborn  admission_type_id_Others  \\\n",
       "0                          0                         0   \n",
       "1                          0                         0   \n",
       "2                          0                         0   \n",
       "3                          0                         0   \n",
       "4                          0                         0   \n",
       "\n",
       "   discharge_disposition_id_Home  discharge_disposition_id_Other  \\\n",
       "0                              0                               1   \n",
       "1                              1                               0   \n",
       "2                              1                               0   \n",
       "3                              1                               0   \n",
       "4                              1                               0   \n",
       "\n",
       "   admission_source_id_Emergency Room  admission_source_id_Others  \\\n",
       "0                                   1                           0   \n",
       "1                                   0                           0   \n",
       "2                                   0                           0   \n",
       "3                                   0                           0   \n",
       "4                                   0                           1   \n",
       "\n",
       "   admission_source_id_Referral  \n",
       "0                             0  \n",
       "1                             1  \n",
       "2                             1  \n",
       "3                             1  \n",
       "4                             0  \n",
       "\n",
       "[5 rows x 54 columns]"
      ]
     },
     "execution_count": 52,
     "metadata": {},
     "output_type": "execute_result"
    },
    {
     "data": {
      "text/html": [
       "<div>\n",
       "<style scoped>\n",
       "    .dataframe tbody tr th:only-of-type {\n",
       "        vertical-align: middle;\n",
       "    }\n",
       "\n",
       "    .dataframe tbody tr th {\n",
       "        vertical-align: top;\n",
       "    }\n",
       "\n",
       "    .dataframe thead th {\n",
       "        text-align: right;\n",
       "    }\n",
       "</style>\n",
       "<table border=\"1\" class=\"dataframe\">\n",
       "  <thead>\n",
       "    <tr style=\"text-align: right;\">\n",
       "      <th></th>\n",
       "      <th>age</th>\n",
       "      <th>time_in_hospital</th>\n",
       "      <th>num_lab_procedures</th>\n",
       "      <th>num_procedures</th>\n",
       "      <th>num_medications</th>\n",
       "      <th>number_outpatient</th>\n",
       "      <th>number_emergency</th>\n",
       "      <th>number_inpatient</th>\n",
       "      <th>diag_1</th>\n",
       "      <th>diag_2</th>\n",
       "      <th>...</th>\n",
       "      <th>gender_Male</th>\n",
       "      <th>admission_type_id_Critical</th>\n",
       "      <th>admission_type_id_Elective</th>\n",
       "      <th>admission_type_id_Newborn</th>\n",
       "      <th>admission_type_id_Others</th>\n",
       "      <th>discharge_disposition_id_Home</th>\n",
       "      <th>discharge_disposition_id_Other</th>\n",
       "      <th>admission_source_id_Emergency Room</th>\n",
       "      <th>admission_source_id_Others</th>\n",
       "      <th>admission_source_id_Referral</th>\n",
       "    </tr>\n",
       "  </thead>\n",
       "  <tbody>\n",
       "    <tr>\n",
       "      <th>0</th>\n",
       "      <td>85</td>\n",
       "      <td>11</td>\n",
       "      <td>82</td>\n",
       "      <td>4</td>\n",
       "      <td>28</td>\n",
       "      <td>0</td>\n",
       "      <td>0</td>\n",
       "      <td>0</td>\n",
       "      <td>6</td>\n",
       "      <td>2</td>\n",
       "      <td>...</td>\n",
       "      <td>0</td>\n",
       "      <td>1</td>\n",
       "      <td>0</td>\n",
       "      <td>0</td>\n",
       "      <td>0</td>\n",
       "      <td>0</td>\n",
       "      <td>1</td>\n",
       "      <td>1</td>\n",
       "      <td>0</td>\n",
       "      <td>0</td>\n",
       "    </tr>\n",
       "    <tr>\n",
       "      <th>1</th>\n",
       "      <td>35</td>\n",
       "      <td>5</td>\n",
       "      <td>44</td>\n",
       "      <td>0</td>\n",
       "      <td>16</td>\n",
       "      <td>0</td>\n",
       "      <td>0</td>\n",
       "      <td>0</td>\n",
       "      <td>8</td>\n",
       "      <td>7</td>\n",
       "      <td>...</td>\n",
       "      <td>0</td>\n",
       "      <td>1</td>\n",
       "      <td>0</td>\n",
       "      <td>0</td>\n",
       "      <td>0</td>\n",
       "      <td>1</td>\n",
       "      <td>0</td>\n",
       "      <td>1</td>\n",
       "      <td>0</td>\n",
       "      <td>0</td>\n",
       "    </tr>\n",
       "    <tr>\n",
       "      <th>2</th>\n",
       "      <td>75</td>\n",
       "      <td>1</td>\n",
       "      <td>39</td>\n",
       "      <td>0</td>\n",
       "      <td>7</td>\n",
       "      <td>0</td>\n",
       "      <td>0</td>\n",
       "      <td>0</td>\n",
       "      <td>0</td>\n",
       "      <td>0</td>\n",
       "      <td>...</td>\n",
       "      <td>1</td>\n",
       "      <td>1</td>\n",
       "      <td>0</td>\n",
       "      <td>0</td>\n",
       "      <td>0</td>\n",
       "      <td>1</td>\n",
       "      <td>0</td>\n",
       "      <td>0</td>\n",
       "      <td>0</td>\n",
       "      <td>1</td>\n",
       "    </tr>\n",
       "    <tr>\n",
       "      <th>3</th>\n",
       "      <td>75</td>\n",
       "      <td>3</td>\n",
       "      <td>1</td>\n",
       "      <td>2</td>\n",
       "      <td>22</td>\n",
       "      <td>0</td>\n",
       "      <td>0</td>\n",
       "      <td>0</td>\n",
       "      <td>5</td>\n",
       "      <td>7</td>\n",
       "      <td>...</td>\n",
       "      <td>1</td>\n",
       "      <td>0</td>\n",
       "      <td>1</td>\n",
       "      <td>0</td>\n",
       "      <td>0</td>\n",
       "      <td>1</td>\n",
       "      <td>0</td>\n",
       "      <td>0</td>\n",
       "      <td>0</td>\n",
       "      <td>1</td>\n",
       "    </tr>\n",
       "    <tr>\n",
       "      <th>4</th>\n",
       "      <td>75</td>\n",
       "      <td>6</td>\n",
       "      <td>35</td>\n",
       "      <td>3</td>\n",
       "      <td>29</td>\n",
       "      <td>0</td>\n",
       "      <td>0</td>\n",
       "      <td>0</td>\n",
       "      <td>5</td>\n",
       "      <td>3</td>\n",
       "      <td>...</td>\n",
       "      <td>0</td>\n",
       "      <td>0</td>\n",
       "      <td>1</td>\n",
       "      <td>0</td>\n",
       "      <td>0</td>\n",
       "      <td>0</td>\n",
       "      <td>1</td>\n",
       "      <td>0</td>\n",
       "      <td>0</td>\n",
       "      <td>1</td>\n",
       "    </tr>\n",
       "  </tbody>\n",
       "</table>\n",
       "<p>5 rows × 54 columns</p>\n",
       "</div>"
      ],
      "text/plain": [
       "   age  time_in_hospital  num_lab_procedures  num_procedures  num_medications  \\\n",
       "0   85                11                  82               4               28   \n",
       "1   35                 5                  44               0               16   \n",
       "2   75                 1                  39               0                7   \n",
       "3   75                 3                   1               2               22   \n",
       "4   75                 6                  35               3               29   \n",
       "\n",
       "   number_outpatient  number_emergency  number_inpatient  diag_1  diag_2  ...  \\\n",
       "0                  0                 0                 0       6       2  ...   \n",
       "1                  0                 0                 0       8       7  ...   \n",
       "2                  0                 0                 0       0       0  ...   \n",
       "3                  0                 0                 0       5       7  ...   \n",
       "4                  0                 0                 0       5       3  ...   \n",
       "\n",
       "   gender_Male  admission_type_id_Critical  admission_type_id_Elective  \\\n",
       "0            0                           1                           0   \n",
       "1            0                           1                           0   \n",
       "2            1                           1                           0   \n",
       "3            1                           0                           1   \n",
       "4            0                           0                           1   \n",
       "\n",
       "   admission_type_id_Newborn  admission_type_id_Others  \\\n",
       "0                          0                         0   \n",
       "1                          0                         0   \n",
       "2                          0                         0   \n",
       "3                          0                         0   \n",
       "4                          0                         0   \n",
       "\n",
       "   discharge_disposition_id_Home  discharge_disposition_id_Other  \\\n",
       "0                              0                               1   \n",
       "1                              1                               0   \n",
       "2                              1                               0   \n",
       "3                              1                               0   \n",
       "4                              0                               1   \n",
       "\n",
       "   admission_source_id_Emergency Room  admission_source_id_Others  \\\n",
       "0                                   1                           0   \n",
       "1                                   1                           0   \n",
       "2                                   0                           0   \n",
       "3                                   0                           0   \n",
       "4                                   0                           0   \n",
       "\n",
       "   admission_source_id_Referral  \n",
       "0                             0  \n",
       "1                             0  \n",
       "2                             1  \n",
       "3                             1  \n",
       "4                             1  \n",
       "\n",
       "[5 rows x 54 columns]"
      ]
     },
     "execution_count": 52,
     "metadata": {},
     "output_type": "execute_result"
    }
   ],
   "source": [
    "# Also dropping the categorical columns based on which one hot encoding has been done.\n",
    "train_df.drop(cat_cols,axis=1,inplace=True)\n",
    "test_df.drop(cat_cols,axis=1,inplace=True)\n",
    "#final encoded train dataset\n",
    "train_df.head()\n",
    "#final encoded test dataset\n",
    "test_df.head()\n"
   ]
  },
  {
   "cell_type": "markdown",
   "id": "085b360d",
   "metadata": {},
   "source": [
    "### Feature Selection"
   ]
  },
  {
   "cell_type": "markdown",
   "id": "96a13b67",
   "metadata": {},
   "source": [
    "#### Notes\n",
    "- Gradient Boosting algorithm can be used to identify important features.\n",
    "- LightGBM is a powerful implementation of boosting\n",
    "method\n",
    "- It automatically calculates feature importance\n",
    "for all features and the final feature importance scores\n",
    "are available in the feature_importances_ attribute of\n",
    "the trained model.\n",
    "- Better accuracy than other boosting algorithms\n",
    "- Works well with categorical features\n"
   ]
  },
  {
   "cell_type": "code",
   "execution_count": 53,
   "id": "1919759a",
   "metadata": {},
   "outputs": [
    {
     "data": {
      "text/plain": [
       "LGBMClassifier(max_depth=3, random_state=42)"
      ]
     },
     "execution_count": 53,
     "metadata": {},
     "output_type": "execute_result"
    }
   ],
   "source": [
    "# Feature importance is only defined when the decision tree model is chosen as base learner (booster=gbtree). \n",
    "# Here the model we have selected for extracting the best features is LGBMClassifier.\n",
    "\n",
    "import lightgbm as lgb\n",
    "from lightgbm import LGBMClassifier\n",
    "feature_cols = []\n",
    "for c in train_df.columns:\n",
    "    if c in 'readmitted':\n",
    "        continue\n",
    "    feature_cols.append(c)\n",
    "\n",
    "X_train = train_df[feature_cols] # Features\n",
    "y_train = train_df.readmitted # Target variable\n",
    "\n",
    "lgbm_model = LGBMClassifier(random_state = 42,max_depth=3)\n",
    "lgbm_model.fit(X_train, y_train)"
   ]
  },
  {
   "cell_type": "code",
   "execution_count": 54,
   "id": "1b0b1d4d",
   "metadata": {},
   "outputs": [
    {
     "data": {
      "text/plain": [
       "<AxesSubplot:title={'center':'Feature importance'}, xlabel='Feature importance', ylabel='Features'>"
      ]
     },
     "execution_count": 54,
     "metadata": {},
     "output_type": "execute_result"
    },
    {
     "name": "stdout",
     "output_type": "stream",
     "text": [
      "['num_lab_procedures', 'num_medications', 'number_inpatient', 'age', 'discharge_disposition_id_Home', 'diag_1', 'number_outpatient', 'time_in_hospital', 'number_emergency', 'diag_2', 'number_diagnoses', 'diag_3', 'num_procedures', 'diabetesMed', 'A1Cresult', 'admission_source_id_Others', 'max_glu_serum', 'gender_Female', 'glyburide', 'race_Other', 'metformin', 'admission_type_id_Elective', 'acarbose', 'tolazamide', 'repaglinide', 'insulin', 'discharge_disposition_id_Other', 'admission_source_id_Referral', 'glipizide', 'rosiglitazone']\n"
     ]
    },
    {
     "data": {
      "image/png": "[encoded data removed]",
      "text/plain": [
       "<Figure size 1296x720 with 1 Axes>"
      ]
     },
     "metadata": {
      "needs_background": "light"
     },
     "output_type": "display_data"
    }
   ],
   "source": [
    "plt.rcParams[\"figure.figsize\"] = (18, 10)\n",
    "lgb.plot_importance(lgbm_model)\n",
    "\n",
    "feature_imp = pd.Series(lgbm_model.feature_importances_, index = X_train.columns)\n",
    "best_features = feature_imp.nlargest(30)\n",
    "best_features = best_features.index.to_list()\n",
    "print(best_features)"
   ]
  },
  {
   "cell_type": "markdown",
   "id": "43011f09",
   "metadata": {},
   "source": [
    "#### Observation\n",
    "- The best_features selected by the model are: ( 'num_lab_procedures', 'num_medications', 'number_inpatient', 'age', 'discharge_disposition_id_Home', 'diag_1', 'number_outpatient', 'time_in_hospital', 'number_emergency', 'diag_2', 'number_diagnoses', 'diag_3', 'num_procedures', 'diabetesMed', 'A1Cresult', 'admission_source_id_Others', 'max_glu_serum', 'gender_Female', 'glyburide', 'race_Other', 'metformin', 'admission_type_id_Elective', 'acarbose', 'tolazamide', 'repaglinide', 'insulin', 'discharge_disposition_id_Other', 'admission_source_id_Referral', 'glipizide', 'rosiglitazone')"
   ]
  },
  {
   "cell_type": "code",
   "execution_count": 68,
   "id": "8d80feef",
   "metadata": {},
   "outputs": [],
   "source": [
    "X_train = train_df[best_features] # Features of training data set(Containing the besr features selected by the LGBM classifier)\n",
    "y_train = train_df.readmitted # Target variable\n",
    "X_test = test_df[best_features]  # Features of test data set(Containing the besr features selected by the LGBM classifier)\n",
    "y_test = test_df.readmitted # Target variable"
   ]
  },
  {
   "cell_type": "markdown",
   "id": "8d0a412b",
   "metadata": {},
   "source": [
    "### Combination of over- and under-sampling the training data"
   ]
  },
  {
   "cell_type": "code",
   "execution_count": 70,
   "id": "f1b654b8",
   "metadata": {},
   "outputs": [],
   "source": [
    "# Here I perform the combination of oversampling and undersampling method on the training data.\n",
    "# method used to achieve this is SMOTEENN. \n",
    "from imblearn.combine import SMOTEENN\n",
    "smote_enn = SMOTEENN(random_state=0)\n",
    "X_resampled, y_resampled = smote_enn.fit_resample(X_train, y_train)"
   ]
  },
  {
   "cell_type": "markdown",
   "id": "39f74938",
   "metadata": {},
   "source": [
    "#### Observation\n",
    "\n",
    "- Due to presence of an imbalanced training dataset(more records of class 0 than class 1) I have performed a combination of oversampling and undersampling method on training data.\n",
    "- The method used is SMOTEENN(SMOTE Edited nearest neighbors).\n",
    "- The method is added to the pipeline after applying SMOTE over-sampling on the training data to obtain a cleaner space.\n",
    "- After applying this method the class imbalance issue is handled."
   ]
  },
  {
   "cell_type": "markdown",
   "id": "0abf5c45",
   "metadata": {},
   "source": [
    "### Building Models and evaluation"
   ]
  },
  {
   "cell_type": "markdown",
   "id": "2e875fde",
   "metadata": {},
   "source": [
    "#### Decision Tree Classifier"
   ]
  },
  {
   "cell_type": "code",
   "execution_count": 71,
   "id": "735affb9",
   "metadata": {},
   "outputs": [
    {
     "name": "stdout",
     "output_type": "stream",
     "text": [
      "Training Set Accuracy: 0.7595949493686711\n",
      "Test Set Accuracy: 0.6628493084398565\n"
     ]
    }
   ],
   "source": [
    "from sklearn.tree import DecisionTreeClassifier\n",
    "from sklearn.metrics import classification_report\n",
    "from sklearn.pipeline import Pipeline\n",
    "from sklearn.preprocessing import MinMaxScaler\n",
    "from sklearn import model_selection, preprocessing, feature_selection, ensemble, linear_model, metrics, decomposition\n",
    "\n",
    "\n",
    "dtclf = DecisionTreeClassifier(criterion=\"entropy\",max_depth = 5)\n",
    "#pipeline containing both the MinMaxScaler() to normalize the input features of training data and model type\n",
    "pipeline = Pipeline([\n",
    "    (\"MinMax Scaling\", MinMaxScaler()),\n",
    "    (\"Decision Tree Classifier\", dtclf)\n",
    "])\n",
    "# Train Decision Tree Classifer\n",
    "pipeline = pipeline.fit(X_resampled,y_resampled)\n",
    "\n",
    "\n",
    "# Predict the response for training dataset\n",
    "y_pred = pipeline.predict(X_resampled)\n",
    "print(\"Training Set Accuracy:\",metrics.accuracy_score(y_resampled, y_pred))\n",
    "\n",
    "# Predict the response for validation dataset\n",
    "y_pred = pipeline.predict(X_test)\n",
    "print(\"Test Set Accuracy:\",metrics.accuracy_score(y_test, y_pred))\n"
   ]
  },
  {
   "cell_type": "code",
   "execution_count": 72,
   "id": "5c7693c7",
   "metadata": {},
   "outputs": [
    {
     "name": "stdout",
     "output_type": "stream",
     "text": [
      "{'0': {'precision': 0.8928530192818381, 'recall': 0.7039279049656365, 'f1-score': 0.787214007584048, 'support': 21971}, '1': {'precision': 0.12999866256519996, 'recall': 0.3437057991513437, 'f1-score': 0.188646288209607, 'support': 2828}, 'accuracy': 0.6628493084398565, 'macro avg': {'precision': 0.5114258409235191, 'recall': 0.52381685205849, 'f1-score': 0.48793014789682754, 'support': 24799}, 'weighted avg': {'precision': 0.8058595066081556, 'recall': 0.6628493084398565, 'f1-score': 0.7189552265690505, 'support': 24799}}\n"
     ]
    }
   ],
   "source": [
    "## Printing the classification report\n",
    "from sklearn.metrics import classification_report\n",
    "print(classification_report(y_test, y_pred, output_dict=True))"
   ]
  },
  {
   "cell_type": "code",
   "execution_count": 73,
   "id": "8c238b33",
   "metadata": {},
   "outputs": [
    {
     "data": {
      "text/plain": [
       "Pipeline(steps=[('MinMax Scaling', MinMaxScaler()),\n",
       "                ('Decision Tree Classifier',\n",
       "                 DecisionTreeClassifier(criterion='entropy', max_depth=1))])"
      ]
     },
     "execution_count": 73,
     "metadata": {},
     "output_type": "execute_result"
    },
    {
     "data": {
      "text/plain": [
       "Pipeline(steps=[('MinMax Scaling', MinMaxScaler()),\n",
       "                ('Decision Tree Classifier',\n",
       "                 DecisionTreeClassifier(criterion='entropy', max_depth=2))])"
      ]
     },
     "execution_count": 73,
     "metadata": {},
     "output_type": "execute_result"
    },
    {
     "data": {
      "text/plain": [
       "Pipeline(steps=[('MinMax Scaling', MinMaxScaler()),\n",
       "                ('Decision Tree Classifier',\n",
       "                 DecisionTreeClassifier(criterion='entropy', max_depth=3))])"
      ]
     },
     "execution_count": 73,
     "metadata": {},
     "output_type": "execute_result"
    },
    {
     "data": {
      "text/plain": [
       "Pipeline(steps=[('MinMax Scaling', MinMaxScaler()),\n",
       "                ('Decision Tree Classifier',\n",
       "                 DecisionTreeClassifier(criterion='entropy', max_depth=4))])"
      ]
     },
     "execution_count": 73,
     "metadata": {},
     "output_type": "execute_result"
    },
    {
     "data": {
      "text/plain": [
       "Pipeline(steps=[('MinMax Scaling', MinMaxScaler()),\n",
       "                ('Decision Tree Classifier',\n",
       "                 DecisionTreeClassifier(criterion='entropy', max_depth=5))])"
      ]
     },
     "execution_count": 73,
     "metadata": {},
     "output_type": "execute_result"
    },
    {
     "data": {
      "text/plain": [
       "Pipeline(steps=[('MinMax Scaling', MinMaxScaler()),\n",
       "                ('Decision Tree Classifier',\n",
       "                 DecisionTreeClassifier(criterion='entropy', max_depth=6))])"
      ]
     },
     "execution_count": 73,
     "metadata": {},
     "output_type": "execute_result"
    },
    {
     "data": {
      "text/plain": [
       "Pipeline(steps=[('MinMax Scaling', MinMaxScaler()),\n",
       "                ('Decision Tree Classifier',\n",
       "                 DecisionTreeClassifier(criterion='entropy', max_depth=7))])"
      ]
     },
     "execution_count": 73,
     "metadata": {},
     "output_type": "execute_result"
    },
    {
     "data": {
      "text/plain": [
       "Pipeline(steps=[('MinMax Scaling', MinMaxScaler()),\n",
       "                ('Decision Tree Classifier',\n",
       "                 DecisionTreeClassifier(criterion='entropy', max_depth=8))])"
      ]
     },
     "execution_count": 73,
     "metadata": {},
     "output_type": "execute_result"
    },
    {
     "data": {
      "text/plain": [
       "Pipeline(steps=[('MinMax Scaling', MinMaxScaler()),\n",
       "                ('Decision Tree Classifier',\n",
       "                 DecisionTreeClassifier(criterion='entropy', max_depth=9))])"
      ]
     },
     "execution_count": 73,
     "metadata": {},
     "output_type": "execute_result"
    },
    {
     "data": {
      "text/plain": [
       "Pipeline(steps=[('MinMax Scaling', MinMaxScaler()),\n",
       "                ('Decision Tree Classifier',\n",
       "                 DecisionTreeClassifier(criterion='entropy', max_depth=10))])"
      ]
     },
     "execution_count": 73,
     "metadata": {},
     "output_type": "execute_result"
    },
    {
     "data": {
      "text/plain": [
       "Pipeline(steps=[('MinMax Scaling', MinMaxScaler()),\n",
       "                ('Decision Tree Classifier',\n",
       "                 DecisionTreeClassifier(criterion='entropy', max_depth=11))])"
      ]
     },
     "execution_count": 73,
     "metadata": {},
     "output_type": "execute_result"
    },
    {
     "data": {
      "text/plain": [
       "Pipeline(steps=[('MinMax Scaling', MinMaxScaler()),\n",
       "                ('Decision Tree Classifier',\n",
       "                 DecisionTreeClassifier(criterion='entropy', max_depth=12))])"
      ]
     },
     "execution_count": 73,
     "metadata": {},
     "output_type": "execute_result"
    },
    {
     "data": {
      "text/plain": [
       "Pipeline(steps=[('MinMax Scaling', MinMaxScaler()),\n",
       "                ('Decision Tree Classifier',\n",
       "                 DecisionTreeClassifier(criterion='entropy', max_depth=13))])"
      ]
     },
     "execution_count": 73,
     "metadata": {},
     "output_type": "execute_result"
    },
    {
     "data": {
      "text/plain": [
       "Pipeline(steps=[('MinMax Scaling', MinMaxScaler()),\n",
       "                ('Decision Tree Classifier',\n",
       "                 DecisionTreeClassifier(criterion='entropy', max_depth=14))])"
      ]
     },
     "execution_count": 73,
     "metadata": {},
     "output_type": "execute_result"
    },
    {
     "data": {
      "text/plain": [
       "Pipeline(steps=[('MinMax Scaling', MinMaxScaler()),\n",
       "                ('Decision Tree Classifier',\n",
       "                 DecisionTreeClassifier(criterion='entropy', max_depth=15))])"
      ]
     },
     "execution_count": 73,
     "metadata": {},
     "output_type": "execute_result"
    },
    {
     "data": {
      "text/plain": [
       "Pipeline(steps=[('MinMax Scaling', MinMaxScaler()),\n",
       "                ('Decision Tree Classifier',\n",
       "                 DecisionTreeClassifier(criterion='entropy', max_depth=16))])"
      ]
     },
     "execution_count": 73,
     "metadata": {},
     "output_type": "execute_result"
    },
    {
     "data": {
      "text/plain": [
       "Pipeline(steps=[('MinMax Scaling', MinMaxScaler()),\n",
       "                ('Decision Tree Classifier',\n",
       "                 DecisionTreeClassifier(criterion='entropy', max_depth=17))])"
      ]
     },
     "execution_count": 73,
     "metadata": {},
     "output_type": "execute_result"
    },
    {
     "data": {
      "text/plain": [
       "Pipeline(steps=[('MinMax Scaling', MinMaxScaler()),\n",
       "                ('Decision Tree Classifier',\n",
       "                 DecisionTreeClassifier(criterion='entropy', max_depth=18))])"
      ]
     },
     "execution_count": 73,
     "metadata": {},
     "output_type": "execute_result"
    },
    {
     "data": {
      "text/plain": [
       "Pipeline(steps=[('MinMax Scaling', MinMaxScaler()),\n",
       "                ('Decision Tree Classifier',\n",
       "                 DecisionTreeClassifier(criterion='entropy', max_depth=19))])"
      ]
     },
     "execution_count": 73,
     "metadata": {},
     "output_type": "execute_result"
    },
    {
     "data": {
      "text/plain": [
       "<Figure size 720x432 with 0 Axes>"
      ]
     },
     "execution_count": 73,
     "metadata": {},
     "output_type": "execute_result"
    },
    {
     "data": {
      "text/plain": [
       "[<matplotlib.lines.Line2D at 0x2a4ba6a74c0>]"
      ]
     },
     "execution_count": 73,
     "metadata": {},
     "output_type": "execute_result"
    },
    {
     "data": {
      "text/plain": [
       "[<matplotlib.lines.Line2D at 0x2a4ba6a7910>]"
      ]
     },
     "execution_count": 73,
     "metadata": {},
     "output_type": "execute_result"
    },
    {
     "data": {
      "text/plain": [
       "Text(0.5, 0, 'Max Depth')"
      ]
     },
     "execution_count": 73,
     "metadata": {},
     "output_type": "execute_result"
    },
    {
     "data": {
      "text/plain": [
       "Text(0, 0.5, 'Accuracy')"
      ]
     },
     "execution_count": 73,
     "metadata": {},
     "output_type": "execute_result"
    },
    {
     "name": "stdout",
     "output_type": "stream",
     "text": [
      "[0.6586323290411301, 0.6773596699587449, 0.7294161770221278, 0.7501062632829104, 0.7595949493686711, 0.7748218527315914, 0.7856982122765346, 0.7980747593449181, 0.810276284535567, 0.8225778222277784, 0.8354919364920615, 0.8497312164020503, 0.8645080635079385, 0.881335166895862, 0.8959494936867108, 0.9118639829978747, 0.9270033754219278, 0.9405425678209777, 0.9520690086260782]\n",
      "[0.7010363321101657, 0.24049356828904392, 0.4165087301907335, 0.6073632001290374, 0.6628493084398565, 0.5401427476914392, 0.5838138634622364, 0.579297552320658, 0.6140973426347837, 0.6057099076575668, 0.6201862978345901, 0.6168393886850276, 0.6164764708254366, 0.6314770756885358, 0.640791967418041, 0.654340900842776, 0.6627283358199927, 0.6682930763337231, 0.6722851727892254]\n"
     ]
    },
    {
     "data": {
      "image/png": "[encoded data removed]",
      "text/plain": [
       "<Figure size 720x432 with 1 Axes>"
      ]
     },
     "metadata": {
      "needs_background": "light"
     },
     "output_type": "display_data"
    }
   ],
   "source": [
    "# We can iterate through different depth values to find the value that minimizes *test* error. \n",
    "# For each depth value, we learn a tree\n",
    "\n",
    "clfs = []\n",
    "\n",
    "max_depths = range (1,20)\n",
    "\n",
    "for max_depth in max_depths:\n",
    "    dtclf = DecisionTreeClassifier(criterion=\"entropy\",max_depth = max_depth)\n",
    "    pipeline = Pipeline([\n",
    "    (\"MinMax Scaling\", MinMaxScaler()),\n",
    "    (\"Decision Tree Classifier\", dtclf)\n",
    "    ])\n",
    "    pipeline.fit(X_resampled, y_resampled)\n",
    "    clfs.append(pipeline)\n",
    "    \n",
    "# Lets find the one that has the maximum test set accuracy\n",
    "\n",
    "#Accuracy scores of the training set for different values of max_depth\n",
    "acc_scores_train = [metrics.accuracy_score(y_resampled, clf.predict(X_resampled)) for clf in clfs]\n",
    "#Accuracy scores of the test set for different values of max_depth\n",
    "acc_scores_test = [metrics.accuracy_score(y_test, clf.predict(X_test)) for clf in clfs]\n",
    "\n",
    "# Plot between Training Set Accuracy/Validation Set Accuracy and max_depth\n",
    "plt.figure(figsize=(10,  6))\n",
    "plt.grid()\n",
    "plt.plot(max_depths[:-1], acc_scores_train[:-1], label = \"Training\")\n",
    "plt.plot(max_depths[:-1], acc_scores_test[:-1], label = \"Test\")\n",
    "\n",
    "plt.xlabel(\"Max Depth\")\n",
    "plt.ylabel(\"Accuracy\")\n",
    "print(acc_scores_train)\n",
    "print(acc_scores_test)"
   ]
  },
  {
   "cell_type": "code",
   "execution_count": 75,
   "id": "634744a7",
   "metadata": {},
   "outputs": [
    {
     "name": "stdout",
     "output_type": "stream",
     "text": [
      "Training Set Accuracy: 0.7980747593449181\n",
      "Test Set Accuracy: 0.5792572281140369\n"
     ]
    }
   ],
   "source": [
    "dtclf = DecisionTreeClassifier(criterion=\"entropy\",max_depth = 8)\n",
    "#pipeline containing both the MinMaxScaler() to normalize the input features of training data and model type\n",
    "pipeline = Pipeline([\n",
    "    (\"MinMax Scaling\", MinMaxScaler()),\n",
    "    (\"Decision Tree Classifier\", dtclf)\n",
    "])\n",
    "# Train Decision Tree Classifer\n",
    "pipeline = pipeline.fit(X_resampled,y_resampled)\n",
    "\n",
    "\n",
    "# Predict the response for training dataset\n",
    "y_pred = pipeline.predict(X_resampled)\n",
    "print(\"Training Set Accuracy:\",metrics.accuracy_score(y_resampled, y_pred))\n",
    "\n",
    "# Predict the response for test dataset\n",
    "y_pred = pipeline.predict(X_test)\n",
    "print(\"Test Set Accuracy:\",metrics.accuracy_score(y_test, y_pred))\n"
   ]
  },
  {
   "cell_type": "code",
   "execution_count": 76,
   "id": "360f0395",
   "metadata": {},
   "outputs": [
    {
     "name": "stdout",
     "output_type": "stream",
     "text": [
      "{'0': {'precision': 0.8978550244844472, 'recall': 0.5925083064038961, 'f1-score': 0.7139018371264052, 'support': 21971}, '1': {'precision': 0.13077669902912623, 'recall': 0.4763083451202263, 'f1-score': 0.20521023765996346, 'support': 2828}, 'accuracy': 0.5792572281140369, 'macro avg': {'precision': 0.5143158617567867, 'recall': 0.5344083257620612, 'f1-score': 0.45955603739318435, 'support': 24799}, 'weighted avg': {'precision': 0.8103798236945907, 'recall': 0.5792572281140369, 'f1-score': 0.6558922462843915, 'support': 24799}}\n"
     ]
    }
   ],
   "source": [
    "## Printing the classification report\n",
    "from sklearn.metrics import classification_report\n",
    "print(classification_report(y_test, y_pred, output_dict=True))"
   ]
  },
  {
   "cell_type": "code",
   "execution_count": 77,
   "id": "09e90848",
   "metadata": {},
   "outputs": [
    {
     "data": {
      "image/png": "[encoded data removed]",
      "text/plain": [
       "<Figure size 432x432 with 2 Axes>"
      ]
     },
     "metadata": {
      "needs_background": "light"
     },
     "output_type": "display_data"
    }
   ],
   "source": [
    "# Printing the confusion matrix\n",
    "c_mat = metrics.confusion_matrix(y_test, y_pred) #computing the confusion matrix \n",
    "plt.figure(figsize=(6,6))\n",
    "sns.heatmap(c_mat, annot=True, fmt=\".4f\", linewidths=.6, square = True); \n",
    "plt.ylabel('Actual label');\n",
    "plt.xlabel('Predicted label');"
   ]
  },
  {
   "cell_type": "code",
   "execution_count": 78,
   "id": "55a4d7f6",
   "metadata": {},
   "outputs": [
    {
     "data": {
      "text/plain": [
       "<sklearn.metrics._plot.roc_curve.RocCurveDisplay at 0x2a4ba759eb0>"
      ]
     },
     "execution_count": 78,
     "metadata": {},
     "output_type": "execute_result"
    },
    {
     "data": {
      "image/png": "[encoded data removed]",
      "text/plain": [
       "<Figure size 1296x720 with 1 Axes>"
      ]
     },
     "metadata": {
      "needs_background": "light"
     },
     "output_type": "display_data"
    }
   ],
   "source": [
    "# Printing the ROC curve for the Decision tree classifier\n",
    "from sklearn.metrics import roc_auc_score\n",
    "from sklearn.metrics import plot_roc_curve\n",
    "\n",
    "roc_auc = roc_auc_score(y_test, dtclf.predict(X_test))\n",
    "plot_roc_curve(dtclf, X_test, y_test)"
   ]
  },
  {
   "cell_type": "markdown",
   "id": "ed78da1d",
   "metadata": {},
   "source": [
    "### Observations:\n",
    "- Ran the decision tree classifier for different values of hyperparameters\n",
    "- below are some of the model performance evaluation metrics values we observed.\n",
    "- when we used hyperparameters(criterion=\"entropy\",max_depth = 5), we can see that the recall value for target class(1) is 0.34 and Test Set Accuracy is 0.66\n",
    "- when we used hyperparameters(criterion=\"entropy\",max_depth = 8), we can see that there's a rise in recall value for target class(1): 0.47 even though the Test Set Accuracy decreases to 0.58"
   ]
  },
  {
   "cell_type": "markdown",
   "id": "df580687",
   "metadata": {},
   "source": [
    "| Hyperparameters | Train set Accuracy | Test set Accuracy | Precision for target class(1)|Recall for target class(1)|AUC|\n",
    "| :--- | :--- | :--- | :--- | :--- | :--- |\n",
    "| criterion=\"entropy\",max_depth = 5 | 0.76 | 0.66 | 0.13 | 0.34 | 0.54 |\n",
    "| criterion=\"entropy\",max_depth = 8 | 0.80 | 0.58 | 0.13  |0.47 | 0.54 |"
   ]
  },
  {
   "cell_type": "markdown",
   "id": "1d7ce8e9",
   "metadata": {},
   "source": [
    "#### Logistic Regression Classifier"
   ]
  },
  {
   "cell_type": "code",
   "execution_count": 83,
   "id": "027b918e",
   "metadata": {},
   "outputs": [
    {
     "name": "stdout",
     "output_type": "stream",
     "text": [
      "Training Set Accuracy: 0.8075259407425929\n",
      "Test Set Accuracy: 0.619137868462438\n"
     ]
    },
    {
     "name": "stderr",
     "output_type": "stream",
     "text": [
      "C:\\Users\\swarn\\anaconda3\\lib\\site-packages\\sklearn\\linear_model\\_logistic.py:763: ConvergenceWarning: lbfgs failed to converge (status=1):\n",
      "STOP: TOTAL NO. of ITERATIONS REACHED LIMIT.\n",
      "\n",
      "Increase the number of iterations (max_iter) or scale the data as shown in:\n",
      "    https://scikit-learn.org/stable/modules/preprocessing.html\n",
      "Please also refer to the documentation for alternative solver options:\n",
      "    https://scikit-learn.org/stable/modules/linear_model.html#logistic-regression\n",
      "  n_iter_i = _check_optimize_result(\n"
     ]
    }
   ],
   "source": [
    "from sklearn.linear_model import LogisticRegression\n",
    "model = LogisticRegression()\n",
    "#pipeline containing both the MinMaxScaler() to normalize the input features of training data and model type\n",
    "pipeline = Pipeline([\n",
    "    (\"MinMax Scaling\", MinMaxScaler()),\n",
    "    (\"Logistic Rogression\", model)\n",
    "])\n",
    "# Training the Logistic Regression Classifer\n",
    "pipeline = pipeline.fit(X_resampled,y_resampled)\n",
    "# Predict the response for training dataset\n",
    "y_pred = pipeline.predict(X_resampled)\n",
    "print(\"Training Set Accuracy:\",metrics.accuracy_score(y_resampled, y_pred))\n",
    "# Predict the response for test dataset\n",
    "y_pred = pipeline.predict(X_test)\n",
    "print(\"Test Set Accuracy:\",metrics.accuracy_score(y_test, y_pred))"
   ]
  },
  {
   "cell_type": "code",
   "execution_count": 84,
   "id": "5f42c854",
   "metadata": {},
   "outputs": [
    {
     "name": "stdout",
     "output_type": "stream",
     "text": [
      "{'0': {'precision': 0.9002940048574716, 'recall': 0.6411178371489691, 'f1-score': 0.7489167131881862, 'support': 21971}, '1': {'precision': 0.13853381405003823, 'recall': 0.44837340876944837, 'f1-score': 0.2116684750855521, 'support': 2828}, 'accuracy': 0.619137868462438, 'macro avg': {'precision': 0.5194139094537549, 'recall': 0.5447456229592087, 'f1-score': 0.48029259413686914, 'support': 24799}, 'weighted avg': {'precision': 0.8134252674243726, 'recall': 0.619137868462438, 'f1-score': 0.6876506130488964, 'support': 24799}}\n"
     ]
    }
   ],
   "source": [
    "## Printing the classification report\n",
    "print(classification_report(y_test, y_pred, output_dict=True))"
   ]
  },
  {
   "cell_type": "code",
   "execution_count": 85,
   "id": "491dc7dd",
   "metadata": {},
   "outputs": [
    {
     "data": {
      "image/png": "[encoded data removed]",
      "text/plain": [
       "<Figure size 432x432 with 2 Axes>"
      ]
     },
     "metadata": {
      "needs_background": "light"
     },
     "output_type": "display_data"
    }
   ],
   "source": [
    "#Printing the confusion matrix\n",
    "c_mat = metrics.confusion_matrix(y_test, y_pred) #computing the confusion matrix \n",
    "plt.figure(figsize=(6,6))\n",
    "sns.heatmap(c_mat, annot=True, fmt=\".4f\", linewidths=.6, square = True); \n",
    "plt.ylabel('Actual label');\n",
    "plt.xlabel('Predicted label');"
   ]
  },
  {
   "cell_type": "code",
   "execution_count": 87,
   "id": "26f97c34",
   "metadata": {},
   "outputs": [
    {
     "name": "stdout",
     "output_type": "stream",
     "text": [
      "Training Set Accuracy: 0.7988373546693337\n",
      "Test Set Accuracy: 0.6009516512762612\n"
     ]
    }
   ],
   "source": [
    "from sklearn.linear_model import LogisticRegression\n",
    "model = LogisticRegression(C = 0.01, penalty= 'l2', solver= 'liblinear')\n",
    "#pipeline containing both the MinMaxScaler() to normalize the input features of training data and model type\n",
    "pipeline = Pipeline([\n",
    "    (\"MinMax Scaling\", MinMaxScaler()),\n",
    "    (\"Logistic Rogression\", model)\n",
    "])\n",
    "# Training the Logistic Regression Classifer\n",
    "pipeline = pipeline.fit(X_resampled,y_resampled)\n",
    "# Predict the response for training dataset\n",
    "y_pred = pipeline.predict(X_resampled)\n",
    "print(\"Training Set Accuracy:\",metrics.accuracy_score(y_resampled, y_pred))\n",
    "# Predict the response for test dataset\n",
    "y_pred = pipeline.predict(X_test)\n",
    "print(\"Test Set Accuracy:\",metrics.accuracy_score(y_test, y_pred))"
   ]
  },
  {
   "cell_type": "code",
   "execution_count": 88,
   "id": "eec82ad2",
   "metadata": {},
   "outputs": [
    {
     "name": "stdout",
     "output_type": "stream",
     "text": [
      "{'0': {'precision': 0.896968899993425, 'recall': 0.6209093805470848, 'f1-score': 0.7338353953738569, 'support': 21971}, '1': {'precision': 0.13149113660062564, 'recall': 0.4458981612446959, 'f1-score': 0.20309228539217264, 'support': 2828}, 'accuracy': 0.6009516512762612, 'macro avg': {'precision': 0.5142300182970253, 'recall': 0.5334037708958903, 'f1-score': 0.46846384038301475, 'support': 24799}, 'weighted avg': {'precision': 0.8096762222695314, 'recall': 0.6009516512762612, 'f1-score': 0.6733111195954705, 'support': 24799}}\n"
     ]
    }
   ],
   "source": [
    "## Printing the classification report\n",
    "print(classification_report(y_test, y_pred, output_dict=True))"
   ]
  },
  {
   "cell_type": "code",
   "execution_count": 89,
   "id": "e5f934a9",
   "metadata": {},
   "outputs": [
    {
     "data": {
      "image/png": "[encoded data removed]",
      "text/plain": [
       "<Figure size 432x432 with 2 Axes>"
      ]
     },
     "metadata": {
      "needs_background": "light"
     },
     "output_type": "display_data"
    }
   ],
   "source": [
    "#Printing the confusion matrix\n",
    "c_mat = metrics.confusion_matrix(y_test, y_pred) #computing the confusion matrix \n",
    "plt.figure(figsize=(6,6))\n",
    "sns.heatmap(c_mat, annot=True, fmt=\".4f\", linewidths=.6, square = True); \n",
    "plt.ylabel('Actual label');\n",
    "plt.xlabel('Predicted label');"
   ]
  },
  {
   "cell_type": "code",
   "execution_count": 90,
   "id": "dd5d0de4",
   "metadata": {},
   "outputs": [
    {
     "data": {
      "text/plain": [
       "<sklearn.metrics._plot.roc_curve.RocCurveDisplay at 0x2a4be8d7880>"
      ]
     },
     "execution_count": 90,
     "metadata": {},
     "output_type": "execute_result"
    },
    {
     "data": {
      "image/png": "[encoded data removed]",
      "text/plain": [
       "<Figure size 1296x720 with 1 Axes>"
      ]
     },
     "metadata": {
      "needs_background": "light"
     },
     "output_type": "display_data"
    }
   ],
   "source": [
    "#ROC curve for Logistic Regression Classifier.\n",
    "roc_auc = roc_auc_score(y_test, model.predict(X_test))\n",
    "plot_roc_curve(model, X_test, y_test)"
   ]
  },
  {
   "cell_type": "markdown",
   "id": "18a6da6c",
   "metadata": {},
   "source": [
    "### Observations:\n",
    "- Ran the Logistic regression classifier for different values of hyperparameters\n",
    "- below are some of the model evaluation metrics values we observed.\n",
    "- when we used no hyperparameters, we can see that the recall value for target class(1) is 0.45 and Test Set Accuracy is 0.62\n",
    "- when we used hyperparameters(C = 0.01, penalty= 'l2', solver= 'liblinear'), we can see that there's no rise in recall value for target class(1): 0.47, the Test Set Accuracy decreases to 0.60 and Train Set Accuracy also decrease to 0.80"
   ]
  },
  {
   "cell_type": "markdown",
   "id": "800a42ec",
   "metadata": {},
   "source": [
    "| Hyperparameters | Train set Accuracy | Test set Accuracy | Precision for target class(1)|Recall for target class(1)|AUC|\n",
    "| :--- | :--- | :--- | :--- | :--- | :--- |\n",
    "| No parameters| 0.81 | 0.62 | 0.14 | 0.45 | 0.50 |\n",
    "| C = 0.01, penalty= 'l2', solver= 'liblinear'| 0.80 | 0.60 | 0.13  |0.45 | 0.50 |"
   ]
  },
  {
   "cell_type": "markdown",
   "id": "528e00ef",
   "metadata": {},
   "source": [
    "## Random Forest Classifier"
   ]
  },
  {
   "cell_type": "code",
   "execution_count": 91,
   "id": "4ac6e3f1",
   "metadata": {},
   "outputs": [
    {
     "name": "stdout",
     "output_type": "stream",
     "text": [
      "Training Set Accuracy: 1.0\n",
      "Test Set Accuracy: 0.7906770434291706\n"
     ]
    }
   ],
   "source": [
    "from sklearn.ensemble import RandomForestClassifier\n",
    "model = RandomForestClassifier()\n",
    "#pipeline containing both the MinMaxScaler() to normalize the input features of training data and model type\n",
    "pipeline = Pipeline([\n",
    "    (\"MinMax Scaling\", MinMaxScaler()),\n",
    "    (\"Random Forest\", model)\n",
    "])\n",
    "# Train Random Forest Classifer\n",
    "pipeline = pipeline.fit(X_resampled,y_resampled)\n",
    "# Predict the response for train dataset\n",
    "y_pred = pipeline.predict(X_resampled)\n",
    "print(\"Training Set Accuracy:\",metrics.accuracy_score(y_resampled, y_pred))\n",
    "# Predict the response for test dataset\n",
    "y_pred = pipeline.predict(X_test)\n",
    "print(\"Test Set Accuracy:\",metrics.accuracy_score(y_test, y_pred))"
   ]
  },
  {
   "cell_type": "code",
   "execution_count": 92,
   "id": "ab19864b",
   "metadata": {},
   "outputs": [
    {
     "name": "stdout",
     "output_type": "stream",
     "text": [
      "{'0': {'precision': 0.8920927189456959, 'recall': 0.8688270902553366, 'f1-score': 0.8803062095044848, 'support': 21971}, '1': {'precision': 0.15260217583063804, 'recall': 0.18352192362093353, 'f1-score': 0.16663991009792903, 'support': 2828}, 'accuracy': 0.7906770434291706, 'macro avg': {'precision': 0.522347447388167, 'recall': 0.5261745069381351, 'f1-score': 0.523473059801207, 'support': 24799}, 'weighted avg': {'precision': 0.8077635421268974, 'recall': 0.7906770434291706, 'f1-score': 0.7989219482551707, 'support': 24799}}\n"
     ]
    }
   ],
   "source": [
    "## Printing the classification report\n",
    "print(classification_report(y_test, y_pred, output_dict=True))"
   ]
  },
  {
   "cell_type": "code",
   "execution_count": 93,
   "id": "64a5b2c4",
   "metadata": {},
   "outputs": [
    {
     "data": {
      "image/png": "[encoded data removed]",
      "text/plain": [
       "<Figure size 432x432 with 2 Axes>"
      ]
     },
     "metadata": {
      "needs_background": "light"
     },
     "output_type": "display_data"
    }
   ],
   "source": [
    "#Printing the confusion matrix\n",
    "c_mat = metrics.confusion_matrix(y_test, y_pred) #computing the confusion matrix \n",
    "plt.figure(figsize=(6,6))\n",
    "sns.heatmap(c_mat, annot=True, fmt=\".4f\", linewidths=.6, square = True); \n",
    "plt.ylabel('Actual label');\n",
    "plt.xlabel('Predicted label');\n"
   ]
  },
  {
   "cell_type": "code",
   "execution_count": 95,
   "id": "33423329",
   "metadata": {},
   "outputs": [
    {
     "name": "stdout",
     "output_type": "stream",
     "text": [
      "Training Set Accuracy: 0.8136392049006126\n",
      "Test Set Accuracy: 0.6150247993870721\n"
     ]
    }
   ],
   "source": [
    "from sklearn.ensemble import RandomForestClassifier\n",
    "model = RandomForestClassifier(criterion = \"entropy\" , random_state = 42, max_depth= 8, max_features= 15)\n",
    "#pipeline containing both the MinMaxScaler() to normalize the input features of training data and model type\n",
    "pipeline = Pipeline([\n",
    "    (\"MinMax Scaling\", MinMaxScaler()),\n",
    "    (\"Random Forest\", model)\n",
    "])\n",
    "# Train Random Forest Classifer\n",
    "pipeline = pipeline.fit(X_resampled,y_resampled)\n",
    "# Predict the response for train dataset\n",
    "y_pred = pipeline.predict(X_resampled)\n",
    "print(\"Training Set Accuracy:\",metrics.accuracy_score(y_resampled, y_pred))\n",
    "# Predict the response for test dataset\n",
    "y_pred = pipeline.predict(X_test)\n",
    "print(\"Test Set Accuracy:\",metrics.accuracy_score(y_test, y_pred))"
   ]
  },
  {
   "cell_type": "code",
   "execution_count": 96,
   "id": "2fea15ab",
   "metadata": {},
   "outputs": [
    {
     "name": "stdout",
     "output_type": "stream",
     "text": [
      "{'0': {'precision': 0.8957191998980761, 'recall': 0.6399799736015657, 'f1-score': 0.7465555231091878, 'support': 21971}, '1': {'precision': 0.13086474013844632, 'recall': 0.42114568599717117, 'f1-score': 0.19968144857071005, 'support': 2828}, 'accuracy': 0.6150247993870721, 'macro avg': {'precision': 0.5132919700182612, 'recall': 0.5305628297993684, 'f1-score': 0.4731184858399489, 'support': 24799}, 'weighted avg': {'precision': 0.8084976017610451, 'recall': 0.6150247993870721, 'f1-score': 0.684191722843257, 'support': 24799}}\n"
     ]
    }
   ],
   "source": [
    "## Printing the classification report\n",
    "print(classification_report(y_test, y_pred, output_dict=True))"
   ]
  },
  {
   "cell_type": "code",
   "execution_count": 97,
   "id": "066c38c4",
   "metadata": {},
   "outputs": [
    {
     "data": {
      "image/png": "[encoded data removed]",
      "text/plain": [
       "<Figure size 432x432 with 2 Axes>"
      ]
     },
     "metadata": {
      "needs_background": "light"
     },
     "output_type": "display_data"
    }
   ],
   "source": [
    "#Printing the confusion matrix\n",
    "c_mat = metrics.confusion_matrix(y_test, y_pred) #computing the confusion matrix \n",
    "plt.figure(figsize=(6,6))\n",
    "sns.heatmap(c_mat, annot=True, fmt=\".4f\", linewidths=.6, square = True); \n",
    "plt.ylabel('Actual label');\n",
    "plt.xlabel('Predicted label');\n"
   ]
  },
  {
   "cell_type": "code",
   "execution_count": 98,
   "id": "278d30a9",
   "metadata": {},
   "outputs": [
    {
     "data": {
      "text/plain": [
       "<sklearn.metrics._plot.roc_curve.RocCurveDisplay at 0x2a4bc36c790>"
      ]
     },
     "execution_count": 98,
     "metadata": {},
     "output_type": "execute_result"
    },
    {
     "data": {
      "image/png": "[encoded data removed]",
      "text/plain": [
       "<Figure size 1296x720 with 1 Axes>"
      ]
     },
     "metadata": {
      "needs_background": "light"
     },
     "output_type": "display_data"
    }
   ],
   "source": [
    "#ROC curve for Random Forest Classifier.\n",
    "roc_auc = roc_auc_score(y_test, model.predict(X_test))\n",
    "plot_roc_curve(model, X_test, y_test)"
   ]
  },
  {
   "cell_type": "markdown",
   "id": "762a2216",
   "metadata": {},
   "source": [
    "### Observations:\n",
    "- Ran the Random Forest classifier for different values of hyperparameters\n",
    "- below are some of the model evaluation metrics values we observed.\n",
    "- when we used no hyperparameters, we can see that the recall value for target class(1) is 0.18 and Test Set Accuracy is 0.80\n",
    "- when we used hyperparameters(criterion = \"entropy\" , random_state = 42, max_depth= 8, max_features= 15), we can see that there's a rise in recall value for target class(1): 0.42, the Test Set Accuracy decreases to 0.62 and Train Set Accuracy also decreases to 0.80"
   ]
  },
  {
   "cell_type": "markdown",
   "id": "0866a792",
   "metadata": {},
   "source": [
    "| Hyperparameters | Train set Accuracy | Test set Accuracy | Precision for target class(1)|Recall for target class(1)|AUC|\n",
    "| :--- | :--- | :--- | :--- | :--- | :--- |\n",
    "| No parameters| 1 | 0.80 | 0.15 | 0.18 | 0.54 |\n",
    "| criterion = \"entropy\" , random_state = 42, max_depth= 8, max_features= 15 | 0.81 | 0.62 | 0.13  |0.42 | 0.54 |"
   ]
  },
  {
   "cell_type": "markdown",
   "id": "d8ff86e7",
   "metadata": {},
   "source": [
    "### LightGBM classifier"
   ]
  },
  {
   "cell_type": "code",
   "execution_count": 99,
   "id": "9c38dcb7",
   "metadata": {},
   "outputs": [
    {
     "name": "stdout",
     "output_type": "stream",
     "text": [
      "Training Set Accuracy: 0.8774596824603076\n",
      "Test Set Accuracy: 0.7197870881890399\n"
     ]
    }
   ],
   "source": [
    "# Training the LGBM classifier on the train data.\n",
    "from lightgbm import LGBMClassifier\n",
    "model = LGBMClassifier() #model is LGBM classifier\n",
    "\n",
    "pipeline = Pipeline([\n",
    "    (\"MinMax Scaling\", MinMaxScaler()),\n",
    "    (\"LGBM\", model)\n",
    "])\n",
    "# Train LGBM Classifer\n",
    "pipeline = pipeline.fit(X_resampled,y_resampled)\n",
    "# Predict the response for train dataset\n",
    "y_pred = pipeline.predict(X_resampled)\n",
    "print(\"Training Set Accuracy:\",metrics.accuracy_score(y_resampled, y_pred))\n",
    "# Predict the response for test dataset\n",
    "y_pred = pipeline.predict(X_test)\n",
    "print(\"Test Set Accuracy:\",metrics.accuracy_score(y_test, y_pred))"
   ]
  },
  {
   "cell_type": "code",
   "execution_count": 97,
   "id": "59c15d06",
   "metadata": {},
   "outputs": [
    {
     "name": "stdout",
     "output_type": "stream",
     "text": [
      "{'0': {'precision': 0.9032026768642447, 'recall': 0.687997815301989, 'f1-score': 0.781047355775441, 'support': 21971}, '1': {'precision': 0.14982016619124394, 'recall': 0.42715700141442714, 'f1-score': 0.22183454228261867, 'support': 2828}, 'accuracy': 0.6582523488850357, 'macro avg': {'precision': 0.5265114215277443, 'recall': 0.5575774083582081, 'f1-score': 0.5014409490290299, 'support': 24799}, 'weighted avg': {'precision': 0.8172893037369715, 'recall': 0.6582523488850357, 'f1-score': 0.717276484508144, 'support': 24799}}\n"
     ]
    }
   ],
   "source": [
    "## Printing the classification report\n",
    "print(classification_report(y_test, y_pred, output_dict=True))"
   ]
  },
  {
   "cell_type": "code",
   "execution_count": 98,
   "id": "6cc185ea",
   "metadata": {},
   "outputs": [
    {
     "data": {
      "image/png": "[encoded data removed]",
      "text/plain": [
       "<Figure size 432x432 with 2 Axes>"
      ]
     },
     "metadata": {
      "needs_background": "light"
     },
     "output_type": "display_data"
    }
   ],
   "source": [
    "# Plotting the Confusion Matrix\n",
    "c_mat = metrics.confusion_matrix(y_test, y_pred) #computing the confusion matrix \n",
    "plt.figure(figsize=(6,6))\n",
    "sns.heatmap(c_mat, annot=True, fmt=\".4f\", linewidths=.6, square = True); \n",
    "plt.ylabel('Actual label');\n",
    "plt.xlabel('Predicted label');\n"
   ]
  },
  {
   "cell_type": "code",
   "execution_count": 101,
   "id": "8c6bf940",
   "metadata": {},
   "outputs": [
    {
     "name": "stdout",
     "output_type": "stream",
     "text": [
      "Training Set Accuracy: 0.8979997499687461\n",
      "Test Set Accuracy: 0.7309972176297431\n"
     ]
    }
   ],
   "source": [
    "# Training the LGBM classifier on the train data.\n",
    "model = LGBMClassifier(n_estimators=200, subsample= 0.01) #model is LGBM classifier\n",
    "\n",
    "pipeline = Pipeline([\n",
    "    (\"MinMax Scaling\", MinMaxScaler()),\n",
    "    (\"LGBM\", model)\n",
    "])\n",
    "# Train LGBM Classifer\n",
    "pipeline = pipeline.fit(X_resampled,y_resampled)\n",
    "# Predict the response for train dataset\n",
    "y_pred = pipeline.predict(X_resampled)\n",
    "print(\"Training Set Accuracy:\",metrics.accuracy_score(y_resampled, y_pred))\n",
    "# Predict the response for test dataset\n",
    "y_pred = pipeline.predict(X_test)\n",
    "print(\"Test Set Accuracy:\",metrics.accuracy_score(y_test, y_pred))"
   ]
  },
  {
   "cell_type": "code",
   "execution_count": 102,
   "id": "6c62b9a4",
   "metadata": {},
   "outputs": [
    {
     "name": "stdout",
     "output_type": "stream",
     "text": [
      "{'0': {'precision': 0.8982300884955752, 'recall': 0.7853534204178235, 'f1-score': 0.8380078191398946, 'support': 21971}, '1': {'precision': 0.15619967793880837, 'recall': 0.30869872701555867, 'f1-score': 0.20743732921468452, 'support': 2828}, 'accuracy': 0.7309972176297431, 'macro avg': {'precision': 0.5272148832171918, 'recall': 0.5470260737166911, 'f1-score': 0.5227225741772896, 'support': 24799}, 'weighted avg': {'precision': 0.8136112731782422, 'recall': 0.7309972176297431, 'f1-score': 0.7660995427776021, 'support': 24799}}\n"
     ]
    }
   ],
   "source": [
    "## Printing the classification report\n",
    "print(classification_report(y_test, y_pred, output_dict=True))"
   ]
  },
  {
   "cell_type": "code",
   "execution_count": 103,
   "id": "414f4c30",
   "metadata": {},
   "outputs": [
    {
     "data": {
      "image/png": "[encoded data removed]",
      "text/plain": [
       "<Figure size 432x432 with 2 Axes>"
      ]
     },
     "metadata": {
      "needs_background": "light"
     },
     "output_type": "display_data"
    }
   ],
   "source": [
    "# Plotting the Confusion Matrix\n",
    "c_mat = metrics.confusion_matrix(y_test, y_pred) #computing the confusion matrix \n",
    "plt.figure(figsize=(6,6))\n",
    "sns.heatmap(c_mat, annot=True, fmt=\".4f\", linewidths=.6, square = True); \n",
    "plt.ylabel('Actual label');\n",
    "plt.xlabel('Predicted label');\n"
   ]
  },
  {
   "cell_type": "code",
   "execution_count": 104,
   "id": "f0297735",
   "metadata": {},
   "outputs": [
    {
     "data": {
      "text/plain": [
       "<sklearn.metrics._plot.roc_curve.RocCurveDisplay at 0x2a4bc6ce5b0>"
      ]
     },
     "execution_count": 104,
     "metadata": {},
     "output_type": "execute_result"
    },
    {
     "data": {
      "image/png": "[encoded data removed]",
      "text/plain": [
       "<Figure size 1296x720 with 1 Axes>"
      ]
     },
     "metadata": {
      "needs_background": "light"
     },
     "output_type": "display_data"
    }
   ],
   "source": [
    "#ROC curve for LGBM classifier\n",
    "roc_auc = roc_auc_score(y_test, model.predict(X_test))\n",
    "plot_roc_curve(model, X_test, y_test)"
   ]
  },
  {
   "cell_type": "markdown",
   "id": "53e61897",
   "metadata": {},
   "source": [
    "### Observations:\n",
    "- Ran the LGBM classifier for different values of hyperparameters\n",
    "- below are some of the model evaluation metrics values we observed.\n",
    "- when we used no hyperparameters, we can see that the recall value for target class(1) is 0.43 and Test Set Accuracy is 0.72\n",
    "- when we used hyperparameters(n_estimators=200, subsample= 0.01), we can see that there's a decrease in recall value for target class(1): 0.31, the Test Set Accuracy increases to 0.73 and Train Set Accuracy also increases to 0.89."
   ]
  },
  {
   "cell_type": "markdown",
   "id": "b5d7673c",
   "metadata": {},
   "source": [
    "| Hyperparameters | Train set Accuracy | Test set Accuracy | Precision for target class(1)|Recall for target class(1)|AUC|\n",
    "| :--- | :--- | :--- | :--- | :--- | :--- |\n",
    "| No parameters| 0.88 | 0.72 | 0.15 | 0.43 | 0.55 |\n",
    "| n_estimators=200, subsample= 0.01| 0.89 | 0.73 | 0.16  |0.31 | 0.55 |"
   ]
  },
  {
   "cell_type": "markdown",
   "id": "c385b35c",
   "metadata": {},
   "source": [
    "### Hyperparameter Tuning"
   ]
  },
  {
   "cell_type": "markdown",
   "id": "5f707da8",
   "metadata": {},
   "source": [
    "#### Tuning of LightGBM Classifier"
   ]
  },
  {
   "cell_type": "code",
   "execution_count": 112,
   "id": "6dc7fc5e",
   "metadata": {},
   "outputs": [],
   "source": [
    "#Here I am trying to tune the hyperparameters of the LGBM classifier.\n",
    "# for tuning the hyperparameters we are using scikit learn's grid search cv\n",
    "#It helps to loop through predefined hyperparameters and fit our estimator (model) on the training set. \n",
    "#So, in the end, we can select the best parameters from the listed hyperparameters.\n",
    "\n",
    "\n",
    "from sklearn.model_selection import GridSearchCV\n",
    "lgbm=LGBMClassifier()\n",
    "params = {\"learning_rate\":[0.01,0.1,0.05],\n",
    "              \"n_estimators\": [100,200,500],\n",
    "               \"subsample\":[0.1,0.2,0.4],\n",
    "              \"max_depth\":[2,3,5,8,10]}\n"
   ]
  },
  {
   "cell_type": "code",
   "execution_count": 113,
   "id": "63285161",
   "metadata": {},
   "outputs": [
    {
     "name": "stdout",
     "output_type": "stream",
     "text": [
      "Fitting 3 folds for each of 180 candidates, totalling 540 fits\n"
     ]
    }
   ],
   "source": [
    "lgbm_cv_model=GridSearchCV(lgbm,params,cv=3,n_jobs=-1,verbose=2).fit(X_resampled,y_resampled)"
   ]
  },
  {
   "cell_type": "code",
   "execution_count": 101,
   "id": "aeaeb1bc",
   "metadata": {},
   "outputs": [
    {
     "data": {
      "text/plain": [
       "{'learning_rate': 0.05, 'max_depth': 8, 'n_estimators': 100, 'subsample': 0.1}"
      ]
     },
     "execution_count": 101,
     "metadata": {},
     "output_type": "execute_result"
    }
   ],
   "source": [
    "# we get the tuned parameters\n",
    "lgbm_cv_model.best_params_"
   ]
  },
  {
   "cell_type": "code",
   "execution_count": 106,
   "id": "151408bc",
   "metadata": {},
   "outputs": [
    {
     "name": "stdout",
     "output_type": "stream",
     "text": [
      "Training Set Accuracy: 0.8580197524690586\n",
      "Test Set Accuracy: 0.6905520383886447\n"
     ]
    }
   ],
   "source": [
    "# training the LGBM classifier on tuned parameters.\n",
    "from lightgbm import LGBMClassifier\n",
    "tuned_model = LGBMClassifier(learning_rate=0.05,max_depth=8,n_estimators=100,subsample=0.1) #model is LGBM classifier\n",
    "\n",
    "#pipeline containing both the MinMaxScaler() to normalize the input features of training data and model type\n",
    "pipeline = Pipeline([\n",
    "    (\"MinMax Scaling\", MinMaxScaler()),\n",
    "    (\"LGBM\", tuned_model)\n",
    "])\n",
    "# Train LGBM Classifer \n",
    "pipeline = pipeline.fit(X_resampled,y_resampled)\n",
    "# Predict the response for train dataset\n",
    "y_pred = pipeline.predict(X_resampled)\n",
    "print(\"Training Set Accuracy:\",metrics.accuracy_score(y_resampled, y_pred))\n",
    "# Predict the response for test dataset\n",
    "y_pred = pipeline.predict(X_test)\n",
    "print(\"Test Set Accuracy:\",metrics.accuracy_score(y_test, y_pred))"
   ]
  },
  {
   "cell_type": "code",
   "execution_count": 107,
   "id": "9240d7fc",
   "metadata": {},
   "outputs": [
    {
     "name": "stdout",
     "output_type": "stream",
     "text": [
      "{'0': {'precision': 0.8976912378303199, 'recall': 0.7344226480360475, 'f1-score': 0.807890652380714, 'support': 21971}, '1': {'precision': 0.14492966002344665, 'recall': 0.3497171145685997, 'f1-score': 0.20493162038955656, 'support': 2828}, 'accuracy': 0.6905520383886447, 'macro avg': {'precision': 0.5213104489268833, 'recall': 0.5420698813023236, 'f1-score': 0.5064111363851352, 'support': 24799}, 'weighted avg': {'precision': 0.8118486739350886, 'recall': 0.6905520383886447, 'f1-score': 0.7391310998797667, 'support': 24799}}\n"
     ]
    }
   ],
   "source": [
    "## Printing the classification report\n",
    "print(classification_report(y_test, y_pred, output_dict=True))"
   ]
  },
  {
   "cell_type": "code",
   "execution_count": 108,
   "id": "6808e5a6",
   "metadata": {},
   "outputs": [
    {
     "data": {
      "image/png": "[encoded data removed]",
      "text/plain": [
       "<Figure size 432x432 with 2 Axes>"
      ]
     },
     "metadata": {
      "needs_background": "light"
     },
     "output_type": "display_data"
    }
   ],
   "source": [
    "# Plotting the Confusion Matrix of the tuned LGBM model\n",
    "c_mat = metrics.confusion_matrix(y_test, y_pred) #computing the confusion matrix \n",
    "plt.figure(figsize=(6,6))\n",
    "sns.heatmap(c_mat, annot=True, fmt=\".4f\", linewidths=.6, square = True); \n",
    "plt.ylabel('Actual label');\n",
    "plt.xlabel('Predicted label');\n"
   ]
  },
  {
   "cell_type": "code",
   "execution_count": 109,
   "id": "0bb61791",
   "metadata": {},
   "outputs": [
    {
     "data": {
      "text/plain": [
       "<sklearn.metrics._plot.roc_curve.RocCurveDisplay at 0x2a4b1016580>"
      ]
     },
     "execution_count": 109,
     "metadata": {},
     "output_type": "execute_result"
    },
    {
     "data": {
      "image/png": "[encoded data removed]",
      "text/plain": [
       "<Figure size 1296x720 with 1 Axes>"
      ]
     },
     "metadata": {
      "needs_background": "light"
     },
     "output_type": "display_data"
    }
   ],
   "source": [
    "#ROC curve for the tuned LGBM classifer.\n",
    "roc_auc = roc_auc_score(y_test, tuned_model.predict(X_test))\n",
    "plot_roc_curve(tuned_model, X_test, y_test)"
   ]
  },
  {
   "cell_type": "markdown",
   "id": "6669c51d",
   "metadata": {},
   "source": [
    "#### Tuning of Decision Tree classifier"
   ]
  },
  {
   "cell_type": "code",
   "execution_count": 114,
   "id": "0cca8d80",
   "metadata": {},
   "outputs": [
    {
     "name": "stdout",
     "output_type": "stream",
     "text": [
      "Fitting 4 folds for each of 80 candidates, totalling 320 fits\n"
     ]
    },
    {
     "data": {
      "text/plain": [
       "{'criterion': 'gini', 'max_depth': 20, 'min_samples_leaf': 5}"
      ]
     },
     "execution_count": 114,
     "metadata": {},
     "output_type": "execute_result"
    }
   ],
   "source": [
    "# Here I am trying to Tune the hyperparameters of the Decision tree classifier.\n",
    "dclf = DecisionTreeClassifier(random_state=42)\n",
    "\n",
    "params = {\n",
    "    'max_depth': [2, 3, 5, 8, 10,11,15,20],\n",
    "    'min_samples_leaf': [5, 10, 20, 50, 100],\n",
    "    'criterion': [\"gini\", \"entropy\"]\n",
    "}\n",
    "dclf_cv_model = GridSearchCV(estimator=dclf, \n",
    "                           param_grid=params, \n",
    "                           cv=4, n_jobs=-1, verbose=1, scoring = \"accuracy\").fit(X_resampled,y_resampled)\n",
    "# list of the best parameters.\n",
    "dclf_cv_model.best_params_"
   ]
  },
  {
   "cell_type": "code",
   "execution_count": 110,
   "id": "69582df2",
   "metadata": {},
   "outputs": [
    {
     "name": "stdout",
     "output_type": "stream",
     "text": [
      "Training Set Accuracy: 0.9199899987498438\n",
      "Test Set Accuracy: 0.6876486955119158\n"
     ]
    }
   ],
   "source": [
    "#Running the classifier  based on the tuned hyperparameters\n",
    "dtclf = DecisionTreeClassifier(criterion=\"gini\",max_depth = 20,min_samples_leaf=5)\n",
    "#pipeline containing both the MinMaxScaler() to normalize the input features of training data and model type\n",
    "pipeline = Pipeline([\n",
    "    (\"MinMax Scaling\", MinMaxScaler()),\n",
    "    (\"Decision Tree Classifier\", dtclf)\n",
    "])\n",
    "# Train Decision Tree Classifer\n",
    "pipeline = pipeline.fit(X_resampled,y_resampled)\n",
    "\n",
    "\n",
    "# Predict the response for training dataset\n",
    "y_pred = pipeline.predict(X_resampled)\n",
    "print(\"Training Set Accuracy:\",metrics.accuracy_score(y_resampled, y_pred))\n",
    "\n",
    "# Predict the response for validation dataset\n",
    "y_pred = pipeline.predict(X_test)\n",
    "print(\"Test Set Accuracy:\",metrics.accuracy_score(y_test, y_pred))\n"
   ]
  },
  {
   "cell_type": "code",
   "execution_count": 111,
   "id": "6b8704c9",
   "metadata": {},
   "outputs": [
    {
     "name": "stdout",
     "output_type": "stream",
     "text": [
      "{'0': {'precision': 0.8954684459271616, 'recall': 0.7330116972372673, 'f1-score': 0.8061367504254681, 'support': 21971}, '1': {'precision': 0.1391253302025242, 'recall': 0.3352192362093352, 'f1-score': 0.19663970130678282, 'support': 2828}, 'accuracy': 0.6876486955119158, 'macro avg': {'precision': 0.5172968880648429, 'recall': 0.5341154667233012, 'f1-score': 0.5013882258661254, 'support': 24799}, 'weighted avg': {'precision': 0.8092174547069805, 'recall': 0.6876486955119158, 'f1-score': 0.7366316230046995, 'support': 24799}}\n"
     ]
    }
   ],
   "source": [
    "## Printing the classification report\n",
    "print(classification_report(y_test, y_pred, output_dict=True))"
   ]
  },
  {
   "cell_type": "code",
   "execution_count": 112,
   "id": "3363f66f",
   "metadata": {},
   "outputs": [
    {
     "data": {
      "image/png": "[encoded data removed]",
      "text/plain": [
       "<Figure size 432x432 with 2 Axes>"
      ]
     },
     "metadata": {
      "needs_background": "light"
     },
     "output_type": "display_data"
    }
   ],
   "source": [
    "# Plotting the Confusion Matrix of the tuned Decision Tree model\n",
    "c_mat = metrics.confusion_matrix(y_test, y_pred) #computing the confusion matrix \n",
    "plt.figure(figsize=(6,6))\n",
    "sns.heatmap(c_mat, annot=True, fmt=\".4f\", linewidths=.6, square = True); \n",
    "plt.ylabel('Actual label');\n",
    "plt.xlabel('Predicted label');"
   ]
  },
  {
   "cell_type": "code",
   "execution_count": 113,
   "id": "a35c9d19",
   "metadata": {},
   "outputs": [
    {
     "data": {
      "text/plain": [
       "<sklearn.metrics._plot.roc_curve.RocCurveDisplay at 0x2a4b1b048e0>"
      ]
     },
     "execution_count": 113,
     "metadata": {},
     "output_type": "execute_result"
    },
    {
     "data": {
      "image/png": "[encoded data removed]",
      "text/plain": [
       "<Figure size 1296x720 with 1 Axes>"
      ]
     },
     "metadata": {
      "needs_background": "light"
     },
     "output_type": "display_data"
    }
   ],
   "source": [
    "#ROC curve for the tuned LGBM classifer.\n",
    "roc_auc = roc_auc_score(y_test, dtclf.predict(X_test))\n",
    "plot_roc_curve(dtclf, X_test, y_test)"
   ]
  },
  {
   "cell_type": "markdown",
   "id": "6a1c36eb",
   "metadata": {},
   "source": [
    "## Conclusion.\n",
    "\n",
    "- AUC - ROC curve is a performance measurement for the classification problems at various threshold settings. ROC is a probability curve and AUC represents the degree or measure of separability. It tells how much the model is capable of distinguishing between classes. Higher the AUC, the better the model is at predicting 0 classes as 0 and 1 classes as 1. \n",
    "\n",
    "- Have considered 0.5 as the threshold AUC score. \n",
    "\n",
    "- Based on my analysis of four machine learning algorithms: Logistic Regression, Decision Tree, Random Forest, and LightGBM, in terms of accuracy and AUC value for the ROC curve, the best model for this purpose has been found to be\n",
    "- tuned LightGBM, which yielded an accuracy of 69.22% and AUC score of: 0.55.\n",
    "- the parameters which were found after hyperparameter tuning are : {'learning_rate': 0.05, 'max_depth': 8, 'n_estimators': 100, 'subsample': 0.1}\n",
    "\n",
    "- Some of the features which proved important for classification are: ( 'num_lab_procedures', 'num_medications', 'number_inpatient', 'age', 'discharge_disposition_id_Home', 'diag_1', 'number_outpatient', 'time_in_hospital', 'number_emergency', 'diag_2', 'number_diagnoses', 'diag_3', 'num_procedures', 'diabetesMed', 'A1Cresult', 'admission_source_id_Others', 'max_glu_serum', 'gender_Female', 'glyburide', 'race_Other', 'metformin', 'admission_type_id_Elective', 'acarbose', 'tolazamide', 'repaglinide', 'insulin', 'discharge_disposition_id_Other', 'admission_source_id_Referral', 'glipizide', 'rosiglitazone')\n",
    "\n"
   ]
  },
  {
   "cell_type": "markdown",
   "id": "4b0ab025",
   "metadata": {},
   "source": [
    "## References\n",
    "\n",
    "- https://towardsdatascience.com/machine-learning-with-python-classification-complete-tutorial-d2c99dc524ec\n",
    "- https://www.aapc.com/codes/icd9-codes-range/\n",
    "- https://www.datacamp.com/community/tutorials/decision-tree-classification-python\n",
    "- https://pbpython.com/categorical-encoding.html\n",
    "- https://www.w3schools.com/python/matplotlib_intro.asp\n",
    "- https://elitedatascience.com/python-seaborn-tutorial\n",
    "- https://imbalanced-learn.org/stable/combine.html\n",
    "- https://towardsdatascience.com/how-to-tune-a-decision-tree-f03721801680\n",
    "- https://medium.com/data-science-reporter/feature-selection-via-grid-search-in-supervised-models-4dc0c43d7ab1"
   ]
  },
  {
   "cell_type": "code",
   "execution_count": null,
   "id": "56b68a91",
   "metadata": {},
   "outputs": [],
   "source": []
  }
 ],
 "metadata": {
  "kernelspec": {
   "display_name": "Python 3",
   "language": "python",
   "name": "python3"
  },
  "language_info": {
   "codemirror_mode": {
    "name": "ipython",
    "version": 3
   },
   "file_extension": ".py",
   "mimetype": "text/x-python",
   "name": "python",
   "nbconvert_exporter": "python",
   "pygments_lexer": "ipython3",
   "version": "3.8.8"
  }
 },
 "nbformat": 4,
 "nbformat_minor": 5
}
